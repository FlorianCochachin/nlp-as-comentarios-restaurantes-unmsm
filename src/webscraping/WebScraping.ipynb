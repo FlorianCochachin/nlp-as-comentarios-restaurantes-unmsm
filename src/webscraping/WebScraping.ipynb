{
 "cells": [
  {
   "cell_type": "markdown",
   "id": "a0bcf1f7",
   "metadata": {},
   "source": [
    "PIPELINE DE EXTRACCIÓN DE DATOS"
   ]
  },
  {
   "cell_type": "code",
   "execution_count": 1,
   "id": "1cc89497",
   "metadata": {},
   "outputs": [],
   "source": [
    "from selenium import webdriver\n",
    "from selenium.webdriver.common.keys import Keys\n",
    "from bs4 import BeautifulSoup\n",
    "import pandas as pd\n",
    "from selenium.webdriver.common.action_chains import ActionChains\n",
    "from selenium.common.exceptions import NoSuchElementException\n",
    "from selenium.common.exceptions import ElementNotVisibleException\n",
    "import time \n",
    "import pandas as pd\n",
    "import random, string\n",
    "from selenium.webdriver.common.by import By\n",
    "import re"
   ]
  },
  {
   "cell_type": "code",
   "execution_count": 2,
   "id": "ace273fc",
   "metadata": {},
   "outputs": [
    {
     "name": "stderr",
     "output_type": "stream",
     "text": [
      "/tmp/ipykernel_138461/1814558355.py:1: DeprecationWarning: executable_path has been deprecated, please pass in a Service object\n",
      "  driver = webdriver.Chrome(executable_path='/home/florian/inteligencia-artificial/publicar-investigacion/nlp-as-comentarios-restaurantes-unmsm/chromedriver')\n"
     ]
    }
   ],
   "source": [
    "driver = webdriver.Chrome(executable_path='/home/florian/inteligencia-artificial/publicar-investigacion/nlp-as-comentarios-restaurantes-unmsm/chromedriver')\n",
    "#driver.get(\"https://www.google.com.pe/maps/search/cevicheria/@-12.0626704,-77.029618,13z/data=!3m1!4b1?hl=es-419\");"
   ]
  },
  {
   "cell_type": "markdown",
   "id": "9fc38250",
   "metadata": {},
   "source": [
    "Obtener la estructura de la pagina web página incial"
   ]
  },
  {
   "cell_type": "code",
   "execution_count": 7,
   "id": "d265690e",
   "metadata": {},
   "outputs": [],
   "source": [
    "def saveFile(title, cordenate, stars, comments):\n",
    "    frame = pd.DataFrame({'titulo' : title,'coordenada' : cordenate,'calificacion' : stars, 'comentario' : comments})\n",
    "    file_name = title+\"-\"+str(random.randint(10000, 100000))+\".csv\"\n",
    "    frame.to_csv(file_name, index = None, header=True,encoding='utf-8')\n",
    "\n",
    "def filterQuantity(quantity):\n",
    "    pattern = r'[(,)]'\n",
    "    return int(re.sub(pattern,\"\", quantity)) \n",
    "    "
   ]
  },
  {
   "cell_type": "code",
   "execution_count": 8,
   "id": "8d8b7782",
   "metadata": {},
   "outputs": [],
   "source": [
    "def scrollDown(elemento, numberOfScrollDowns):\n",
    "    while numberOfScrollDowns >=0:\n",
    "        elemento.send_keys(Keys.PAGE_DOWN)\n",
    "        numberOfScrollDowns -= 1\n",
    "        time.sleep(3)\n",
    "    #return browser"
   ]
  },
  {
   "cell_type": "markdown",
   "id": "e2ad4808",
   "metadata": {},
   "source": [
    "PROCESO DE SCRAPING"
   ]
  },
  {
   "cell_type": "code",
   "execution_count": 6,
   "id": "ce90a4a6",
   "metadata": {},
   "outputs": [],
   "source": [
    "driver.get(\"https://www.google.com/maps/search/resturantest+chorrillos/@-12.0773039,-77.1696105,11z/data=!4m2!2m1!6e5\");"
   ]
  },
  {
   "cell_type": "code",
   "execution_count": 9,
   "id": "de02d280",
   "metadata": {},
   "outputs": [
    {
     "name": "stdout",
     "output_type": "stream",
     "text": [
      "==============  El Hornero Chorrillos  ======================\n",
      "============== FIN ======================\n",
      "==============  Dos Peces Restaurante  ======================\n",
      "============== FIN ======================\n",
      "==============  Restaurant SONIA  ======================\n",
      "============== FIN ======================\n",
      "==============  El Paraíso Marino Restaurante | Cevichería  ======================\n",
      "============== FIN ======================\n",
      "==============  D'Garden Restaurant cevicheria  ======================\n",
      "============== FIN ======================\n"
     ]
    }
   ],
   "source": [
    "#inputElement = driver.find_element_by_id(\"searchboxinput\")\n",
    "#inputElement.send_keys('piso 21')\n",
    "page_header = BeautifulSoup(driver.page_source)\n",
    "list_restaurant = page_header.find_all('div', { 'class': 'Nv2PK THOPZb CpccDe' })\n",
    "i = 0\n",
    "for restaurant in list_restaurant:\n",
    "    try:\n",
    "        time.sleep(10)\n",
    "        #page_header = BeautifulSoup(driver.page_source)\n",
    "        title = restaurant.find(\"div\", {\"class\": \"qBF1Pd fontHeadlineSmall\"}).text\n",
    "        print('============== ', title, ' ======================')\n",
    "        quantity = restaurant.find(\"span\", { \"class\": \"UY7F9\" }).text\n",
    "        quantity_reviews = filterQuantity(quantity)\n",
    "        \n",
    "        if(quantity_reviews > 4000):\n",
    "            elem = int(quantity_reviews / 3) - 500\n",
    "        elif quantity_reviews > 1000:\n",
    "            elem = int(quantity_reviews / 3) - 100\n",
    "        else:\n",
    "            elem = int(quantity_reviews / 3)\n",
    "    \n",
    "        elemento = driver.find_elements(By.CLASS_NAME,'Nv2PK')\n",
    "        elemento = elemento[i]\n",
    "        elemento.click()\n",
    "        time.sleep(10)\n",
    "        bottonClick = driver.find_elements(By.XPATH, \"//button[@class='hh2c6 ']\")\n",
    "        bottonClick = bottonClick[0]\n",
    "        bottonClick.click()\n",
    "        time.sleep(10)\n",
    "        #print(BeautifulSoup(driver.page_source))\n",
    "        elementScroll = driver.find_elements(By.XPATH, \"//div[@class='m6QErb DxyBCb kA9KIf dS8AEf ']\")\n",
    "        #print(len(elementScroll), \"##########################\")\n",
    "        scrollDown(elementScroll[0], elem)\n",
    "        \n",
    "        currentURL = driver.current_url;\n",
    "        cordenate = currentURL[currentURL.find('@')+1:currentURL.find('z')+1]\n",
    "        \n",
    "        page_reviews = BeautifulSoup(driver.page_source)\n",
    "        calification = []\n",
    "        comments = []\n",
    "        for item in page_reviews.find_all('div', { 'class': 'jJc9Ad' }):\n",
    "            try:\n",
    "                textSpan = item.find('span', { 'class': 'wiI7pd'}).text\n",
    "            except:\n",
    "                textSpan = None\n",
    "            if textSpan is not None:\n",
    "                comments.append(textSpan)\n",
    "                calification.append(len(item.find_all('img', {'class' : 'hCCjke vzX5Ic'})))\n",
    "        \n",
    "        #comments = [item.text is None if \"\" else item.text for item in page_reviews.find_all('span', {'class' : 'wiI7pd'})]\n",
    "        #stars = [ for item in page_reviews.find_all('span', {'class' : 'kvMYJc'})]\n",
    "        saveFile(title, cordenate, calification, comments)\n",
    "        #closeWindow = driver.find_element(By.XPATH, \"//button[@class='VfPpkd-icon-LgbsSe yHy1rc eT1oJ mN1ivc']\")\n",
    "        #closeWindow.click()\n",
    "        print('============== FIN ======================')\n",
    "    except OSError as err:\n",
    "        print(\"error ->\", err)\n",
    "        #break\n",
    "    except NoSuchElementException as err:\n",
    "        print(\"error ->\", err)\n",
    "        #break\n",
    "    except ElementNotVisibleException as err:\n",
    "        ##exception for page empty\n",
    "        print(\"error ->\", err)\n",
    "        #break\n",
    "    except:\n",
    "        print(\"error ->\", \"Exception general\")\n",
    "    i = i + 1"
   ]
  },
  {
   "cell_type": "code",
   "execution_count": 107,
   "id": "036d6cd0",
   "metadata": {},
   "outputs": [],
   "source": []
  },
  {
   "cell_type": "code",
   "execution_count": null,
   "id": "87b0fed8",
   "metadata": {},
   "outputs": [],
   "source": []
  }
 ],
 "metadata": {
  "kernelspec": {
   "display_name": "Python 3 (ipykernel)",
   "language": "python",
   "name": "python3"
  },
  "language_info": {
   "codemirror_mode": {
    "name": "ipython",
    "version": 3
   },
   "file_extension": ".py",
   "mimetype": "text/x-python",
   "name": "python",
   "nbconvert_exporter": "python",
   "pygments_lexer": "ipython3",
   "version": "3.10.6"
  }
 },
 "nbformat": 4,
 "nbformat_minor": 5
}
