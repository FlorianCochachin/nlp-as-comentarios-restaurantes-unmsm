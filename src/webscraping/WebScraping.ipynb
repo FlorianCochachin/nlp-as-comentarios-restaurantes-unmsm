{
 "cells": [
  {
   "cell_type": "markdown",
   "id": "a0bcf1f7",
   "metadata": {},
   "source": [
    "PIPELINE DE EXTRACCIÓN DE DATOS"
   ]
  },
  {
   "cell_type": "code",
   "execution_count": 71,
   "id": "1cc89497",
   "metadata": {},
   "outputs": [],
   "source": [
    "from selenium import webdriver\n",
    "from selenium.webdriver.common.keys import Keys\n",
    "from bs4 import BeautifulSoup\n",
    "import pandas as pd\n",
    "from selenium.webdriver.common.action_chains import ActionChains\n",
    "from selenium.common.exceptions import NoSuchElementException\n",
    "from selenium.common.exceptions import ElementNotVisibleException\n",
    "import time \n",
    "import pandas as pd\n",
    "import random, string\n",
    "from selenium.webdriver.common.by import By"
   ]
  },
  {
   "cell_type": "code",
   "execution_count": 19,
   "id": "ace273fc",
   "metadata": {},
   "outputs": [
    {
     "name": "stderr",
     "output_type": "stream",
     "text": [
      "/tmp/ipykernel_72409/2206980964.py:1: DeprecationWarning: executable_path has been deprecated, please pass in a Service object\n",
      "  driver = webdriver.Chrome(executable_path='/home/florian/inteligencia-artificial/publicar-investigacion/nlp-as-comentarios-restaurantes-unmsm/chromedriver')\n"
     ]
    }
   ],
   "source": [
    "driver = webdriver.Chrome(executable_path='/home/florian/inteligencia-artificial/publicar-investigacion/nlp-as-comentarios-restaurantes-unmsm/chromedriver')\n",
    "#driver.get(\"https://www.google.com.pe/maps/search/cevicheria/@-12.0626704,-77.029618,13z/data=!3m1!4b1?hl=es-419\");"
   ]
  },
  {
   "cell_type": "markdown",
   "id": "9fc38250",
   "metadata": {},
   "source": [
    "Obtener la estructura de la pagina web página incial"
   ]
  },
  {
   "cell_type": "code",
   "execution_count": 105,
   "id": "d265690e",
   "metadata": {},
   "outputs": [],
   "source": [
    "def saveFile(title, cordenate, stars, comments):\n",
    "    frame = pd.DataFrame({'titulo' : title,'coordenada' : cordenate,'stars' : stars, 'comment' : comments})\n",
    "    file_name = title+\"-\"+str(random.randint(10000, 100000))+\".csv\"\n",
    "    frame.to_csv(file_name, index = None, header=True,encoding='utf-8')\n",
    "    "
   ]
  },
  {
   "cell_type": "code",
   "execution_count": 21,
   "id": "8d8b7782",
   "metadata": {},
   "outputs": [],
   "source": [
    "def scrollDown(elemento, numberOfScrollDowns):\n",
    "    while numberOfScrollDowns >=0:\n",
    "        elemento.send_keys(Keys.PAGE_DOWN)\n",
    "        numberOfScrollDowns -= 1\n",
    "        time.sleep(3)\n",
    "    #return browser"
   ]
  },
  {
   "cell_type": "markdown",
   "id": "e2ad4808",
   "metadata": {},
   "source": [
    "PROCESO DE SCRAPING"
   ]
  },
  {
   "cell_type": "code",
   "execution_count": 154,
   "id": "ce90a4a6",
   "metadata": {},
   "outputs": [],
   "source": [
    "driver.get(\"https://www.google.com/maps/search/restaurant/@-12.1187799,-77.0235511,17z/data=!4m4!2m3!5m1!4e1!6e5\");"
   ]
  },
  {
   "cell_type": "code",
   "execution_count": 156,
   "id": "de02d280",
   "metadata": {},
   "outputs": [
    {
     "name": "stdout",
     "output_type": "stream",
     "text": [
      "3 ####################\n"
     ]
    }
   ],
   "source": [
    "#inputElement = driver.find_element_by_id(\"searchboxinput\")\n",
    "#inputElement.send_keys('piso 21')\n",
    "page_header = BeautifulSoup(driver.page_source)\n",
    "list_restaurant = page_header.find_all('div', { 'class': 'Nv2PK THOPZb CpccDe' })\n",
    "for restaurant in list_restaurant:\n",
    "    try:\n",
    "        time.sleep(10)\n",
    "        #page_header = BeautifulSoup(driver.page_source)\n",
    "        title = restaurant.find(\"div\", {\"class\": \"qBF1Pd fontHeadlineSmall\"}).text\n",
    "        quantity = restaurant.find(\"span\", { \"class\": \"UY7F9\" }).text\n",
    "        quantity_reviews = filterQuantity(quantity)\n",
    "        \n",
    "        if(quantity_reviews > 4000):\n",
    "            elem = int(quantity_reviews / 3) - 500\n",
    "        elif quantity_reviews > 1000:\n",
    "            elem = int(quantity_reviews / 3) - 100\n",
    "        else:\n",
    "            elem = int(quantity_reviews / 3)\n",
    "    \n",
    "        elemento = driver.find_elements(By.CLASS_NAME,'Nv2PK')\n",
    "        elemento = elemento[0]\n",
    "        elemento.click()\n",
    "        time.sleep(10)\n",
    "        bottonClick = driver.find_elements(By.XPATH, \"//button[@class='hh2c6 ']\")\n",
    "        bottonClick = bottonClick[0]\n",
    "        bottonClick.click()\n",
    "        time.sleep(10)\n",
    "        #print(BeautifulSoup(driver.page_source))\n",
    "        elementScroll = driver.find_elements(By.XPATH, \"//div[@class='m6QErb DxyBCb kA9KIf dS8AEf ']\")\n",
    "        #print(len(elementScroll), \"##########################\")\n",
    "        scrollDown(elementScroll[0], 5)\n",
    "        \n",
    "        currentURL = driver.current_url;\n",
    "        cordenate = currentURL[currentURL.find('@')+1:currentURL.find('z')+1]\n",
    "        \n",
    "        page_reviews = BeautifulSoup(driver.page_source)\n",
    "        comments = [item.text for item in page_reviews.find_all('span', {'class' : 'wiI7pd'})]\n",
    "        stars = [len(item.find_all('img', {'class' : 'hCCjke vzX5Ic'})) for item in page_reviews.find_all('span', {'class' : 'kvMYJc'})]\n",
    "        saveFile(title, cordenate, stars, comments)\n",
    "        \n",
    "    except OSError as err:\n",
    "        print(\"error ->\", err)\n",
    "        break\n",
    "    except NoSuchElementException as err:\n",
    "        print(\"error ->\", err)\n",
    "        break\n",
    "    except ElementNotVisibleException as err:\n",
    "        ##exception for page empty\n",
    "        print(\"error ->\", err)\n",
    "        break"
   ]
  },
  {
   "cell_type": "code",
   "execution_count": 107,
   "id": "036d6cd0",
   "metadata": {},
   "outputs": [],
   "source": [
    "import re\n",
    "def filterQuantity(quantity):\n",
    "    pattern = r'[(,)]'\n",
    "    return int(re.sub(pattern,\"\", quantity)) "
   ]
  },
  {
   "cell_type": "code",
   "execution_count": null,
   "id": "87b0fed8",
   "metadata": {},
   "outputs": [],
   "source": []
  }
 ],
 "metadata": {
  "kernelspec": {
   "display_name": "Python 3 (ipykernel)",
   "language": "python",
   "name": "python3"
  },
  "language_info": {
   "codemirror_mode": {
    "name": "ipython",
    "version": 3
   },
   "file_extension": ".py",
   "mimetype": "text/x-python",
   "name": "python",
   "nbconvert_exporter": "python",
   "pygments_lexer": "ipython3",
   "version": "3.10.6"
  }
 },
 "nbformat": 4,
 "nbformat_minor": 5
}
