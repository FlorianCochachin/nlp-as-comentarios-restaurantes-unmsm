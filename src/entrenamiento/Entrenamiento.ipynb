{
 "cells": [
  {
   "cell_type": "code",
   "execution_count": 22,
   "id": "df62ac33",
   "metadata": {},
   "outputs": [],
   "source": [
    "from sklearn.model_selection import train_test_split\n",
    "import pandas as pd\n",
    "import matplotlib.pyplot as plt\n",
    "import numpy as np\n",
    "from imblearn.over_sampling import SMOTE"
   ]
  },
  {
   "cell_type": "code",
   "execution_count": 7,
   "id": "9c9e6005",
   "metadata": {},
   "outputs": [],
   "source": [
    "data_set = pd.read_csv('data_set_restaurantes_comentarios.csv')"
   ]
  },
  {
   "cell_type": "code",
   "execution_count": 8,
   "id": "1c377ff5",
   "metadata": {},
   "outputs": [
    {
     "data": {
      "text/html": [
       "<div>\n",
       "<style scoped>\n",
       "    .dataframe tbody tr th:only-of-type {\n",
       "        vertical-align: middle;\n",
       "    }\n",
       "\n",
       "    .dataframe tbody tr th {\n",
       "        vertical-align: top;\n",
       "    }\n",
       "\n",
       "    .dataframe thead th {\n",
       "        text-align: right;\n",
       "    }\n",
       "</style>\n",
       "<table border=\"1\" class=\"dataframe\">\n",
       "  <thead>\n",
       "    <tr style=\"text-align: right;\">\n",
       "      <th></th>\n",
       "      <th>0</th>\n",
       "      <th>1</th>\n",
       "      <th>2</th>\n",
       "      <th>3</th>\n",
       "      <th>4</th>\n",
       "      <th>5</th>\n",
       "      <th>6</th>\n",
       "      <th>7</th>\n",
       "      <th>8</th>\n",
       "      <th>9</th>\n",
       "      <th>...</th>\n",
       "      <th>91</th>\n",
       "      <th>92</th>\n",
       "      <th>93</th>\n",
       "      <th>94</th>\n",
       "      <th>95</th>\n",
       "      <th>96</th>\n",
       "      <th>97</th>\n",
       "      <th>98</th>\n",
       "      <th>99</th>\n",
       "      <th>100</th>\n",
       "    </tr>\n",
       "  </thead>\n",
       "  <tbody>\n",
       "    <tr>\n",
       "      <th>0</th>\n",
       "      <td>-0.087611</td>\n",
       "      <td>0.245841</td>\n",
       "      <td>0.098854</td>\n",
       "      <td>0.227338</td>\n",
       "      <td>0.079565</td>\n",
       "      <td>-0.527318</td>\n",
       "      <td>0.140466</td>\n",
       "      <td>0.600241</td>\n",
       "      <td>-0.108659</td>\n",
       "      <td>-0.311108</td>\n",
       "      <td>...</td>\n",
       "      <td>0.172034</td>\n",
       "      <td>-0.078203</td>\n",
       "      <td>-0.005088</td>\n",
       "      <td>0.536370</td>\n",
       "      <td>0.281730</td>\n",
       "      <td>0.305118</td>\n",
       "      <td>-0.464667</td>\n",
       "      <td>0.134667</td>\n",
       "      <td>-0.170730</td>\n",
       "      <td>4.0</td>\n",
       "    </tr>\n",
       "    <tr>\n",
       "      <th>1</th>\n",
       "      <td>-0.066027</td>\n",
       "      <td>0.171610</td>\n",
       "      <td>0.081382</td>\n",
       "      <td>0.170564</td>\n",
       "      <td>0.060146</td>\n",
       "      <td>-0.396757</td>\n",
       "      <td>0.063508</td>\n",
       "      <td>0.411752</td>\n",
       "      <td>-0.049774</td>\n",
       "      <td>-0.187983</td>\n",
       "      <td>...</td>\n",
       "      <td>0.121639</td>\n",
       "      <td>-0.063811</td>\n",
       "      <td>0.011788</td>\n",
       "      <td>0.364601</td>\n",
       "      <td>0.191560</td>\n",
       "      <td>0.212709</td>\n",
       "      <td>-0.336335</td>\n",
       "      <td>0.104309</td>\n",
       "      <td>-0.099223</td>\n",
       "      <td>3.0</td>\n",
       "    </tr>\n",
       "    <tr>\n",
       "      <th>2</th>\n",
       "      <td>-0.085084</td>\n",
       "      <td>0.245897</td>\n",
       "      <td>0.103965</td>\n",
       "      <td>0.228153</td>\n",
       "      <td>0.084266</td>\n",
       "      <td>-0.526929</td>\n",
       "      <td>0.144075</td>\n",
       "      <td>0.603114</td>\n",
       "      <td>-0.107866</td>\n",
       "      <td>-0.313817</td>\n",
       "      <td>...</td>\n",
       "      <td>0.172610</td>\n",
       "      <td>-0.074927</td>\n",
       "      <td>-0.006076</td>\n",
       "      <td>0.538414</td>\n",
       "      <td>0.281266</td>\n",
       "      <td>0.310186</td>\n",
       "      <td>-0.466735</td>\n",
       "      <td>0.134801</td>\n",
       "      <td>-0.177632</td>\n",
       "      <td>4.0</td>\n",
       "    </tr>\n",
       "    <tr>\n",
       "      <th>3</th>\n",
       "      <td>-0.078413</td>\n",
       "      <td>0.235320</td>\n",
       "      <td>0.097756</td>\n",
       "      <td>0.216279</td>\n",
       "      <td>0.074272</td>\n",
       "      <td>-0.506491</td>\n",
       "      <td>0.138054</td>\n",
       "      <td>0.572613</td>\n",
       "      <td>-0.101471</td>\n",
       "      <td>-0.299719</td>\n",
       "      <td>...</td>\n",
       "      <td>0.168147</td>\n",
       "      <td>-0.071678</td>\n",
       "      <td>-0.008077</td>\n",
       "      <td>0.520195</td>\n",
       "      <td>0.266866</td>\n",
       "      <td>0.295655</td>\n",
       "      <td>-0.447613</td>\n",
       "      <td>0.131431</td>\n",
       "      <td>-0.167759</td>\n",
       "      <td>5.0</td>\n",
       "    </tr>\n",
       "    <tr>\n",
       "      <th>4</th>\n",
       "      <td>-0.068302</td>\n",
       "      <td>0.187882</td>\n",
       "      <td>0.089218</td>\n",
       "      <td>0.195271</td>\n",
       "      <td>0.062657</td>\n",
       "      <td>-0.433128</td>\n",
       "      <td>0.069227</td>\n",
       "      <td>0.452829</td>\n",
       "      <td>-0.055169</td>\n",
       "      <td>-0.206540</td>\n",
       "      <td>...</td>\n",
       "      <td>0.135550</td>\n",
       "      <td>-0.072702</td>\n",
       "      <td>0.014929</td>\n",
       "      <td>0.404330</td>\n",
       "      <td>0.206867</td>\n",
       "      <td>0.233371</td>\n",
       "      <td>-0.369065</td>\n",
       "      <td>0.116603</td>\n",
       "      <td>-0.105865</td>\n",
       "      <td>1.0</td>\n",
       "    </tr>\n",
       "  </tbody>\n",
       "</table>\n",
       "<p>5 rows × 101 columns</p>\n",
       "</div>"
      ],
      "text/plain": [
       "          0         1         2         3         4         5         6   \n",
       "0 -0.087611  0.245841  0.098854  0.227338  0.079565 -0.527318  0.140466  \\\n",
       "1 -0.066027  0.171610  0.081382  0.170564  0.060146 -0.396757  0.063508   \n",
       "2 -0.085084  0.245897  0.103965  0.228153  0.084266 -0.526929  0.144075   \n",
       "3 -0.078413  0.235320  0.097756  0.216279  0.074272 -0.506491  0.138054   \n",
       "4 -0.068302  0.187882  0.089218  0.195271  0.062657 -0.433128  0.069227   \n",
       "\n",
       "          7         8         9  ...        91        92        93        94   \n",
       "0  0.600241 -0.108659 -0.311108  ...  0.172034 -0.078203 -0.005088  0.536370  \\\n",
       "1  0.411752 -0.049774 -0.187983  ...  0.121639 -0.063811  0.011788  0.364601   \n",
       "2  0.603114 -0.107866 -0.313817  ...  0.172610 -0.074927 -0.006076  0.538414   \n",
       "3  0.572613 -0.101471 -0.299719  ...  0.168147 -0.071678 -0.008077  0.520195   \n",
       "4  0.452829 -0.055169 -0.206540  ...  0.135550 -0.072702  0.014929  0.404330   \n",
       "\n",
       "         95        96        97        98        99  100  \n",
       "0  0.281730  0.305118 -0.464667  0.134667 -0.170730  4.0  \n",
       "1  0.191560  0.212709 -0.336335  0.104309 -0.099223  3.0  \n",
       "2  0.281266  0.310186 -0.466735  0.134801 -0.177632  4.0  \n",
       "3  0.266866  0.295655 -0.447613  0.131431 -0.167759  5.0  \n",
       "4  0.206867  0.233371 -0.369065  0.116603 -0.105865  1.0  \n",
       "\n",
       "[5 rows x 101 columns]"
      ]
     },
     "execution_count": 8,
     "metadata": {},
     "output_type": "execute_result"
    }
   ],
   "source": [
    "data_set.head(5)"
   ]
  },
  {
   "cell_type": "code",
   "execution_count": 14,
   "id": "d6cc3e78",
   "metadata": {},
   "outputs": [],
   "source": [
    "columns = [ str(i) for i in range(100) ]\n",
    "X = data_set[columns]\n",
    "y = data_set['100']\n",
    "X_train, X_test, y_train, y_test = train_test_split(X, y, test_size=0.2, stratify=y)"
   ]
  },
  {
   "cell_type": "code",
   "execution_count": 21,
   "id": "629a779b",
   "metadata": {},
   "outputs": [
    {
     "data": {
      "text/plain": [
       "Text(0.5, 1.0, 'Histograma')"
      ]
     },
     "execution_count": 21,
     "metadata": {},
     "output_type": "execute_result"
    },
    {
     "data": {
      "image/png": "[encoded data removed]",
      "text/plain": [
       "<Figure size 640x480 with 1 Axes>"
      ]
     },
     "metadata": {},
     "output_type": "display_data"
    }
   ],
   "source": [
    "unique_categories_train, category_counts = np.unique(y_train, return_counts=True)\n",
    "plt.bar(unique_categories_train, category_counts)\n",
    "plt.xlabel('calificación')\n",
    "plt.ylabel('Frecuencia')\n",
    "plt.title('Histograma')"
   ]
  },
  {
   "cell_type": "code",
   "execution_count": 23,
   "id": "bcd1bec3",
   "metadata": {},
   "outputs": [],
   "source": [
    "smote = SMOTE()\n",
    "X_resampled, y_resampled = smote.fit_resample(X_train, y_train)"
   ]
  },
  {
   "cell_type": "code",
   "execution_count": 24,
   "id": "90d0425a",
   "metadata": {},
   "outputs": [
    {
     "data": {
      "text/plain": [
       "Text(0.5, 1.0, 'Histograma')"
      ]
     },
     "execution_count": 24,
     "metadata": {},
     "output_type": "execute_result"
    },
    {
     "data": {
      "image/png": "[encoded data removed]",
      "text/plain": [
       "<Figure size 640x480 with 1 Axes>"
      ]
     },
     "metadata": {},
     "output_type": "display_data"
    }
   ],
   "source": [
    "unique_categories_resampled, category_counts = np.unique(y_resampled, return_counts=True)\n",
    "plt.bar(unique_categories_resampled, category_counts)\n",
    "plt.xlabel('calificación')\n",
    "plt.ylabel('Frecuencia')\n",
    "plt.title('Histograma')"
   ]
  },
  {
   "cell_type": "code",
   "execution_count": 25,
   "id": "67dab3be",
   "metadata": {},
   "outputs": [
    {
     "data": {
      "text/plain": [
       "Text(0.5, 1.0, 'Histograma')"
      ]
     },
     "execution_count": 25,
     "metadata": {},
     "output_type": "execute_result"
    },
    {
     "data": {
      "image/png": "[encoded data removed]",
      "text/plain": [
       "<Figure size 640x480 with 1 Axes>"
      ]
     },
     "metadata": {},
     "output_type": "display_data"
    }
   ],
   "source": [
    "unique_categories_test, category_counts = np.unique(y_test, return_counts=True)\n",
    "plt.bar(unique_categories_train, category_counts)\n",
    "plt.xlabel('calificación')\n",
    "plt.ylabel('Frecuencia')\n",
    "plt.title('Histograma')"
   ]
  },
  {
   "cell_type": "code",
   "execution_count": null,
   "id": "ae5f9a0b",
   "metadata": {},
   "outputs": [],
   "source": []
  }
 ],
 "metadata": {
  "kernelspec": {
   "display_name": "Python 3 (ipykernel)",
   "language": "python",
   "name": "python3"
  },
  "language_info": {
   "codemirror_mode": {
    "name": "ipython",
    "version": 3
   },
   "file_extension": ".py",
   "mimetype": "text/x-python",
   "name": "python",
   "nbconvert_exporter": "python",
   "pygments_lexer": "ipython3",
   "version": "3.10.6"
  }
 },
 "nbformat": 4,
 "nbformat_minor": 5
}
