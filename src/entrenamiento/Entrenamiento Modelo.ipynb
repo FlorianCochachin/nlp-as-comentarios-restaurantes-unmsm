{
 "cells": [
  {
   "cell_type": "code",
   "execution_count": 3,
   "id": "e59076c7",
   "metadata": {},
   "outputs": [],
   "source": [
    "from sklearn.model_selection import train_test_split, GridSearchCV\n",
    "import pandas as pd\n",
    "import matplotlib.pyplot as plt\n",
    "import numpy as np\n",
    "from imblearn.over_sampling import SMOTE\n",
    "import tensorflow as tf\n",
    "import seaborn as sns"
   ]
  },
  {
   "cell_type": "code",
   "execution_count": 25,
   "id": "1ca5be23",
   "metadata": {},
   "outputs": [],
   "source": [
    "data_set = pd.read_csv('data_set_restaurantes_comentarios_pos_neg.csv')"
   ]
  },
  {
   "cell_type": "code",
   "execution_count": 26,
   "id": "366c80cb",
   "metadata": {},
   "outputs": [
    {
     "data": {
      "text/html": [
       "<div>\n",
       "<style scoped>\n",
       "    .dataframe tbody tr th:only-of-type {\n",
       "        vertical-align: middle;\n",
       "    }\n",
       "\n",
       "    .dataframe tbody tr th {\n",
       "        vertical-align: top;\n",
       "    }\n",
       "\n",
       "    .dataframe thead th {\n",
       "        text-align: right;\n",
       "    }\n",
       "</style>\n",
       "<table border=\"1\" class=\"dataframe\">\n",
       "  <thead>\n",
       "    <tr style=\"text-align: right;\">\n",
       "      <th></th>\n",
       "      <th>0</th>\n",
       "      <th>1</th>\n",
       "      <th>2</th>\n",
       "      <th>3</th>\n",
       "      <th>4</th>\n",
       "      <th>5</th>\n",
       "      <th>6</th>\n",
       "      <th>7</th>\n",
       "      <th>8</th>\n",
       "      <th>9</th>\n",
       "      <th>...</th>\n",
       "      <th>91</th>\n",
       "      <th>92</th>\n",
       "      <th>93</th>\n",
       "      <th>94</th>\n",
       "      <th>95</th>\n",
       "      <th>96</th>\n",
       "      <th>97</th>\n",
       "      <th>98</th>\n",
       "      <th>99</th>\n",
       "      <th>100</th>\n",
       "    </tr>\n",
       "  </thead>\n",
       "  <tbody>\n",
       "    <tr>\n",
       "      <th>0</th>\n",
       "      <td>-0.295587</td>\n",
       "      <td>0.144083</td>\n",
       "      <td>0.176772</td>\n",
       "      <td>0.026896</td>\n",
       "      <td>0.078003</td>\n",
       "      <td>-0.382077</td>\n",
       "      <td>0.238828</td>\n",
       "      <td>0.614175</td>\n",
       "      <td>-0.202114</td>\n",
       "      <td>-0.237280</td>\n",
       "      <td>...</td>\n",
       "      <td>0.175144</td>\n",
       "      <td>0.042817</td>\n",
       "      <td>0.175218</td>\n",
       "      <td>0.696559</td>\n",
       "      <td>0.535637</td>\n",
       "      <td>-0.029580</td>\n",
       "      <td>-0.406479</td>\n",
       "      <td>0.307927</td>\n",
       "      <td>0.072473</td>\n",
       "      <td>1.0</td>\n",
       "    </tr>\n",
       "    <tr>\n",
       "      <th>1</th>\n",
       "      <td>-0.296341</td>\n",
       "      <td>0.142396</td>\n",
       "      <td>0.172736</td>\n",
       "      <td>0.028382</td>\n",
       "      <td>0.073111</td>\n",
       "      <td>-0.375925</td>\n",
       "      <td>0.240175</td>\n",
       "      <td>0.607265</td>\n",
       "      <td>-0.198618</td>\n",
       "      <td>-0.233694</td>\n",
       "      <td>...</td>\n",
       "      <td>0.171890</td>\n",
       "      <td>0.041459</td>\n",
       "      <td>0.173374</td>\n",
       "      <td>0.686505</td>\n",
       "      <td>0.526905</td>\n",
       "      <td>-0.029691</td>\n",
       "      <td>-0.402807</td>\n",
       "      <td>0.297331</td>\n",
       "      <td>0.067954</td>\n",
       "      <td>1.0</td>\n",
       "    </tr>\n",
       "    <tr>\n",
       "      <th>2</th>\n",
       "      <td>-0.327805</td>\n",
       "      <td>0.158564</td>\n",
       "      <td>0.191962</td>\n",
       "      <td>0.031795</td>\n",
       "      <td>0.082672</td>\n",
       "      <td>-0.420016</td>\n",
       "      <td>0.265809</td>\n",
       "      <td>0.676171</td>\n",
       "      <td>-0.220678</td>\n",
       "      <td>-0.258909</td>\n",
       "      <td>...</td>\n",
       "      <td>0.190493</td>\n",
       "      <td>0.045422</td>\n",
       "      <td>0.194045</td>\n",
       "      <td>0.766796</td>\n",
       "      <td>0.590801</td>\n",
       "      <td>-0.034510</td>\n",
       "      <td>-0.448653</td>\n",
       "      <td>0.335305</td>\n",
       "      <td>0.080624</td>\n",
       "      <td>1.0</td>\n",
       "    </tr>\n",
       "    <tr>\n",
       "      <th>3</th>\n",
       "      <td>-0.240621</td>\n",
       "      <td>0.112559</td>\n",
       "      <td>0.148356</td>\n",
       "      <td>0.019190</td>\n",
       "      <td>0.061529</td>\n",
       "      <td>-0.307571</td>\n",
       "      <td>0.188336</td>\n",
       "      <td>0.478218</td>\n",
       "      <td>-0.170541</td>\n",
       "      <td>-0.178176</td>\n",
       "      <td>...</td>\n",
       "      <td>0.144591</td>\n",
       "      <td>0.026286</td>\n",
       "      <td>0.138708</td>\n",
       "      <td>0.557744</td>\n",
       "      <td>0.434264</td>\n",
       "      <td>-0.019678</td>\n",
       "      <td>-0.331639</td>\n",
       "      <td>0.262708</td>\n",
       "      <td>0.051073</td>\n",
       "      <td>0.0</td>\n",
       "    </tr>\n",
       "    <tr>\n",
       "      <th>4</th>\n",
       "      <td>-0.217911</td>\n",
       "      <td>0.105537</td>\n",
       "      <td>0.139424</td>\n",
       "      <td>0.019284</td>\n",
       "      <td>0.061353</td>\n",
       "      <td>-0.280395</td>\n",
       "      <td>0.167077</td>\n",
       "      <td>0.439585</td>\n",
       "      <td>-0.158056</td>\n",
       "      <td>-0.158356</td>\n",
       "      <td>...</td>\n",
       "      <td>0.134627</td>\n",
       "      <td>0.016161</td>\n",
       "      <td>0.124383</td>\n",
       "      <td>0.510772</td>\n",
       "      <td>0.404357</td>\n",
       "      <td>-0.020989</td>\n",
       "      <td>-0.302405</td>\n",
       "      <td>0.246588</td>\n",
       "      <td>0.052305</td>\n",
       "      <td>0.0</td>\n",
       "    </tr>\n",
       "  </tbody>\n",
       "</table>\n",
       "<p>5 rows × 101 columns</p>\n",
       "</div>"
      ],
      "text/plain": [
       "          0         1         2         3         4         5         6   \n",
       "0 -0.295587  0.144083  0.176772  0.026896  0.078003 -0.382077  0.238828  \\\n",
       "1 -0.296341  0.142396  0.172736  0.028382  0.073111 -0.375925  0.240175   \n",
       "2 -0.327805  0.158564  0.191962  0.031795  0.082672 -0.420016  0.265809   \n",
       "3 -0.240621  0.112559  0.148356  0.019190  0.061529 -0.307571  0.188336   \n",
       "4 -0.217911  0.105537  0.139424  0.019284  0.061353 -0.280395  0.167077   \n",
       "\n",
       "          7         8         9  ...        91        92        93        94   \n",
       "0  0.614175 -0.202114 -0.237280  ...  0.175144  0.042817  0.175218  0.696559  \\\n",
       "1  0.607265 -0.198618 -0.233694  ...  0.171890  0.041459  0.173374  0.686505   \n",
       "2  0.676171 -0.220678 -0.258909  ...  0.190493  0.045422  0.194045  0.766796   \n",
       "3  0.478218 -0.170541 -0.178176  ...  0.144591  0.026286  0.138708  0.557744   \n",
       "4  0.439585 -0.158056 -0.158356  ...  0.134627  0.016161  0.124383  0.510772   \n",
       "\n",
       "         95        96        97        98        99  100  \n",
       "0  0.535637 -0.029580 -0.406479  0.307927  0.072473  1.0  \n",
       "1  0.526905 -0.029691 -0.402807  0.297331  0.067954  1.0  \n",
       "2  0.590801 -0.034510 -0.448653  0.335305  0.080624  1.0  \n",
       "3  0.434264 -0.019678 -0.331639  0.262708  0.051073  0.0  \n",
       "4  0.404357 -0.020989 -0.302405  0.246588  0.052305  0.0  \n",
       "\n",
       "[5 rows x 101 columns]"
      ]
     },
     "execution_count": 26,
     "metadata": {},
     "output_type": "execute_result"
    }
   ],
   "source": [
    "data_set.head(5)"
   ]
  },
  {
   "cell_type": "code",
   "execution_count": 27,
   "id": "df0051b6",
   "metadata": {},
   "outputs": [],
   "source": [
    "columns = [ str(i) for i in range(100) ]\n",
    "X = data_set[columns]\n",
    "y = data_set['100']\n",
    "X_train, X_test, y_train, y_test = train_test_split(X, y, test_size=0.2, stratify=y)"
   ]
  },
  {
   "cell_type": "code",
   "execution_count": 28,
   "id": "5cdb57f9",
   "metadata": {},
   "outputs": [
    {
     "data": {
      "text/plain": [
       "Text(0.5, 1.0, 'Histograma')"
      ]
     },
     "execution_count": 28,
     "metadata": {},
     "output_type": "execute_result"
    },
    {
     "data": {
      "image/png": "[encoded data removed]",
      "text/plain": [
       "<Figure size 640x480 with 1 Axes>"
      ]
     },
     "metadata": {},
     "output_type": "display_data"
    }
   ],
   "source": [
    "unique_categories_train, category_counts = np.unique(y_train, return_counts=True)\n",
    "plt.bar(unique_categories_train, category_counts)\n",
    "plt.xlabel('calificación')\n",
    "plt.ylabel('Contador')\n",
    "plt.title('Histograma')"
   ]
  },
  {
   "cell_type": "code",
   "execution_count": 29,
   "id": "a1ab5cea",
   "metadata": {},
   "outputs": [],
   "source": [
    "smote = SMOTE()\n",
    "X_resampled, y_resampled = smote.fit_resample(X_train, y_train)"
   ]
  },
  {
   "cell_type": "code",
   "execution_count": 30,
   "id": "632c4dda",
   "metadata": {},
   "outputs": [
    {
     "data": {
      "text/plain": [
       "Text(0.5, 1.0, 'Histograma')"
      ]
     },
     "execution_count": 30,
     "metadata": {},
     "output_type": "execute_result"
    },
    {
     "data": {
      "image/png": "[encoded data removed]",
      "text/plain": [
       "<Figure size 640x480 with 1 Axes>"
      ]
     },
     "metadata": {},
     "output_type": "display_data"
    }
   ],
   "source": [
    "unique_categories_resampled, category_counts = np.unique(y_resampled, return_counts=True)\n",
    "plt.bar(unique_categories_resampled, category_counts)\n",
    "plt.xlabel('calificación')\n",
    "plt.ylabel('Frecuencia')\n",
    "plt.title('Histograma')"
   ]
  },
  {
   "cell_type": "code",
   "execution_count": 31,
   "id": "60df6be5",
   "metadata": {},
   "outputs": [
    {
     "data": {
      "text/plain": [
       "Text(0.5, 1.0, 'Histograma')"
      ]
     },
     "execution_count": 31,
     "metadata": {},
     "output_type": "execute_result"
    },
    {
     "data": {
      "image/png": "[encoded data removed]",
      "text/plain": [
       "<Figure size 640x480 with 1 Axes>"
      ]
     },
     "metadata": {},
     "output_type": "display_data"
    }
   ],
   "source": [
    "unique_categories_test, category_counts = np.unique(y_test, return_counts=True)\n",
    "plt.bar(unique_categories_train, category_counts)\n",
    "plt.xlabel('calificación')\n",
    "plt.ylabel('Frecuencia')\n",
    "plt.title('Histograma')"
   ]
  },
  {
   "cell_type": "markdown",
   "id": "7d1f6171",
   "metadata": {},
   "source": [
    "MAQUINA DE SOPORTE VECTORIAL SVM"
   ]
  },
  {
   "cell_type": "code",
   "execution_count": 36,
   "id": "338a3096",
   "metadata": {},
   "outputs": [],
   "source": [
    "from sklearn.multiclass import OneVsRestClassifier\n",
    "from sklearn.svm import SVC\n",
    "from sklearn.metrics import accuracy_score\n",
    "from sklearn.metrics import f1_score"
   ]
  },
  {
   "cell_type": "code",
   "execution_count": 38,
   "id": "fca49245",
   "metadata": {},
   "outputs": [
    {
     "name": "stdout",
     "output_type": "stream",
     "text": [
      "Tuneando los hiper-parámetros para f1\n",
      "\n",
      "Los mejores hiper-parámetros encontrados con validación cruzada:\n",
      "\n",
      "{'C': 10, 'kernel': 'linear'}\n",
      "\n",
      "Puntajes de la métrica f1 en el conjunto de validación:\n",
      "\n",
      "0.7151 (+/-0.0173) for {'C': 0.1, 'kernel': 'linear'}\n",
      "0.6946 (+/-0.0182) for {'C': 0.1, 'kernel': 'rbf'}\n",
      "0.6543 (+/-0.0184) for {'C': 0.1, 'kernel': 'poly'}\n",
      "0.7406 (+/-0.0090) for {'C': 1, 'kernel': 'linear'}\n",
      "0.7332 (+/-0.0189) for {'C': 1, 'kernel': 'rbf'}\n",
      "0.7153 (+/-0.0183) for {'C': 1, 'kernel': 'poly'}\n",
      "0.7746 (+/-0.0080) for {'C': 10, 'kernel': 'linear'}\n",
      "0.7601 (+/-0.0056) for {'C': 10, 'kernel': 'rbf'}\n",
      "0.7460 (+/-0.0049) for {'C': 10, 'kernel': 'poly'}\n"
     ]
    }
   ],
   "source": [
    "param_grid = {\n",
    "    'C': [0.1, 1, 10],\n",
    "    'kernel': ['linear', 'rbf', 'poly'],\n",
    "}\n",
    "\n",
    "# Crear una instancia del clasificador SVM\n",
    "svm = SVC(decision_function_shape='ovr')\n",
    "\n",
    "# Realizar la búsqueda en cuadrícula con validación cruzada\n",
    "best_model_svm = gridSearch(svm, param_grid, X_resampled, y_resampled)"
   ]
  },
  {
   "cell_type": "code",
   "execution_count": 40,
   "id": "7b544eca",
   "metadata": {},
   "outputs": [],
   "source": [
    "y_pred = best_model_svm.predict(X_test)"
   ]
  },
  {
   "cell_type": "code",
   "execution_count": 41,
   "id": "bf4fafb8",
   "metadata": {},
   "outputs": [
    {
     "name": "stdout",
     "output_type": "stream",
     "text": [
      "Cuadro de Resumen de Métricas:\n",
      "-----------------------------------\n",
      "Exactitud (Accuracy): 0.73\n",
      "Precisión (Precision): 0.98\n",
      "Recall (Sensibilidad): 0.72\n",
      "F1-Score: 0.83\n",
      "-----------------------------------\n",
      "Matriz de Confusión:\n",
      "[[ 146   25]\n",
      " [ 540 1362]]\n"
     ]
    },
    {
     "data": {
      "image/png": "[encoded data removed]",
      "text/plain": [
       "<Figure size 600x400 with 2 Axes>"
      ]
     },
     "metadata": {},
     "output_type": "display_data"
    }
   ],
   "source": [
    "showMetrics(y_test, y_pred)"
   ]
  },
  {
   "cell_type": "markdown",
   "id": "c30d8abc",
   "metadata": {},
   "source": [
    "Arbol de decisión"
   ]
  },
  {
   "cell_type": "code",
   "execution_count": 42,
   "id": "ce9abf15",
   "metadata": {},
   "outputs": [],
   "source": [
    "from sklearn.tree import DecisionTreeClassifier"
   ]
  },
  {
   "cell_type": "code",
   "execution_count": 43,
   "id": "5cb454ed",
   "metadata": {},
   "outputs": [
    {
     "name": "stdout",
     "output_type": "stream",
     "text": [
      "Tuneando los hiper-parámetros para f1\n",
      "\n",
      "Los mejores hiper-parámetros encontrados con validación cruzada:\n",
      "\n",
      "{'criterion': 'gini', 'max_depth': 7, 'min_samples_leaf': 1, 'min_samples_split': 2}\n",
      "\n",
      "Puntajes de la métrica f1 en el conjunto de validación:\n",
      "\n",
      "0.7293 (+/-0.0111) for {'criterion': 'gini', 'max_depth': 3, 'min_samples_leaf': 1, 'min_samples_split': 2}\n",
      "0.7293 (+/-0.0111) for {'criterion': 'gini', 'max_depth': 3, 'min_samples_leaf': 1, 'min_samples_split': 5}\n",
      "0.7293 (+/-0.0111) for {'criterion': 'gini', 'max_depth': 3, 'min_samples_leaf': 1, 'min_samples_split': 10}\n",
      "0.7293 (+/-0.0111) for {'criterion': 'gini', 'max_depth': 3, 'min_samples_leaf': 2, 'min_samples_split': 2}\n",
      "0.7293 (+/-0.0111) for {'criterion': 'gini', 'max_depth': 3, 'min_samples_leaf': 2, 'min_samples_split': 5}\n",
      "0.7293 (+/-0.0111) for {'criterion': 'gini', 'max_depth': 3, 'min_samples_leaf': 2, 'min_samples_split': 10}\n",
      "0.7293 (+/-0.0111) for {'criterion': 'gini', 'max_depth': 3, 'min_samples_leaf': 4, 'min_samples_split': 2}\n",
      "0.7293 (+/-0.0111) for {'criterion': 'gini', 'max_depth': 3, 'min_samples_leaf': 4, 'min_samples_split': 5}\n",
      "0.7293 (+/-0.0111) for {'criterion': 'gini', 'max_depth': 3, 'min_samples_leaf': 4, 'min_samples_split': 10}\n",
      "0.7557 (+/-0.0072) for {'criterion': 'gini', 'max_depth': 5, 'min_samples_leaf': 1, 'min_samples_split': 2}\n",
      "0.7557 (+/-0.0068) for {'criterion': 'gini', 'max_depth': 5, 'min_samples_leaf': 1, 'min_samples_split': 5}\n",
      "0.7556 (+/-0.0067) for {'criterion': 'gini', 'max_depth': 5, 'min_samples_leaf': 1, 'min_samples_split': 10}\n",
      "0.7556 (+/-0.0066) for {'criterion': 'gini', 'max_depth': 5, 'min_samples_leaf': 2, 'min_samples_split': 2}\n",
      "0.7556 (+/-0.0066) for {'criterion': 'gini', 'max_depth': 5, 'min_samples_leaf': 2, 'min_samples_split': 5}\n",
      "0.7557 (+/-0.0071) for {'criterion': 'gini', 'max_depth': 5, 'min_samples_leaf': 2, 'min_samples_split': 10}\n",
      "0.7553 (+/-0.0073) for {'criterion': 'gini', 'max_depth': 5, 'min_samples_leaf': 4, 'min_samples_split': 2}\n",
      "0.7554 (+/-0.0074) for {'criterion': 'gini', 'max_depth': 5, 'min_samples_leaf': 4, 'min_samples_split': 5}\n",
      "0.7555 (+/-0.0075) for {'criterion': 'gini', 'max_depth': 5, 'min_samples_leaf': 4, 'min_samples_split': 10}\n",
      "0.7870 (+/-0.0136) for {'criterion': 'gini', 'max_depth': 7, 'min_samples_leaf': 1, 'min_samples_split': 2}\n",
      "0.7867 (+/-0.0150) for {'criterion': 'gini', 'max_depth': 7, 'min_samples_leaf': 1, 'min_samples_split': 5}\n",
      "0.7862 (+/-0.0156) for {'criterion': 'gini', 'max_depth': 7, 'min_samples_leaf': 1, 'min_samples_split': 10}\n",
      "0.7863 (+/-0.0123) for {'criterion': 'gini', 'max_depth': 7, 'min_samples_leaf': 2, 'min_samples_split': 2}\n",
      "0.7863 (+/-0.0145) for {'criterion': 'gini', 'max_depth': 7, 'min_samples_leaf': 2, 'min_samples_split': 5}\n",
      "0.7863 (+/-0.0153) for {'criterion': 'gini', 'max_depth': 7, 'min_samples_leaf': 2, 'min_samples_split': 10}\n",
      "0.7857 (+/-0.0143) for {'criterion': 'gini', 'max_depth': 7, 'min_samples_leaf': 4, 'min_samples_split': 2}\n",
      "0.7859 (+/-0.0139) for {'criterion': 'gini', 'max_depth': 7, 'min_samples_leaf': 4, 'min_samples_split': 5}\n",
      "0.7859 (+/-0.0142) for {'criterion': 'gini', 'max_depth': 7, 'min_samples_leaf': 4, 'min_samples_split': 10}\n",
      "0.7245 (+/-0.0152) for {'criterion': 'entropy', 'max_depth': 3, 'min_samples_leaf': 1, 'min_samples_split': 2}\n",
      "0.7245 (+/-0.0152) for {'criterion': 'entropy', 'max_depth': 3, 'min_samples_leaf': 1, 'min_samples_split': 5}\n",
      "0.7245 (+/-0.0152) for {'criterion': 'entropy', 'max_depth': 3, 'min_samples_leaf': 1, 'min_samples_split': 10}\n",
      "0.7245 (+/-0.0152) for {'criterion': 'entropy', 'max_depth': 3, 'min_samples_leaf': 2, 'min_samples_split': 2}\n",
      "0.7245 (+/-0.0152) for {'criterion': 'entropy', 'max_depth': 3, 'min_samples_leaf': 2, 'min_samples_split': 5}\n",
      "0.7245 (+/-0.0152) for {'criterion': 'entropy', 'max_depth': 3, 'min_samples_leaf': 2, 'min_samples_split': 10}\n",
      "0.7245 (+/-0.0152) for {'criterion': 'entropy', 'max_depth': 3, 'min_samples_leaf': 4, 'min_samples_split': 2}\n",
      "0.7245 (+/-0.0152) for {'criterion': 'entropy', 'max_depth': 3, 'min_samples_leaf': 4, 'min_samples_split': 5}\n",
      "0.7245 (+/-0.0152) for {'criterion': 'entropy', 'max_depth': 3, 'min_samples_leaf': 4, 'min_samples_split': 10}\n",
      "0.7576 (+/-0.0239) for {'criterion': 'entropy', 'max_depth': 5, 'min_samples_leaf': 1, 'min_samples_split': 2}\n",
      "0.7579 (+/-0.0233) for {'criterion': 'entropy', 'max_depth': 5, 'min_samples_leaf': 1, 'min_samples_split': 5}\n",
      "0.7576 (+/-0.0236) for {'criterion': 'entropy', 'max_depth': 5, 'min_samples_leaf': 1, 'min_samples_split': 10}\n",
      "0.7578 (+/-0.0234) for {'criterion': 'entropy', 'max_depth': 5, 'min_samples_leaf': 2, 'min_samples_split': 2}\n",
      "0.7577 (+/-0.0237) for {'criterion': 'entropy', 'max_depth': 5, 'min_samples_leaf': 2, 'min_samples_split': 5}\n",
      "0.7576 (+/-0.0239) for {'criterion': 'entropy', 'max_depth': 5, 'min_samples_leaf': 2, 'min_samples_split': 10}\n",
      "0.7572 (+/-0.0219) for {'criterion': 'entropy', 'max_depth': 5, 'min_samples_leaf': 4, 'min_samples_split': 2}\n",
      "0.7568 (+/-0.0226) for {'criterion': 'entropy', 'max_depth': 5, 'min_samples_leaf': 4, 'min_samples_split': 5}\n",
      "0.7570 (+/-0.0222) for {'criterion': 'entropy', 'max_depth': 5, 'min_samples_leaf': 4, 'min_samples_split': 10}\n",
      "0.7762 (+/-0.0224) for {'criterion': 'entropy', 'max_depth': 7, 'min_samples_leaf': 1, 'min_samples_split': 2}\n",
      "0.7770 (+/-0.0222) for {'criterion': 'entropy', 'max_depth': 7, 'min_samples_leaf': 1, 'min_samples_split': 5}\n",
      "0.7749 (+/-0.0241) for {'criterion': 'entropy', 'max_depth': 7, 'min_samples_leaf': 1, 'min_samples_split': 10}\n",
      "0.7765 (+/-0.0232) for {'criterion': 'entropy', 'max_depth': 7, 'min_samples_leaf': 2, 'min_samples_split': 2}\n",
      "0.7755 (+/-0.0236) for {'criterion': 'entropy', 'max_depth': 7, 'min_samples_leaf': 2, 'min_samples_split': 5}\n",
      "0.7758 (+/-0.0223) for {'criterion': 'entropy', 'max_depth': 7, 'min_samples_leaf': 2, 'min_samples_split': 10}\n",
      "0.7754 (+/-0.0231) for {'criterion': 'entropy', 'max_depth': 7, 'min_samples_leaf': 4, 'min_samples_split': 2}\n",
      "0.7753 (+/-0.0217) for {'criterion': 'entropy', 'max_depth': 7, 'min_samples_leaf': 4, 'min_samples_split': 5}\n",
      "0.7758 (+/-0.0223) for {'criterion': 'entropy', 'max_depth': 7, 'min_samples_leaf': 4, 'min_samples_split': 10}\n"
     ]
    }
   ],
   "source": [
    "# Entrenar el modelo utilizando los datos de entrenamiento\n",
    "parametros = {\n",
    "    'criterion': ['gini', 'entropy'],\n",
    "    'max_depth': [3, 5, 7],\n",
    "    'min_samples_split': [2, 5, 10],\n",
    "    'min_samples_leaf': [1, 2, 4]\n",
    "}\n",
    "\n",
    "# Creamos el clasificador del árbol de decisión\n",
    "arbol_decision = DecisionTreeClassifier()\n",
    "\n",
    "best_model_dt = gridSearch(arbol_decision, parametros, X_resampled, y_resampled)"
   ]
  },
  {
   "cell_type": "code",
   "execution_count": 45,
   "id": "78fb30c5",
   "metadata": {},
   "outputs": [],
   "source": [
    "y_pred_ar = best_model_dt.predict(X_test)"
   ]
  },
  {
   "cell_type": "code",
   "execution_count": 46,
   "id": "da1e9846",
   "metadata": {},
   "outputs": [
    {
     "name": "stdout",
     "output_type": "stream",
     "text": [
      "Cuadro de Resumen de Métricas:\n",
      "-----------------------------------\n",
      "Exactitud (Accuracy): 0.74\n",
      "Precisión (Precision): 0.97\n",
      "Recall (Sensibilidad): 0.74\n",
      "F1-Score: 0.84\n",
      "-----------------------------------\n",
      "Matriz de Confusión:\n",
      "[[ 126   45]\n",
      " [ 501 1401]]\n"
     ]
    },
    {
     "data": {
      "image/png": "[encoded data removed]",
      "text/plain": [
       "<Figure size 600x400 with 2 Axes>"
      ]
     },
     "metadata": {},
     "output_type": "display_data"
    }
   ],
   "source": [
    "showMetrics(y_test, y_pred_ar)"
   ]
  },
  {
   "cell_type": "code",
   "execution_count": 35,
   "id": "ed21fe97",
   "metadata": {},
   "outputs": [],
   "source": [
    "from sklearn.metrics import accuracy_score, precision_score, recall_score, f1_score, confusion_matrix\n",
    "def showMetrics(y_true, y_pred):\n",
    "    accuracy = accuracy_score(y_true, y_pred)\n",
    "    precision = precision_score(y_true, y_pred)\n",
    "    recall = recall_score(y_true, y_pred)\n",
    "    f1 = f1_score(y_true, y_pred)\n",
    "    conf_matrix = confusion_matrix(y_true, y_pred)\n",
    "    # Imprimiendo el cuadro de resumen\n",
    "    print(\"Cuadro de Resumen de Métricas:\")\n",
    "    print(\"-----------------------------------\")\n",
    "    print(f\"Exactitud (Accuracy): {accuracy:.2f}\")\n",
    "    print(f\"Precisión (Precision): {precision:.2f}\")\n",
    "    print(f\"Recall (Sensibilidad): {recall:.2f}\")\n",
    "    print(f\"F1-Score: {f1:.2f}\")\n",
    "    print(\"-----------------------------------\")\n",
    "    print(\"Matriz de Confusión:\")\n",
    "    print(conf_matrix)\n",
    "    class_labels = [0,1]\n",
    "    plt.figure(figsize=(6, 4))\n",
    "    sns.heatmap(conf_matrix, annot=True, cmap='Blues', fmt='d', xticklabels=class_labels, yticklabels=class_labels)\n",
    "    plt.xlabel('Valores de predicción')\n",
    "    plt.ylabel('Valores reales')\n",
    "    plt.title('Matriz de Confusión')\n",
    "    plt.show()"
   ]
  },
  {
   "cell_type": "code",
   "execution_count": 34,
   "id": "56d5572f",
   "metadata": {},
   "outputs": [],
   "source": [
    "def gridSearch(model, hiper, X_train, y_train):\n",
    "    grid_search = GridSearchCV(estimator = model,\n",
    "                           param_grid = hiper,\n",
    "                           scoring = 'f1',\n",
    "                           cv = 5)\n",
    "    grid_search.fit(X_train, y_train)\n",
    "    \n",
    "    print('Tuneando los hiper-parámetros para f1')\n",
    "    print()\n",
    "\n",
    "    print('Los mejores hiper-parámetros encontrados con validación cruzada:')\n",
    "    print()\n",
    "    print(grid_search.best_params_)\n",
    "    print()\n",
    "    print('Puntajes de la métrica f1 en el conjunto de validación:')\n",
    "    print()\n",
    "    means = grid_search.cv_results_['mean_test_score']\n",
    "    stds = grid_search.cv_results_['std_test_score']\n",
    "    for mean, std, params in zip(means, stds, grid_search.cv_results_['params']):\n",
    "        print('%0.4f (+/-%0.04f) for %r'% (mean, std * 2, params))\n",
    "    \n",
    "    return grid_search"
   ]
  },
  {
   "cell_type": "markdown",
   "id": "d5acfbab",
   "metadata": {},
   "source": [
    "Regresión logistica"
   ]
  },
  {
   "cell_type": "code",
   "execution_count": 47,
   "id": "ec909b0c",
   "metadata": {},
   "outputs": [
    {
     "name": "stderr",
     "output_type": "stream",
     "text": [
      "/home/florian/inteligencia-artificial/publicar-investigacion/nlp-as-comentarios-restaurantes-unmsm/envs/lib/python3.10/site-packages/sklearn/linear_model/_logistic.py:458: ConvergenceWarning: lbfgs failed to converge (status=1):\n",
      "STOP: TOTAL NO. of ITERATIONS REACHED LIMIT.\n",
      "\n",
      "Increase the number of iterations (max_iter) or scale the data as shown in:\n",
      "    https://scikit-learn.org/stable/modules/preprocessing.html\n",
      "Please also refer to the documentation for alternative solver options:\n",
      "    https://scikit-learn.org/stable/modules/linear_model.html#logistic-regression\n",
      "  n_iter_i = _check_optimize_result(\n",
      "/home/florian/inteligencia-artificial/publicar-investigacion/nlp-as-comentarios-restaurantes-unmsm/envs/lib/python3.10/site-packages/sklearn/linear_model/_logistic.py:458: ConvergenceWarning: lbfgs failed to converge (status=1):\n",
      "STOP: TOTAL NO. of ITERATIONS REACHED LIMIT.\n",
      "\n",
      "Increase the number of iterations (max_iter) or scale the data as shown in:\n",
      "    https://scikit-learn.org/stable/modules/preprocessing.html\n",
      "Please also refer to the documentation for alternative solver options:\n",
      "    https://scikit-learn.org/stable/modules/linear_model.html#logistic-regression\n",
      "  n_iter_i = _check_optimize_result(\n",
      "/home/florian/inteligencia-artificial/publicar-investigacion/nlp-as-comentarios-restaurantes-unmsm/envs/lib/python3.10/site-packages/sklearn/linear_model/_logistic.py:458: ConvergenceWarning: lbfgs failed to converge (status=1):\n",
      "STOP: TOTAL NO. of ITERATIONS REACHED LIMIT.\n",
      "\n",
      "Increase the number of iterations (max_iter) or scale the data as shown in:\n",
      "    https://scikit-learn.org/stable/modules/preprocessing.html\n",
      "Please also refer to the documentation for alternative solver options:\n",
      "    https://scikit-learn.org/stable/modules/linear_model.html#logistic-regression\n",
      "  n_iter_i = _check_optimize_result(\n",
      "/home/florian/inteligencia-artificial/publicar-investigacion/nlp-as-comentarios-restaurantes-unmsm/envs/lib/python3.10/site-packages/sklearn/linear_model/_logistic.py:458: ConvergenceWarning: lbfgs failed to converge (status=1):\n",
      "STOP: TOTAL NO. of ITERATIONS REACHED LIMIT.\n",
      "\n",
      "Increase the number of iterations (max_iter) or scale the data as shown in:\n",
      "    https://scikit-learn.org/stable/modules/preprocessing.html\n",
      "Please also refer to the documentation for alternative solver options:\n",
      "    https://scikit-learn.org/stable/modules/linear_model.html#logistic-regression\n",
      "  n_iter_i = _check_optimize_result(\n",
      "/home/florian/inteligencia-artificial/publicar-investigacion/nlp-as-comentarios-restaurantes-unmsm/envs/lib/python3.10/site-packages/sklearn/linear_model/_logistic.py:458: ConvergenceWarning: lbfgs failed to converge (status=1):\n",
      "STOP: TOTAL NO. of ITERATIONS REACHED LIMIT.\n",
      "\n",
      "Increase the number of iterations (max_iter) or scale the data as shown in:\n",
      "    https://scikit-learn.org/stable/modules/preprocessing.html\n",
      "Please also refer to the documentation for alternative solver options:\n",
      "    https://scikit-learn.org/stable/modules/linear_model.html#logistic-regression\n",
      "  n_iter_i = _check_optimize_result(\n",
      "/home/florian/inteligencia-artificial/publicar-investigacion/nlp-as-comentarios-restaurantes-unmsm/envs/lib/python3.10/site-packages/sklearn/linear_model/_logistic.py:458: ConvergenceWarning: lbfgs failed to converge (status=1):\n",
      "STOP: TOTAL NO. of ITERATIONS REACHED LIMIT.\n",
      "\n",
      "Increase the number of iterations (max_iter) or scale the data as shown in:\n",
      "    https://scikit-learn.org/stable/modules/preprocessing.html\n",
      "Please also refer to the documentation for alternative solver options:\n",
      "    https://scikit-learn.org/stable/modules/linear_model.html#logistic-regression\n",
      "  n_iter_i = _check_optimize_result(\n"
     ]
    },
    {
     "name": "stdout",
     "output_type": "stream",
     "text": [
      "Tuneando los hiper-parámetros para f1\n",
      "\n",
      "Los mejores hiper-parámetros encontrados con validación cruzada:\n",
      "\n",
      "{'C': 10, 'max_iter': 100, 'solver': 'lbfgs', 'tol': 0.001}\n",
      "\n",
      "Puntajes de la métrica f1 en el conjunto de validación:\n",
      "\n",
      "0.7016 (+/-0.0170) for {'C': 0.01, 'max_iter': 100, 'solver': 'newton-cg', 'tol': 0.001}\n",
      "0.7016 (+/-0.0170) for {'C': 0.01, 'max_iter': 100, 'solver': 'newton-cg', 'tol': 0.0001}\n",
      "0.7016 (+/-0.0170) for {'C': 0.01, 'max_iter': 100, 'solver': 'newton-cg', 'tol': 0.0001}\n",
      "0.7016 (+/-0.0170) for {'C': 0.01, 'max_iter': 100, 'solver': 'lbfgs', 'tol': 0.001}\n",
      "0.7016 (+/-0.0170) for {'C': 0.01, 'max_iter': 100, 'solver': 'lbfgs', 'tol': 0.0001}\n",
      "0.7016 (+/-0.0170) for {'C': 0.01, 'max_iter': 100, 'solver': 'lbfgs', 'tol': 0.0001}\n",
      "0.7016 (+/-0.0170) for {'C': 0.01, 'max_iter': 200, 'solver': 'newton-cg', 'tol': 0.001}\n",
      "0.7016 (+/-0.0170) for {'C': 0.01, 'max_iter': 200, 'solver': 'newton-cg', 'tol': 0.0001}\n",
      "0.7016 (+/-0.0170) for {'C': 0.01, 'max_iter': 200, 'solver': 'newton-cg', 'tol': 0.0001}\n",
      "0.7016 (+/-0.0170) for {'C': 0.01, 'max_iter': 200, 'solver': 'lbfgs', 'tol': 0.001}\n",
      "0.7016 (+/-0.0170) for {'C': 0.01, 'max_iter': 200, 'solver': 'lbfgs', 'tol': 0.0001}\n",
      "0.7016 (+/-0.0170) for {'C': 0.01, 'max_iter': 200, 'solver': 'lbfgs', 'tol': 0.0001}\n",
      "0.7016 (+/-0.0170) for {'C': 0.01, 'max_iter': 500, 'solver': 'newton-cg', 'tol': 0.001}\n",
      "0.7016 (+/-0.0170) for {'C': 0.01, 'max_iter': 500, 'solver': 'newton-cg', 'tol': 0.0001}\n",
      "0.7016 (+/-0.0170) for {'C': 0.01, 'max_iter': 500, 'solver': 'newton-cg', 'tol': 0.0001}\n",
      "0.7016 (+/-0.0170) for {'C': 0.01, 'max_iter': 500, 'solver': 'lbfgs', 'tol': 0.001}\n",
      "0.7016 (+/-0.0170) for {'C': 0.01, 'max_iter': 500, 'solver': 'lbfgs', 'tol': 0.0001}\n",
      "0.7016 (+/-0.0170) for {'C': 0.01, 'max_iter': 500, 'solver': 'lbfgs', 'tol': 0.0001}\n",
      "0.7016 (+/-0.0170) for {'C': 0.01, 'max_iter': 1000, 'solver': 'newton-cg', 'tol': 0.001}\n",
      "0.7016 (+/-0.0170) for {'C': 0.01, 'max_iter': 1000, 'solver': 'newton-cg', 'tol': 0.0001}\n",
      "0.7016 (+/-0.0170) for {'C': 0.01, 'max_iter': 1000, 'solver': 'newton-cg', 'tol': 0.0001}\n",
      "0.7016 (+/-0.0170) for {'C': 0.01, 'max_iter': 1000, 'solver': 'lbfgs', 'tol': 0.001}\n",
      "0.7016 (+/-0.0170) for {'C': 0.01, 'max_iter': 1000, 'solver': 'lbfgs', 'tol': 0.0001}\n",
      "0.7016 (+/-0.0170) for {'C': 0.01, 'max_iter': 1000, 'solver': 'lbfgs', 'tol': 0.0001}\n",
      "0.7273 (+/-0.0208) for {'C': 0.1, 'max_iter': 100, 'solver': 'newton-cg', 'tol': 0.001}\n",
      "0.7273 (+/-0.0208) for {'C': 0.1, 'max_iter': 100, 'solver': 'newton-cg', 'tol': 0.0001}\n",
      "0.7273 (+/-0.0208) for {'C': 0.1, 'max_iter': 100, 'solver': 'newton-cg', 'tol': 0.0001}\n",
      "0.7273 (+/-0.0207) for {'C': 0.1, 'max_iter': 100, 'solver': 'lbfgs', 'tol': 0.001}\n",
      "0.7273 (+/-0.0207) for {'C': 0.1, 'max_iter': 100, 'solver': 'lbfgs', 'tol': 0.0001}\n",
      "0.7273 (+/-0.0207) for {'C': 0.1, 'max_iter': 100, 'solver': 'lbfgs', 'tol': 0.0001}\n",
      "0.7273 (+/-0.0208) for {'C': 0.1, 'max_iter': 200, 'solver': 'newton-cg', 'tol': 0.001}\n",
      "0.7273 (+/-0.0208) for {'C': 0.1, 'max_iter': 200, 'solver': 'newton-cg', 'tol': 0.0001}\n",
      "0.7273 (+/-0.0208) for {'C': 0.1, 'max_iter': 200, 'solver': 'newton-cg', 'tol': 0.0001}\n",
      "0.7273 (+/-0.0207) for {'C': 0.1, 'max_iter': 200, 'solver': 'lbfgs', 'tol': 0.001}\n",
      "0.7273 (+/-0.0207) for {'C': 0.1, 'max_iter': 200, 'solver': 'lbfgs', 'tol': 0.0001}\n",
      "0.7273 (+/-0.0207) for {'C': 0.1, 'max_iter': 200, 'solver': 'lbfgs', 'tol': 0.0001}\n",
      "0.7273 (+/-0.0208) for {'C': 0.1, 'max_iter': 500, 'solver': 'newton-cg', 'tol': 0.001}\n",
      "0.7273 (+/-0.0208) for {'C': 0.1, 'max_iter': 500, 'solver': 'newton-cg', 'tol': 0.0001}\n",
      "0.7273 (+/-0.0208) for {'C': 0.1, 'max_iter': 500, 'solver': 'newton-cg', 'tol': 0.0001}\n",
      "0.7273 (+/-0.0207) for {'C': 0.1, 'max_iter': 500, 'solver': 'lbfgs', 'tol': 0.001}\n",
      "0.7273 (+/-0.0207) for {'C': 0.1, 'max_iter': 500, 'solver': 'lbfgs', 'tol': 0.0001}\n",
      "0.7273 (+/-0.0207) for {'C': 0.1, 'max_iter': 500, 'solver': 'lbfgs', 'tol': 0.0001}\n",
      "0.7273 (+/-0.0208) for {'C': 0.1, 'max_iter': 1000, 'solver': 'newton-cg', 'tol': 0.001}\n",
      "0.7273 (+/-0.0208) for {'C': 0.1, 'max_iter': 1000, 'solver': 'newton-cg', 'tol': 0.0001}\n",
      "0.7273 (+/-0.0208) for {'C': 0.1, 'max_iter': 1000, 'solver': 'newton-cg', 'tol': 0.0001}\n",
      "0.7273 (+/-0.0207) for {'C': 0.1, 'max_iter': 1000, 'solver': 'lbfgs', 'tol': 0.001}\n",
      "0.7273 (+/-0.0207) for {'C': 0.1, 'max_iter': 1000, 'solver': 'lbfgs', 'tol': 0.0001}\n",
      "0.7273 (+/-0.0207) for {'C': 0.1, 'max_iter': 1000, 'solver': 'lbfgs', 'tol': 0.0001}\n",
      "0.7401 (+/-0.0143) for {'C': 1, 'max_iter': 100, 'solver': 'newton-cg', 'tol': 0.001}\n",
      "0.7401 (+/-0.0143) for {'C': 1, 'max_iter': 100, 'solver': 'newton-cg', 'tol': 0.0001}\n",
      "0.7401 (+/-0.0143) for {'C': 1, 'max_iter': 100, 'solver': 'newton-cg', 'tol': 0.0001}\n",
      "0.7401 (+/-0.0143) for {'C': 1, 'max_iter': 100, 'solver': 'lbfgs', 'tol': 0.001}\n",
      "0.7401 (+/-0.0143) for {'C': 1, 'max_iter': 100, 'solver': 'lbfgs', 'tol': 0.0001}\n",
      "0.7401 (+/-0.0143) for {'C': 1, 'max_iter': 100, 'solver': 'lbfgs', 'tol': 0.0001}\n",
      "0.7401 (+/-0.0143) for {'C': 1, 'max_iter': 200, 'solver': 'newton-cg', 'tol': 0.001}\n",
      "0.7401 (+/-0.0143) for {'C': 1, 'max_iter': 200, 'solver': 'newton-cg', 'tol': 0.0001}\n",
      "0.7401 (+/-0.0143) for {'C': 1, 'max_iter': 200, 'solver': 'newton-cg', 'tol': 0.0001}\n",
      "0.7401 (+/-0.0143) for {'C': 1, 'max_iter': 200, 'solver': 'lbfgs', 'tol': 0.001}\n",
      "0.7401 (+/-0.0143) for {'C': 1, 'max_iter': 200, 'solver': 'lbfgs', 'tol': 0.0001}\n",
      "0.7401 (+/-0.0143) for {'C': 1, 'max_iter': 200, 'solver': 'lbfgs', 'tol': 0.0001}\n",
      "0.7401 (+/-0.0143) for {'C': 1, 'max_iter': 500, 'solver': 'newton-cg', 'tol': 0.001}\n",
      "0.7401 (+/-0.0143) for {'C': 1, 'max_iter': 500, 'solver': 'newton-cg', 'tol': 0.0001}\n",
      "0.7401 (+/-0.0143) for {'C': 1, 'max_iter': 500, 'solver': 'newton-cg', 'tol': 0.0001}\n",
      "0.7401 (+/-0.0143) for {'C': 1, 'max_iter': 500, 'solver': 'lbfgs', 'tol': 0.001}\n",
      "0.7401 (+/-0.0143) for {'C': 1, 'max_iter': 500, 'solver': 'lbfgs', 'tol': 0.0001}\n",
      "0.7401 (+/-0.0143) for {'C': 1, 'max_iter': 500, 'solver': 'lbfgs', 'tol': 0.0001}\n",
      "0.7401 (+/-0.0143) for {'C': 1, 'max_iter': 1000, 'solver': 'newton-cg', 'tol': 0.001}\n",
      "0.7401 (+/-0.0143) for {'C': 1, 'max_iter': 1000, 'solver': 'newton-cg', 'tol': 0.0001}\n",
      "0.7401 (+/-0.0143) for {'C': 1, 'max_iter': 1000, 'solver': 'newton-cg', 'tol': 0.0001}\n",
      "0.7401 (+/-0.0143) for {'C': 1, 'max_iter': 1000, 'solver': 'lbfgs', 'tol': 0.001}\n",
      "0.7401 (+/-0.0143) for {'C': 1, 'max_iter': 1000, 'solver': 'lbfgs', 'tol': 0.0001}\n",
      "0.7401 (+/-0.0143) for {'C': 1, 'max_iter': 1000, 'solver': 'lbfgs', 'tol': 0.0001}\n",
      "0.7717 (+/-0.0078) for {'C': 10, 'max_iter': 100, 'solver': 'newton-cg', 'tol': 0.001}\n",
      "0.7717 (+/-0.0078) for {'C': 10, 'max_iter': 100, 'solver': 'newton-cg', 'tol': 0.0001}\n",
      "0.7717 (+/-0.0078) for {'C': 10, 'max_iter': 100, 'solver': 'newton-cg', 'tol': 0.0001}\n",
      "0.7718 (+/-0.0081) for {'C': 10, 'max_iter': 100, 'solver': 'lbfgs', 'tol': 0.001}\n",
      "0.7718 (+/-0.0081) for {'C': 10, 'max_iter': 100, 'solver': 'lbfgs', 'tol': 0.0001}\n",
      "0.7718 (+/-0.0081) for {'C': 10, 'max_iter': 100, 'solver': 'lbfgs', 'tol': 0.0001}\n",
      "0.7717 (+/-0.0078) for {'C': 10, 'max_iter': 200, 'solver': 'newton-cg', 'tol': 0.001}\n",
      "0.7717 (+/-0.0078) for {'C': 10, 'max_iter': 200, 'solver': 'newton-cg', 'tol': 0.0001}\n",
      "0.7717 (+/-0.0078) for {'C': 10, 'max_iter': 200, 'solver': 'newton-cg', 'tol': 0.0001}\n",
      "0.7717 (+/-0.0077) for {'C': 10, 'max_iter': 200, 'solver': 'lbfgs', 'tol': 0.001}\n",
      "0.7717 (+/-0.0077) for {'C': 10, 'max_iter': 200, 'solver': 'lbfgs', 'tol': 0.0001}\n",
      "0.7717 (+/-0.0077) for {'C': 10, 'max_iter': 200, 'solver': 'lbfgs', 'tol': 0.0001}\n",
      "0.7717 (+/-0.0078) for {'C': 10, 'max_iter': 500, 'solver': 'newton-cg', 'tol': 0.001}\n",
      "0.7717 (+/-0.0078) for {'C': 10, 'max_iter': 500, 'solver': 'newton-cg', 'tol': 0.0001}\n",
      "0.7717 (+/-0.0078) for {'C': 10, 'max_iter': 500, 'solver': 'newton-cg', 'tol': 0.0001}\n",
      "0.7717 (+/-0.0077) for {'C': 10, 'max_iter': 500, 'solver': 'lbfgs', 'tol': 0.001}\n",
      "0.7717 (+/-0.0077) for {'C': 10, 'max_iter': 500, 'solver': 'lbfgs', 'tol': 0.0001}\n",
      "0.7717 (+/-0.0077) for {'C': 10, 'max_iter': 500, 'solver': 'lbfgs', 'tol': 0.0001}\n",
      "0.7717 (+/-0.0078) for {'C': 10, 'max_iter': 1000, 'solver': 'newton-cg', 'tol': 0.001}\n",
      "0.7717 (+/-0.0078) for {'C': 10, 'max_iter': 1000, 'solver': 'newton-cg', 'tol': 0.0001}\n",
      "0.7717 (+/-0.0078) for {'C': 10, 'max_iter': 1000, 'solver': 'newton-cg', 'tol': 0.0001}\n",
      "0.7717 (+/-0.0077) for {'C': 10, 'max_iter': 1000, 'solver': 'lbfgs', 'tol': 0.001}\n",
      "0.7717 (+/-0.0077) for {'C': 10, 'max_iter': 1000, 'solver': 'lbfgs', 'tol': 0.0001}\n",
      "0.7717 (+/-0.0077) for {'C': 10, 'max_iter': 1000, 'solver': 'lbfgs', 'tol': 0.0001}\n"
     ]
    },
    {
     "name": "stderr",
     "output_type": "stream",
     "text": [
      "/home/florian/inteligencia-artificial/publicar-investigacion/nlp-as-comentarios-restaurantes-unmsm/envs/lib/python3.10/site-packages/sklearn/linear_model/_logistic.py:458: ConvergenceWarning: lbfgs failed to converge (status=1):\n",
      "STOP: TOTAL NO. of ITERATIONS REACHED LIMIT.\n",
      "\n",
      "Increase the number of iterations (max_iter) or scale the data as shown in:\n",
      "    https://scikit-learn.org/stable/modules/preprocessing.html\n",
      "Please also refer to the documentation for alternative solver options:\n",
      "    https://scikit-learn.org/stable/modules/linear_model.html#logistic-regression\n",
      "  n_iter_i = _check_optimize_result(\n"
     ]
    }
   ],
   "source": [
    "from sklearn.linear_model import LogisticRegression\n",
    "param_grid = {  \n",
    "    'C': [0.01, 0.1, 1, 10],\n",
    "    'max_iter': [100, 200, 500, 1000],\n",
    "    'solver': ['newton-cg', 'lbfgs'],\n",
    "    'tol': [0.001, 0.0001, 0.0001]\n",
    "}\n",
    "model_RL = LogisticRegression()\n",
    "best_model_RL = gridSearch(model_RL, param_grid, X_resampled, y_resampled)"
   ]
  },
  {
   "cell_type": "code",
   "execution_count": 48,
   "id": "f3eff4b8",
   "metadata": {},
   "outputs": [],
   "source": [
    "y_pred_rl = best_model_RL.predict(X_test)"
   ]
  },
  {
   "cell_type": "code",
   "execution_count": 49,
   "id": "e004a0a6",
   "metadata": {},
   "outputs": [
    {
     "name": "stdout",
     "output_type": "stream",
     "text": [
      "Cuadro de Resumen de Métricas:\n",
      "-----------------------------------\n",
      "Exactitud (Accuracy): 0.72\n",
      "Precisión (Precision): 0.98\n",
      "Recall (Sensibilidad): 0.71\n",
      "F1-Score: 0.82\n",
      "-----------------------------------\n",
      "Matriz de Confusión:\n",
      "[[ 143   28]\n",
      " [ 549 1353]]\n"
     ]
    },
    {
     "data": {
      "image/png": "[encoded data removed]",
      "text/plain": [
       "<Figure size 600x400 with 2 Axes>"
      ]
     },
     "metadata": {},
     "output_type": "display_data"
    }
   ],
   "source": [
    "showMetrics(y_test, y_pred_rl)"
   ]
  },
  {
   "cell_type": "code",
   "execution_count": 51,
   "id": "0a6e4b8b",
   "metadata": {},
   "outputs": [
    {
     "name": "stderr",
     "output_type": "stream",
     "text": [
      "/home/florian/inteligencia-artificial/publicar-investigacion/nlp-as-comentarios-restaurantes-unmsm/envs/lib/python3.10/site-packages/sklearn/neural_network/_multilayer_perceptron.py:541: ConvergenceWarning: lbfgs failed to converge (status=1):\n",
      "STOP: TOTAL NO. of ITERATIONS REACHED LIMIT.\n",
      "\n",
      "Increase the number of iterations (max_iter) or scale the data as shown in:\n",
      "    https://scikit-learn.org/stable/modules/preprocessing.html\n",
      "  self.n_iter_ = _check_optimize_result(\"lbfgs\", opt_res, self.max_iter)\n",
      "/home/florian/inteligencia-artificial/publicar-investigacion/nlp-as-comentarios-restaurantes-unmsm/envs/lib/python3.10/site-packages/sklearn/neural_network/_multilayer_perceptron.py:541: ConvergenceWarning: lbfgs failed to converge (status=1):\n",
      "STOP: TOTAL NO. of ITERATIONS REACHED LIMIT.\n",
      "\n",
      "Increase the number of iterations (max_iter) or scale the data as shown in:\n",
      "    https://scikit-learn.org/stable/modules/preprocessing.html\n",
      "  self.n_iter_ = _check_optimize_result(\"lbfgs\", opt_res, self.max_iter)\n",
      "/home/florian/inteligencia-artificial/publicar-investigacion/nlp-as-comentarios-restaurantes-unmsm/envs/lib/python3.10/site-packages/sklearn/neural_network/_multilayer_perceptron.py:541: ConvergenceWarning: lbfgs failed to converge (status=1):\n",
      "STOP: TOTAL NO. of ITERATIONS REACHED LIMIT.\n",
      "\n",
      "Increase the number of iterations (max_iter) or scale the data as shown in:\n",
      "    https://scikit-learn.org/stable/modules/preprocessing.html\n",
      "  self.n_iter_ = _check_optimize_result(\"lbfgs\", opt_res, self.max_iter)\n",
      "/home/florian/inteligencia-artificial/publicar-investigacion/nlp-as-comentarios-restaurantes-unmsm/envs/lib/python3.10/site-packages/sklearn/neural_network/_multilayer_perceptron.py:541: ConvergenceWarning: lbfgs failed to converge (status=1):\n",
      "STOP: TOTAL NO. of ITERATIONS REACHED LIMIT.\n",
      "\n",
      "Increase the number of iterations (max_iter) or scale the data as shown in:\n",
      "    https://scikit-learn.org/stable/modules/preprocessing.html\n",
      "  self.n_iter_ = _check_optimize_result(\"lbfgs\", opt_res, self.max_iter)\n",
      "/home/florian/inteligencia-artificial/publicar-investigacion/nlp-as-comentarios-restaurantes-unmsm/envs/lib/python3.10/site-packages/sklearn/neural_network/_multilayer_perceptron.py:541: ConvergenceWarning: lbfgs failed to converge (status=1):\n",
      "STOP: TOTAL NO. of ITERATIONS REACHED LIMIT.\n",
      "\n",
      "Increase the number of iterations (max_iter) or scale the data as shown in:\n",
      "    https://scikit-learn.org/stable/modules/preprocessing.html\n",
      "  self.n_iter_ = _check_optimize_result(\"lbfgs\", opt_res, self.max_iter)\n",
      "/home/florian/inteligencia-artificial/publicar-investigacion/nlp-as-comentarios-restaurantes-unmsm/envs/lib/python3.10/site-packages/sklearn/neural_network/_multilayer_perceptron.py:541: ConvergenceWarning: lbfgs failed to converge (status=1):\n",
      "STOP: TOTAL NO. of ITERATIONS REACHED LIMIT.\n",
      "\n",
      "Increase the number of iterations (max_iter) or scale the data as shown in:\n",
      "    https://scikit-learn.org/stable/modules/preprocessing.html\n",
      "  self.n_iter_ = _check_optimize_result(\"lbfgs\", opt_res, self.max_iter)\n",
      "/home/florian/inteligencia-artificial/publicar-investigacion/nlp-as-comentarios-restaurantes-unmsm/envs/lib/python3.10/site-packages/sklearn/neural_network/_multilayer_perceptron.py:541: ConvergenceWarning: lbfgs failed to converge (status=1):\n",
      "STOP: TOTAL NO. of ITERATIONS REACHED LIMIT.\n",
      "\n",
      "Increase the number of iterations (max_iter) or scale the data as shown in:\n",
      "    https://scikit-learn.org/stable/modules/preprocessing.html\n",
      "  self.n_iter_ = _check_optimize_result(\"lbfgs\", opt_res, self.max_iter)\n",
      "/home/florian/inteligencia-artificial/publicar-investigacion/nlp-as-comentarios-restaurantes-unmsm/envs/lib/python3.10/site-packages/sklearn/neural_network/_multilayer_perceptron.py:541: ConvergenceWarning: lbfgs failed to converge (status=1):\n",
      "STOP: TOTAL NO. of ITERATIONS REACHED LIMIT.\n",
      "\n",
      "Increase the number of iterations (max_iter) or scale the data as shown in:\n",
      "    https://scikit-learn.org/stable/modules/preprocessing.html\n",
      "  self.n_iter_ = _check_optimize_result(\"lbfgs\", opt_res, self.max_iter)\n",
      "/home/florian/inteligencia-artificial/publicar-investigacion/nlp-as-comentarios-restaurantes-unmsm/envs/lib/python3.10/site-packages/sklearn/neural_network/_multilayer_perceptron.py:541: ConvergenceWarning: lbfgs failed to converge (status=1):\n",
      "STOP: TOTAL NO. of ITERATIONS REACHED LIMIT.\n",
      "\n",
      "Increase the number of iterations (max_iter) or scale the data as shown in:\n",
      "    https://scikit-learn.org/stable/modules/preprocessing.html\n",
      "  self.n_iter_ = _check_optimize_result(\"lbfgs\", opt_res, self.max_iter)\n",
      "/home/florian/inteligencia-artificial/publicar-investigacion/nlp-as-comentarios-restaurantes-unmsm/envs/lib/python3.10/site-packages/sklearn/neural_network/_multilayer_perceptron.py:541: ConvergenceWarning: lbfgs failed to converge (status=1):\n",
      "STOP: TOTAL NO. of ITERATIONS REACHED LIMIT.\n",
      "\n",
      "Increase the number of iterations (max_iter) or scale the data as shown in:\n",
      "    https://scikit-learn.org/stable/modules/preprocessing.html\n",
      "  self.n_iter_ = _check_optimize_result(\"lbfgs\", opt_res, self.max_iter)\n",
      "/home/florian/inteligencia-artificial/publicar-investigacion/nlp-as-comentarios-restaurantes-unmsm/envs/lib/python3.10/site-packages/sklearn/neural_network/_multilayer_perceptron.py:541: ConvergenceWarning: lbfgs failed to converge (status=1):\n",
      "STOP: TOTAL NO. of ITERATIONS REACHED LIMIT.\n",
      "\n",
      "Increase the number of iterations (max_iter) or scale the data as shown in:\n",
      "    https://scikit-learn.org/stable/modules/preprocessing.html\n",
      "  self.n_iter_ = _check_optimize_result(\"lbfgs\", opt_res, self.max_iter)\n",
      "/home/florian/inteligencia-artificial/publicar-investigacion/nlp-as-comentarios-restaurantes-unmsm/envs/lib/python3.10/site-packages/sklearn/neural_network/_multilayer_perceptron.py:541: ConvergenceWarning: lbfgs failed to converge (status=1):\n",
      "STOP: TOTAL NO. of ITERATIONS REACHED LIMIT.\n",
      "\n",
      "Increase the number of iterations (max_iter) or scale the data as shown in:\n",
      "    https://scikit-learn.org/stable/modules/preprocessing.html\n",
      "  self.n_iter_ = _check_optimize_result(\"lbfgs\", opt_res, self.max_iter)\n",
      "/home/florian/inteligencia-artificial/publicar-investigacion/nlp-as-comentarios-restaurantes-unmsm/envs/lib/python3.10/site-packages/sklearn/neural_network/_multilayer_perceptron.py:541: ConvergenceWarning: lbfgs failed to converge (status=1):\n",
      "STOP: TOTAL NO. of ITERATIONS REACHED LIMIT.\n",
      "\n",
      "Increase the number of iterations (max_iter) or scale the data as shown in:\n",
      "    https://scikit-learn.org/stable/modules/preprocessing.html\n",
      "  self.n_iter_ = _check_optimize_result(\"lbfgs\", opt_res, self.max_iter)\n",
      "/home/florian/inteligencia-artificial/publicar-investigacion/nlp-as-comentarios-restaurantes-unmsm/envs/lib/python3.10/site-packages/sklearn/neural_network/_multilayer_perceptron.py:541: ConvergenceWarning: lbfgs failed to converge (status=1):\n",
      "STOP: TOTAL NO. of ITERATIONS REACHED LIMIT.\n",
      "\n",
      "Increase the number of iterations (max_iter) or scale the data as shown in:\n",
      "    https://scikit-learn.org/stable/modules/preprocessing.html\n",
      "  self.n_iter_ = _check_optimize_result(\"lbfgs\", opt_res, self.max_iter)\n",
      "/home/florian/inteligencia-artificial/publicar-investigacion/nlp-as-comentarios-restaurantes-unmsm/envs/lib/python3.10/site-packages/sklearn/neural_network/_multilayer_perceptron.py:541: ConvergenceWarning: lbfgs failed to converge (status=1):\n",
      "STOP: TOTAL NO. of ITERATIONS REACHED LIMIT.\n",
      "\n",
      "Increase the number of iterations (max_iter) or scale the data as shown in:\n",
      "    https://scikit-learn.org/stable/modules/preprocessing.html\n",
      "  self.n_iter_ = _check_optimize_result(\"lbfgs\", opt_res, self.max_iter)\n",
      "/home/florian/inteligencia-artificial/publicar-investigacion/nlp-as-comentarios-restaurantes-unmsm/envs/lib/python3.10/site-packages/sklearn/neural_network/_multilayer_perceptron.py:541: ConvergenceWarning: lbfgs failed to converge (status=1):\n",
      "STOP: TOTAL NO. of ITERATIONS REACHED LIMIT.\n",
      "\n",
      "Increase the number of iterations (max_iter) or scale the data as shown in:\n",
      "    https://scikit-learn.org/stable/modules/preprocessing.html\n",
      "  self.n_iter_ = _check_optimize_result(\"lbfgs\", opt_res, self.max_iter)\n",
      "/home/florian/inteligencia-artificial/publicar-investigacion/nlp-as-comentarios-restaurantes-unmsm/envs/lib/python3.10/site-packages/sklearn/neural_network/_multilayer_perceptron.py:541: ConvergenceWarning: lbfgs failed to converge (status=1):\n",
      "STOP: TOTAL NO. of ITERATIONS REACHED LIMIT.\n",
      "\n",
      "Increase the number of iterations (max_iter) or scale the data as shown in:\n",
      "    https://scikit-learn.org/stable/modules/preprocessing.html\n",
      "  self.n_iter_ = _check_optimize_result(\"lbfgs\", opt_res, self.max_iter)\n"
     ]
    },
    {
     "name": "stderr",
     "output_type": "stream",
     "text": [
      "/home/florian/inteligencia-artificial/publicar-investigacion/nlp-as-comentarios-restaurantes-unmsm/envs/lib/python3.10/site-packages/sklearn/neural_network/_multilayer_perceptron.py:541: ConvergenceWarning: lbfgs failed to converge (status=1):\n",
      "STOP: TOTAL NO. of ITERATIONS REACHED LIMIT.\n",
      "\n",
      "Increase the number of iterations (max_iter) or scale the data as shown in:\n",
      "    https://scikit-learn.org/stable/modules/preprocessing.html\n",
      "  self.n_iter_ = _check_optimize_result(\"lbfgs\", opt_res, self.max_iter)\n",
      "/home/florian/inteligencia-artificial/publicar-investigacion/nlp-as-comentarios-restaurantes-unmsm/envs/lib/python3.10/site-packages/sklearn/neural_network/_multilayer_perceptron.py:541: ConvergenceWarning: lbfgs failed to converge (status=1):\n",
      "STOP: TOTAL NO. of ITERATIONS REACHED LIMIT.\n",
      "\n",
      "Increase the number of iterations (max_iter) or scale the data as shown in:\n",
      "    https://scikit-learn.org/stable/modules/preprocessing.html\n",
      "  self.n_iter_ = _check_optimize_result(\"lbfgs\", opt_res, self.max_iter)\n",
      "/home/florian/inteligencia-artificial/publicar-investigacion/nlp-as-comentarios-restaurantes-unmsm/envs/lib/python3.10/site-packages/sklearn/neural_network/_multilayer_perceptron.py:541: ConvergenceWarning: lbfgs failed to converge (status=1):\n",
      "STOP: TOTAL NO. of ITERATIONS REACHED LIMIT.\n",
      "\n",
      "Increase the number of iterations (max_iter) or scale the data as shown in:\n",
      "    https://scikit-learn.org/stable/modules/preprocessing.html\n",
      "  self.n_iter_ = _check_optimize_result(\"lbfgs\", opt_res, self.max_iter)\n",
      "/home/florian/inteligencia-artificial/publicar-investigacion/nlp-as-comentarios-restaurantes-unmsm/envs/lib/python3.10/site-packages/sklearn/neural_network/_multilayer_perceptron.py:541: ConvergenceWarning: lbfgs failed to converge (status=1):\n",
      "STOP: TOTAL NO. of ITERATIONS REACHED LIMIT.\n",
      "\n",
      "Increase the number of iterations (max_iter) or scale the data as shown in:\n",
      "    https://scikit-learn.org/stable/modules/preprocessing.html\n",
      "  self.n_iter_ = _check_optimize_result(\"lbfgs\", opt_res, self.max_iter)\n",
      "/home/florian/inteligencia-artificial/publicar-investigacion/nlp-as-comentarios-restaurantes-unmsm/envs/lib/python3.10/site-packages/sklearn/neural_network/_multilayer_perceptron.py:541: ConvergenceWarning: lbfgs failed to converge (status=1):\n",
      "STOP: TOTAL NO. of ITERATIONS REACHED LIMIT.\n",
      "\n",
      "Increase the number of iterations (max_iter) or scale the data as shown in:\n",
      "    https://scikit-learn.org/stable/modules/preprocessing.html\n",
      "  self.n_iter_ = _check_optimize_result(\"lbfgs\", opt_res, self.max_iter)\n",
      "/home/florian/inteligencia-artificial/publicar-investigacion/nlp-as-comentarios-restaurantes-unmsm/envs/lib/python3.10/site-packages/sklearn/neural_network/_multilayer_perceptron.py:541: ConvergenceWarning: lbfgs failed to converge (status=1):\n",
      "STOP: TOTAL NO. of ITERATIONS REACHED LIMIT.\n",
      "\n",
      "Increase the number of iterations (max_iter) or scale the data as shown in:\n",
      "    https://scikit-learn.org/stable/modules/preprocessing.html\n",
      "  self.n_iter_ = _check_optimize_result(\"lbfgs\", opt_res, self.max_iter)\n",
      "/home/florian/inteligencia-artificial/publicar-investigacion/nlp-as-comentarios-restaurantes-unmsm/envs/lib/python3.10/site-packages/sklearn/neural_network/_multilayer_perceptron.py:541: ConvergenceWarning: lbfgs failed to converge (status=1):\n",
      "STOP: TOTAL NO. of ITERATIONS REACHED LIMIT.\n",
      "\n",
      "Increase the number of iterations (max_iter) or scale the data as shown in:\n",
      "    https://scikit-learn.org/stable/modules/preprocessing.html\n",
      "  self.n_iter_ = _check_optimize_result(\"lbfgs\", opt_res, self.max_iter)\n",
      "/home/florian/inteligencia-artificial/publicar-investigacion/nlp-as-comentarios-restaurantes-unmsm/envs/lib/python3.10/site-packages/sklearn/neural_network/_multilayer_perceptron.py:541: ConvergenceWarning: lbfgs failed to converge (status=1):\n",
      "STOP: TOTAL NO. of ITERATIONS REACHED LIMIT.\n",
      "\n",
      "Increase the number of iterations (max_iter) or scale the data as shown in:\n",
      "    https://scikit-learn.org/stable/modules/preprocessing.html\n",
      "  self.n_iter_ = _check_optimize_result(\"lbfgs\", opt_res, self.max_iter)\n",
      "/home/florian/inteligencia-artificial/publicar-investigacion/nlp-as-comentarios-restaurantes-unmsm/envs/lib/python3.10/site-packages/sklearn/neural_network/_multilayer_perceptron.py:541: ConvergenceWarning: lbfgs failed to converge (status=1):\n",
      "STOP: TOTAL NO. of ITERATIONS REACHED LIMIT.\n",
      "\n",
      "Increase the number of iterations (max_iter) or scale the data as shown in:\n",
      "    https://scikit-learn.org/stable/modules/preprocessing.html\n",
      "  self.n_iter_ = _check_optimize_result(\"lbfgs\", opt_res, self.max_iter)\n",
      "/home/florian/inteligencia-artificial/publicar-investigacion/nlp-as-comentarios-restaurantes-unmsm/envs/lib/python3.10/site-packages/sklearn/neural_network/_multilayer_perceptron.py:541: ConvergenceWarning: lbfgs failed to converge (status=1):\n",
      "STOP: TOTAL NO. of ITERATIONS REACHED LIMIT.\n",
      "\n",
      "Increase the number of iterations (max_iter) or scale the data as shown in:\n",
      "    https://scikit-learn.org/stable/modules/preprocessing.html\n",
      "  self.n_iter_ = _check_optimize_result(\"lbfgs\", opt_res, self.max_iter)\n",
      "/home/florian/inteligencia-artificial/publicar-investigacion/nlp-as-comentarios-restaurantes-unmsm/envs/lib/python3.10/site-packages/sklearn/neural_network/_multilayer_perceptron.py:541: ConvergenceWarning: lbfgs failed to converge (status=1):\n",
      "STOP: TOTAL NO. of ITERATIONS REACHED LIMIT.\n",
      "\n",
      "Increase the number of iterations (max_iter) or scale the data as shown in:\n",
      "    https://scikit-learn.org/stable/modules/preprocessing.html\n",
      "  self.n_iter_ = _check_optimize_result(\"lbfgs\", opt_res, self.max_iter)\n"
     ]
    },
    {
     "name": "stdout",
     "output_type": "stream",
     "text": [
      "Tuneando los hiper-parámetros para f1\n",
      "\n",
      "Los mejores hiper-parámetros encontrados con validación cruzada:\n",
      "\n",
      "{'activation': 'relu', 'hidden_layer_sizes': (120,), 'max_iter': 500, 'solver': 'lbfgs', 'tol': 0.001}\n",
      "\n",
      "Puntajes de la métrica f1 en el conjunto de validación:\n",
      "\n",
      "0.7266 (+/-0.0173) for {'activation': 'logistic', 'hidden_layer_sizes': (100,), 'max_iter': 200, 'solver': 'lbfgs', 'tol': 0.001}\n",
      "0.7270 (+/-0.0165) for {'activation': 'logistic', 'hidden_layer_sizes': (100,), 'max_iter': 200, 'solver': 'adam', 'tol': 0.001}\n",
      "0.7288 (+/-0.0205) for {'activation': 'logistic', 'hidden_layer_sizes': (100,), 'max_iter': 300, 'solver': 'lbfgs', 'tol': 0.001}\n",
      "0.7359 (+/-0.0248) for {'activation': 'logistic', 'hidden_layer_sizes': (100,), 'max_iter': 300, 'solver': 'adam', 'tol': 0.001}\n",
      "0.7284 (+/-0.0163) for {'activation': 'logistic', 'hidden_layer_sizes': (100,), 'max_iter': 500, 'solver': 'lbfgs', 'tol': 0.001}\n",
      "0.7285 (+/-0.0247) for {'activation': 'logistic', 'hidden_layer_sizes': (100,), 'max_iter': 500, 'solver': 'adam', 'tol': 0.001}\n",
      "0.7277 (+/-0.0170) for {'activation': 'logistic', 'hidden_layer_sizes': (120,), 'max_iter': 200, 'solver': 'lbfgs', 'tol': 0.001}\n",
      "0.7374 (+/-0.0224) for {'activation': 'logistic', 'hidden_layer_sizes': (120,), 'max_iter': 200, 'solver': 'adam', 'tol': 0.001}\n",
      "0.7084 (+/-0.0904) for {'activation': 'logistic', 'hidden_layer_sizes': (120,), 'max_iter': 300, 'solver': 'lbfgs', 'tol': 0.001}\n",
      "0.7396 (+/-0.0210) for {'activation': 'logistic', 'hidden_layer_sizes': (120,), 'max_iter': 300, 'solver': 'adam', 'tol': 0.001}\n",
      "0.7402 (+/-0.0358) for {'activation': 'logistic', 'hidden_layer_sizes': (120,), 'max_iter': 500, 'solver': 'lbfgs', 'tol': 0.001}\n",
      "0.7329 (+/-0.0223) for {'activation': 'logistic', 'hidden_layer_sizes': (120,), 'max_iter': 500, 'solver': 'adam', 'tol': 0.001}\n",
      "0.7987 (+/-0.0223) for {'activation': 'relu', 'hidden_layer_sizes': (100,), 'max_iter': 200, 'solver': 'lbfgs', 'tol': 0.001}\n",
      "0.7813 (+/-0.0149) for {'activation': 'relu', 'hidden_layer_sizes': (100,), 'max_iter': 200, 'solver': 'adam', 'tol': 0.001}\n",
      "0.8095 (+/-0.0186) for {'activation': 'relu', 'hidden_layer_sizes': (100,), 'max_iter': 300, 'solver': 'lbfgs', 'tol': 0.001}\n",
      "0.7796 (+/-0.0091) for {'activation': 'relu', 'hidden_layer_sizes': (100,), 'max_iter': 300, 'solver': 'adam', 'tol': 0.001}\n",
      "0.7973 (+/-0.0650) for {'activation': 'relu', 'hidden_layer_sizes': (100,), 'max_iter': 500, 'solver': 'lbfgs', 'tol': 0.001}\n",
      "0.7779 (+/-0.0173) for {'activation': 'relu', 'hidden_layer_sizes': (100,), 'max_iter': 500, 'solver': 'adam', 'tol': 0.001}\n",
      "0.7911 (+/-0.0099) for {'activation': 'relu', 'hidden_layer_sizes': (120,), 'max_iter': 200, 'solver': 'lbfgs', 'tol': 0.001}\n",
      "0.7770 (+/-0.0211) for {'activation': 'relu', 'hidden_layer_sizes': (120,), 'max_iter': 200, 'solver': 'adam', 'tol': 0.001}\n",
      "0.8051 (+/-0.0199) for {'activation': 'relu', 'hidden_layer_sizes': (120,), 'max_iter': 300, 'solver': 'lbfgs', 'tol': 0.001}\n",
      "0.7835 (+/-0.0098) for {'activation': 'relu', 'hidden_layer_sizes': (120,), 'max_iter': 300, 'solver': 'adam', 'tol': 0.001}\n",
      "0.8177 (+/-0.0139) for {'activation': 'relu', 'hidden_layer_sizes': (120,), 'max_iter': 500, 'solver': 'lbfgs', 'tol': 0.001}\n",
      "0.7766 (+/-0.0285) for {'activation': 'relu', 'hidden_layer_sizes': (120,), 'max_iter': 500, 'solver': 'adam', 'tol': 0.001}\n"
     ]
    },
    {
     "name": "stderr",
     "output_type": "stream",
     "text": [
      "/home/florian/inteligencia-artificial/publicar-investigacion/nlp-as-comentarios-restaurantes-unmsm/envs/lib/python3.10/site-packages/sklearn/neural_network/_multilayer_perceptron.py:541: ConvergenceWarning: lbfgs failed to converge (status=1):\n",
      "STOP: TOTAL NO. of ITERATIONS REACHED LIMIT.\n",
      "\n",
      "Increase the number of iterations (max_iter) or scale the data as shown in:\n",
      "    https://scikit-learn.org/stable/modules/preprocessing.html\n",
      "  self.n_iter_ = _check_optimize_result(\"lbfgs\", opt_res, self.max_iter)\n"
     ]
    }
   ],
   "source": [
    "from sklearn.neural_network import MLPClassifier\n",
    "param_grid = {  \n",
    "    'hidden_layer_sizes': [(100, ), (120, )],\n",
    "    'activation': ['logistic', 'relu'],\n",
    "    'solver': ['lbfgs', 'adam'],\n",
    "    'max_iter': [200, 300, 500],\n",
    "    'tol': [0.001]\n",
    "}\n",
    "modelMLP = MLPClassifier()\n",
    "best_model_MLP = gridSearch(modelMLP, param_grid, X_resampled, y_resampled)"
   ]
  },
  {
   "cell_type": "code",
   "execution_count": 52,
   "id": "272e65dc",
   "metadata": {},
   "outputs": [],
   "source": [
    "y_pred_mlp = best_model_MLP.predict(X_test)"
   ]
  },
  {
   "cell_type": "code",
   "execution_count": 53,
   "id": "ccc8185a",
   "metadata": {},
   "outputs": [
    {
     "name": "stdout",
     "output_type": "stream",
     "text": [
      "Cuadro de Resumen de Métricas:\n",
      "-----------------------------------\n",
      "Exactitud (Accuracy): 0.77\n",
      "Precisión (Precision): 0.98\n",
      "Recall (Sensibilidad): 0.77\n",
      "F1-Score: 0.86\n",
      "-----------------------------------\n",
      "Matriz de Confusión:\n",
      "[[ 136   35]\n",
      " [ 436 1466]]\n"
     ]
    },
    {
     "data": {
      "image/png": "[encoded data removed]",
      "text/plain": [
       "<Figure size 600x400 with 2 Axes>"
      ]
     },
     "metadata": {},
     "output_type": "display_data"
    }
   ],
   "source": [
    "showMetrics(y_test, y_pred_mlp)"
   ]
  },
  {
   "cell_type": "code",
   "execution_count": null,
   "id": "6c32b010",
   "metadata": {},
   "outputs": [],
   "source": []
  }
 ],
 "metadata": {
  "kernelspec": {
   "display_name": "Python 3 (ipykernel)",
   "language": "python",
   "name": "python3"
  },
  "language_info": {
   "codemirror_mode": {
    "name": "ipython",
    "version": 3
   },
   "file_extension": ".py",
   "mimetype": "text/x-python",
   "name": "python",
   "nbconvert_exporter": "python",
   "pygments_lexer": "ipython3",
   "version": "3.10.12"
  }
 },
 "nbformat": 4,
 "nbformat_minor": 5
}
