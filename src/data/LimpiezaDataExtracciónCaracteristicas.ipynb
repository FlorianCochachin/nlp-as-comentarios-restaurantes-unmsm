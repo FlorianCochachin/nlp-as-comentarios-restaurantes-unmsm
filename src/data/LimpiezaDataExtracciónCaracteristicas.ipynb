{
 "cells": [
  {
   "cell_type": "code",
   "execution_count": 1,
   "id": "e5877df8",
   "metadata": {},
   "outputs": [],
   "source": [
    "import pandas as pd\n",
    "import numpy as np\n",
    "import matplotlib.pyplot as plt\n",
    "import os\n",
    "import glob\n",
    "from gensim.models import Word2Vec\n",
    "from gensim.models.word2vec import Text8Corpus\n",
    "from stop_words import get_stop_words\n",
    "from googletrans import Translator\n",
    "from langdetect import detect\n",
    "ROOT_DIR = os.path.abspath(os.curdir)"
   ]
  },
  {
   "cell_type": "markdown",
   "id": "e2bed496",
   "metadata": {},
   "source": [
    "UNIFICACIÓN DE DATOS"
   ]
  },
  {
   "cell_type": "code",
   "execution_count": 2,
   "id": "b9a12505",
   "metadata": {},
   "outputs": [],
   "source": [
    "translator = Translator()\n",
    "def getSpanish( texto ):\n",
    "    try:\n",
    "        language = detect(texto)\n",
    "        if language == 'en':\n",
    "            idioma_origen = translator.detect(texto).lang\n",
    "            traduccion = translator.translate(texto, src=idioma_origen, dest='es')\n",
    "            texto = traduccion.text\n",
    "    except:\n",
    "        print(\"error->\", texto)\n",
    "        texto = \"\"\n",
    "    return texto\n"
   ]
  },
  {
   "cell_type": "code",
   "execution_count": 3,
   "id": "74566829",
   "metadata": {},
   "outputs": [],
   "source": [
    "def getFilesNames():\n",
    "    DIR = os.path.join(ROOT_DIR, \"descargas\")\n",
    "    os.chdir(DIR)\n",
    "    ls = glob.glob(\"*.csv\")\n",
    "    return ls"
   ]
  },
  {
   "cell_type": "code",
   "execution_count": 4,
   "id": "43004490",
   "metadata": {},
   "outputs": [
    {
     "data": {
      "text/html": [
       "<div>\n",
       "<style scoped>\n",
       "    .dataframe tbody tr th:only-of-type {\n",
       "        vertical-align: middle;\n",
       "    }\n",
       "\n",
       "    .dataframe tbody tr th {\n",
       "        vertical-align: top;\n",
       "    }\n",
       "\n",
       "    .dataframe thead th {\n",
       "        text-align: right;\n",
       "    }\n",
       "</style>\n",
       "<table border=\"1\" class=\"dataframe\">\n",
       "  <thead>\n",
       "    <tr style=\"text-align: right;\">\n",
       "      <th></th>\n",
       "      <th>coordenada</th>\n",
       "      <th>calificacion</th>\n",
       "      <th>comentario</th>\n",
       "    </tr>\n",
       "    <tr>\n",
       "      <th>titulo</th>\n",
       "      <th></th>\n",
       "      <th></th>\n",
       "      <th></th>\n",
       "    </tr>\n",
       "  </thead>\n",
       "  <tbody>\n",
       "    <tr>\n",
       "      <th>Restaurant SONIA</th>\n",
       "      <td>-12.0773039,-77.1696105,11z</td>\n",
       "      <td>4</td>\n",
       "      <td>Buena atención y el buen sabor se mantiene, lo...</td>\n",
       "    </tr>\n",
       "    <tr>\n",
       "      <th>Restaurant SONIA</th>\n",
       "      <td>-12.0773039,-77.1696105,11z</td>\n",
       "      <td>3</td>\n",
       "      <td>Nada del otro mundo.\\nRegrese a Sonia después ...</td>\n",
       "    </tr>\n",
       "    <tr>\n",
       "      <th>Restaurant SONIA</th>\n",
       "      <td>-12.0773039,-77.1696105,11z</td>\n",
       "      <td>4</td>\n",
       "      <td>Si bien la comida es deliciosa, quizás los pre...</td>\n",
       "    </tr>\n",
       "    <tr>\n",
       "      <th>Restaurant SONIA</th>\n",
       "      <td>-12.0773039,-77.1696105,11z</td>\n",
       "      <td>5</td>\n",
       "      <td>He vuelto después de muchos años y debo decir ...</td>\n",
       "    </tr>\n",
       "    <tr>\n",
       "      <th>Restaurant SONIA</th>\n",
       "      <td>-12.0773039,-77.1696105,11z</td>\n",
       "      <td>1</td>\n",
       "      <td>Vi los reviews y por eso fuimos probar a este ...</td>\n",
       "    </tr>\n",
       "  </tbody>\n",
       "</table>\n",
       "</div>"
      ],
      "text/plain": [
       "                                   coordenada calificacion   \n",
       "titulo                                                       \n",
       "Restaurant SONIA  -12.0773039,-77.1696105,11z            4  \\\n",
       "Restaurant SONIA  -12.0773039,-77.1696105,11z            3   \n",
       "Restaurant SONIA  -12.0773039,-77.1696105,11z            4   \n",
       "Restaurant SONIA  -12.0773039,-77.1696105,11z            5   \n",
       "Restaurant SONIA  -12.0773039,-77.1696105,11z            1   \n",
       "\n",
       "                                                         comentario  \n",
       "titulo                                                               \n",
       "Restaurant SONIA  Buena atención y el buen sabor se mantiene, lo...  \n",
       "Restaurant SONIA  Nada del otro mundo.\\nRegrese a Sonia después ...  \n",
       "Restaurant SONIA  Si bien la comida es deliciosa, quizás los pre...  \n",
       "Restaurant SONIA  He vuelto después de muchos años y debo decir ...  \n",
       "Restaurant SONIA  Vi los reviews y por eso fuimos probar a este ...  "
      ]
     },
     "execution_count": 4,
     "metadata": {},
     "output_type": "execute_result"
    }
   ],
   "source": [
    "file_name_list = getFilesNames()\n",
    "dataframes = [ pd.read_csv(file,index_col=0) for file in file_name_list ]\n",
    "dataset = pd.concat(dataframes)\n",
    "dataset.head()"
   ]
  },
  {
   "cell_type": "code",
   "execution_count": 5,
   "id": "94b6b804",
   "metadata": {},
   "outputs": [
    {
     "data": {
      "text/html": [
       "<div>\n",
       "<style scoped>\n",
       "    .dataframe tbody tr th:only-of-type {\n",
       "        vertical-align: middle;\n",
       "    }\n",
       "\n",
       "    .dataframe tbody tr th {\n",
       "        vertical-align: top;\n",
       "    }\n",
       "\n",
       "    .dataframe thead th {\n",
       "        text-align: right;\n",
       "    }\n",
       "</style>\n",
       "<table border=\"1\" class=\"dataframe\">\n",
       "  <thead>\n",
       "    <tr style=\"text-align: right;\">\n",
       "      <th></th>\n",
       "      <th>coordenada</th>\n",
       "      <th>calificacion</th>\n",
       "      <th>comentario</th>\n",
       "    </tr>\n",
       "  </thead>\n",
       "  <tbody>\n",
       "    <tr>\n",
       "      <th>count</th>\n",
       "      <td>10664</td>\n",
       "      <td>11350</td>\n",
       "      <td>11350</td>\n",
       "    </tr>\n",
       "    <tr>\n",
       "      <th>unique</th>\n",
       "      <td>17</td>\n",
       "      <td>5</td>\n",
       "      <td>10536</td>\n",
       "    </tr>\n",
       "    <tr>\n",
       "      <th>top</th>\n",
       "      <td>-12.1440338,-77.0758734,13z</td>\n",
       "      <td>5</td>\n",
       "      <td>Muy bueno</td>\n",
       "    </tr>\n",
       "    <tr>\n",
       "      <th>freq</th>\n",
       "      <td>3113</td>\n",
       "      <td>6701</td>\n",
       "      <td>105</td>\n",
       "    </tr>\n",
       "  </tbody>\n",
       "</table>\n",
       "</div>"
      ],
      "text/plain": [
       "                         coordenada  calificacion comentario\n",
       "count                         10664         11350      11350\n",
       "unique                           17             5      10536\n",
       "top     -12.1440338,-77.0758734,13z             5  Muy bueno\n",
       "freq                           3113          6701        105"
      ]
     },
     "execution_count": 5,
     "metadata": {},
     "output_type": "execute_result"
    }
   ],
   "source": [
    "dataset.describe()"
   ]
  },
  {
   "cell_type": "code",
   "execution_count": 6,
   "id": "e9bee441",
   "metadata": {},
   "outputs": [],
   "source": [
    "DIR = os.path.join(ROOT_DIR, \"datajoin\")\n",
    "os.chdir(DIR)\n",
    "dataset.to_csv('restaurantes_comentarios.csv', index=False)"
   ]
  },
  {
   "cell_type": "code",
   "execution_count": 7,
   "id": "96489ccf",
   "metadata": {},
   "outputs": [
    {
     "data": {
      "text/plain": [
       "Text(0.5, 1.0, 'Histograma')"
      ]
     },
     "execution_count": 7,
     "metadata": {},
     "output_type": "execute_result"
    },
    {
     "data": {
      "image/png": "[encoded data removed]",
      "text/plain": [
       "<Figure size 640x480 with 1 Axes>"
      ]
     },
     "metadata": {},
     "output_type": "display_data"
    }
   ],
   "source": [
    "data_calification = dataset['calificacion']\n",
    "unique_categories, category_counts = np.unique(data_calification, return_counts=True)\n",
    "plt.bar(unique_categories, category_counts)\n",
    "plt.xlabel('calificación')\n",
    "plt.ylabel('Frecuencia')\n",
    "plt.title('Histograma')"
   ]
  },
  {
   "cell_type": "code",
   "execution_count": 8,
   "id": "46ec21f6",
   "metadata": {},
   "outputs": [
    {
     "name": "stdout",
     "output_type": "stream",
     "text": [
      "<class 'pandas.core.frame.DataFrame'>\n",
      "Index: 11350 entries, Restaurant SONIA to La Preferida\n",
      "Data columns (total 3 columns):\n",
      " #   Column        Non-Null Count  Dtype \n",
      "---  ------        --------------  ----- \n",
      " 0   coordenada    10664 non-null  object\n",
      " 1   calificacion  11350 non-null  object\n",
      " 2   comentario    11350 non-null  object\n",
      "dtypes: object(3)\n",
      "memory usage: 354.7+ KB\n"
     ]
    }
   ],
   "source": [
    "dataset.info()"
   ]
  },
  {
   "cell_type": "markdown",
   "id": "2a7f055d",
   "metadata": {},
   "source": [
    "Elaboración Corpus linguistico"
   ]
  },
  {
   "cell_type": "code",
   "execution_count": 9,
   "id": "3254c538",
   "metadata": {},
   "outputs": [
    {
     "data": {
      "text/html": [
       "<div>\n",
       "<style scoped>\n",
       "    .dataframe tbody tr th:only-of-type {\n",
       "        vertical-align: middle;\n",
       "    }\n",
       "\n",
       "    .dataframe tbody tr th {\n",
       "        vertical-align: top;\n",
       "    }\n",
       "\n",
       "    .dataframe thead th {\n",
       "        text-align: right;\n",
       "    }\n",
       "</style>\n",
       "<table border=\"1\" class=\"dataframe\">\n",
       "  <thead>\n",
       "    <tr style=\"text-align: right;\">\n",
       "      <th></th>\n",
       "      <th>coordenada</th>\n",
       "      <th>calificacion</th>\n",
       "      <th>comentario</th>\n",
       "    </tr>\n",
       "  </thead>\n",
       "  <tbody>\n",
       "    <tr>\n",
       "      <th>0</th>\n",
       "      <td>-12.0773039,-77.1696105,11z</td>\n",
       "      <td>4</td>\n",
       "      <td>Buena atención y el buen sabor se mantiene, lo...</td>\n",
       "    </tr>\n",
       "    <tr>\n",
       "      <th>1</th>\n",
       "      <td>-12.0773039,-77.1696105,11z</td>\n",
       "      <td>3</td>\n",
       "      <td>Nada del otro mundo.\\nRegrese a Sonia después ...</td>\n",
       "    </tr>\n",
       "    <tr>\n",
       "      <th>2</th>\n",
       "      <td>-12.0773039,-77.1696105,11z</td>\n",
       "      <td>4</td>\n",
       "      <td>Si bien la comida es deliciosa, quizás los pre...</td>\n",
       "    </tr>\n",
       "    <tr>\n",
       "      <th>3</th>\n",
       "      <td>-12.0773039,-77.1696105,11z</td>\n",
       "      <td>5</td>\n",
       "      <td>He vuelto después de muchos años y debo decir ...</td>\n",
       "    </tr>\n",
       "    <tr>\n",
       "      <th>4</th>\n",
       "      <td>-12.0773039,-77.1696105,11z</td>\n",
       "      <td>1</td>\n",
       "      <td>Vi los reviews y por eso fuimos probar a este ...</td>\n",
       "    </tr>\n",
       "  </tbody>\n",
       "</table>\n",
       "</div>"
      ],
      "text/plain": [
       "                    coordenada  calificacion   \n",
       "0  -12.0773039,-77.1696105,11z             4  \\\n",
       "1  -12.0773039,-77.1696105,11z             3   \n",
       "2  -12.0773039,-77.1696105,11z             4   \n",
       "3  -12.0773039,-77.1696105,11z             5   \n",
       "4  -12.0773039,-77.1696105,11z             1   \n",
       "\n",
       "                                          comentario  \n",
       "0  Buena atención y el buen sabor se mantiene, lo...  \n",
       "1  Nada del otro mundo.\\nRegrese a Sonia después ...  \n",
       "2  Si bien la comida es deliciosa, quizás los pre...  \n",
       "3  He vuelto después de muchos años y debo decir ...  \n",
       "4  Vi los reviews y por eso fuimos probar a este ...  "
      ]
     },
     "execution_count": 9,
     "metadata": {},
     "output_type": "execute_result"
    }
   ],
   "source": [
    "data = pd.read_csv('restaurantes_comentarios.csv')\n",
    "data.head()"
   ]
  },
  {
   "cell_type": "code",
   "execution_count": 10,
   "id": "23191a02",
   "metadata": {},
   "outputs": [
    {
     "name": "stdout",
     "output_type": "stream",
     "text": [
      "<class 'pandas.core.frame.DataFrame'>\n",
      "RangeIndex: 11350 entries, 0 to 11349\n",
      "Data columns (total 3 columns):\n",
      " #   Column        Non-Null Count  Dtype \n",
      "---  ------        --------------  ----- \n",
      " 0   coordenada    10664 non-null  object\n",
      " 1   calificacion  11350 non-null  int64 \n",
      " 2   comentario    11350 non-null  object\n",
      "dtypes: int64(1), object(2)\n",
      "memory usage: 266.1+ KB\n"
     ]
    }
   ],
   "source": [
    "data = data[data['comentario'].notnull()]\n",
    "data.info()"
   ]
  },
  {
   "cell_type": "code",
   "execution_count": 12,
   "id": "05c1f9b4",
   "metadata": {},
   "outputs": [],
   "source": [
    "data['comentario'] = data['comentario'].str.lower()"
   ]
  },
  {
   "cell_type": "code",
   "execution_count": 13,
   "id": "002a839b",
   "metadata": {},
   "outputs": [],
   "source": [
    "import re\n",
    "\n",
    "data['comentario_limpio'] = data['comentario'].apply(lambda texto: re.sub(r'[.,;:!()]', '', texto)) \n",
    "data['comentario_limpio'] = data['comentario_limpio'].apply(lambda texto: texto.replace('\\n', ' ')) \n",
    "data['comentario_limpio'] = data['comentario_limpio'].apply(lambda texto: re.sub(r'[^A-Za-zñáéíóúÁÉÍÓÚ\\s]', ' ', texto))"
   ]
  },
  {
   "cell_type": "code",
   "execution_count": 14,
   "id": "8b281316",
   "metadata": {},
   "outputs": [
    {
     "name": "stdout",
     "output_type": "stream",
     "text": [
      "error-> 😋…\n",
      "error-> 👍…\n",
      "error-> 👍…\n",
      "error-> 💖💖💖…\n",
      "error-> 👌🏻…\n",
      "error-> 🔝🔝🔝…\n",
      "error-> 👌💪👍…\n",
      "error-> 👍👍👍…\n",
      "error-> 👍…\n",
      "error-> 👍 👍…\n",
      "error-> 👍…\n",
      "error-> 👏🏼👍🏼…\n",
      "error-> ❤️\n",
      "error-> 👍🏻…\n",
      "error-> 👏🏿👏🏻👋🏽👏👏🏾…\n"
     ]
    }
   ],
   "source": [
    "data['comentario_limpio'] = data['comentario'].apply(lambda texto: getSpanish(texto))"
   ]
  },
  {
   "cell_type": "code",
   "execution_count": 15,
   "id": "527a5d25",
   "metadata": {},
   "outputs": [
    {
     "name": "stdout",
     "output_type": "stream",
     "text": [
      "<class 'pandas.core.frame.DataFrame'>\n",
      "Index: 11335 entries, 0 to 11349\n",
      "Data columns (total 4 columns):\n",
      " #   Column             Non-Null Count  Dtype \n",
      "---  ------             --------------  ----- \n",
      " 0   coordenada         10649 non-null  object\n",
      " 1   calificacion       11335 non-null  int64 \n",
      " 2   comentario         11335 non-null  object\n",
      " 3   comentario_limpio  11335 non-null  object\n",
      "dtypes: int64(1), object(3)\n",
      "memory usage: 442.8+ KB\n"
     ]
    }
   ],
   "source": [
    "#data[data['comentario_limpio']==\"\"]\n",
    "data = data.drop(data[data['comentario_limpio'] == ''].index)\n",
    "data.info()"
   ]
  },
  {
   "cell_type": "code",
   "execution_count": 16,
   "id": "ad54b0aa",
   "metadata": {},
   "outputs": [
    {
     "data": {
      "text/plain": [
       "0    buena atención y el buen sabor se mantiene, lo...\n",
       "1    nada del otro mundo.\\nregrese a sonia después ...\n",
       "2    si bien la comida es deliciosa, quizás los pre...\n",
       "3    he vuelto después de muchos años y debo decir ...\n",
       "4    vi los reviews y por eso fuimos probar a este ...\n",
       "5    pedí una parihuela, que no fue nada de mi agra...\n",
       "6       me gustó estos dos platos, estuve delicioso 😋…\n",
       "7    este lugar es super caleta, atienden a puerta ...\n",
       "8    nos dejaron esperando en la puerta. le pedimos...\n",
       "9    la seguridad del local es pésima. te hacen esp...\n",
       "Name: comentario_limpio, dtype: object"
      ]
     },
     "execution_count": 16,
     "metadata": {},
     "output_type": "execute_result"
    }
   ],
   "source": [
    "data['comentario_limpio'].head(10)"
   ]
  },
  {
   "cell_type": "markdown",
   "id": "28b46cc5",
   "metadata": {},
   "source": [
    "Eliminar stopwords-> son palabras comunes que se considera irrelevantes para el análisis de texto debido a su alta frecuencia de aparición en un idioma determinado."
   ]
  },
  {
   "cell_type": "code",
   "execution_count": 17,
   "id": "828e4681",
   "metadata": {},
   "outputs": [],
   "source": [
    "stop_words = get_stop_words('spanish')\n",
    "stop_words.append(\"n\")\n",
    "stop_words.append(\"x\")\n",
    "stop_words.append(\"soles\")\n",
    "def deleteStopWord(text):\n",
    "    response = \"\"\n",
    "    tokens = text.split(\" \")\n",
    "    i = 0\n",
    "    for ti in tokens:\n",
    "        if(ti in stop_words):\n",
    "            continue\n",
    "        else:\n",
    "            if i == 0:\n",
    "                response = ti\n",
    "            else:\n",
    "                response = response + \" \" + ti\n",
    "        i = i + 1\n",
    "    return response"
   ]
  },
  {
   "cell_type": "code",
   "execution_count": 18,
   "id": "9a036d7c",
   "metadata": {},
   "outputs": [],
   "source": [
    "def remove_emojis(text):\n",
    "    emoji_pattern = re.compile(\"[\"\n",
    "                               u\"\\U0001F600-\\U0001F64F\"  # emoticons\n",
    "                               u\"\\U0001F300-\\U0001F5FF\"  # symbols & pictographs\n",
    "                               u\"\\U0001F680-\\U0001F6FF\"  # transport & map symbols\n",
    "                               u\"\\U0001F1E0-\\U0001F1FF\"  # flags (iOS)\n",
    "                               u\"\\U00002500-\\U00002BEF\"  # chinese char\n",
    "                               u\"\\U00002702-\\U000027B0\"\n",
    "                               u\"\\U00002702-\\U000027B0\"\n",
    "                               u\"\\U000024C2-\\U0001F251\"\n",
    "                               u\"\\U0001f926-\\U0001f937\"\n",
    "                               u\"\\U00010000-\\U0010ffff\"\n",
    "                               u\"\\u2640-\\u2642\"\n",
    "                               u\"\\u2600-\\u2B55\"\n",
    "                               u\"\\u200d\"\n",
    "                               u\"\\u23cf\"\n",
    "                               u\"\\u23e9\"\n",
    "                               u\"\\u231a\"\n",
    "                               u\"\\ufe0f\"  # dingbats\n",
    "                               u\"\\u3030\"\n",
    "                               \"]+\", flags=re.UNICODE)\n",
    "    return emoji_pattern.sub(r'', text)"
   ]
  },
  {
   "cell_type": "code",
   "execution_count": 19,
   "id": "7da50fd0",
   "metadata": {},
   "outputs": [
    {
     "data": {
      "text/plain": [
       "0    buena atención y el buen sabor se mantiene, lo...\n",
       "1    nada del otro mundo. regrese a sonia después d...\n",
       "2    si bien la comida es deliciosa, quizás los pre...\n",
       "3    he vuelto después de muchos años y debo decir ...\n",
       "4    vi los reviews y por eso fuimos probar a este ...\n",
       "5    pedí una parihuela, que no fue nada de mi agra...\n",
       "6        me gustó estos dos platos, estuve delicioso …\n",
       "7    este lugar es super caleta, atienden a puerta ...\n",
       "8    nos dejaron esperando en la puerta. le pedimos...\n",
       "9    la seguridad del local es pésima. te hacen esp...\n",
       "Name: comentario_limpio, dtype: object"
      ]
     },
     "execution_count": 19,
     "metadata": {},
     "output_type": "execute_result"
    }
   ],
   "source": [
    "data['comentario_limpio'] = data['comentario_limpio'].apply(lambda texto: remove_emojis(texto))\n",
    "data['comentario_limpio'] = data['comentario_limpio'].apply(lambda texto: texto.replace('\\n', ' ')) \n",
    "data['comentario_limpio'].head(10)"
   ]
  },
  {
   "cell_type": "code",
   "execution_count": 20,
   "id": "e10921be",
   "metadata": {},
   "outputs": [
    {
     "data": {
      "text/plain": [
       "0    buena atención buen sabor mantiene, platos mej...\n",
       "1    mundo. regrese sonia después tiempo parece des...\n",
       "2    si bien comida deliciosa, quizás precios eleva...\n",
       "3    vuelto después años debo decir sigue tan rico ...\n",
       "4    vi reviews probar cevicheria, si platos jarra ...\n",
       "5    pedí parihuela, agrado, demasiado chuño decir ...\n",
       "6                        gustó dos platos, delicioso …\n",
       "7    lugar super caleta, atienden puerta cerrada. i...\n",
       "8    dejaron esperando puerta. pedimos administrado...\n",
       "9    seguridad local pésima. hacen esperar afuera l...\n",
       "Name: comentario_limpio, dtype: object"
      ]
     },
     "execution_count": 20,
     "metadata": {},
     "output_type": "execute_result"
    }
   ],
   "source": [
    "data['comentario_limpio'] = data['comentario_limpio'].apply(lambda texto: deleteStopWord(texto))\n",
    "data['comentario_limpio'].head(10)"
   ]
  },
  {
   "cell_type": "code",
   "execution_count": 21,
   "id": "a466a5f3",
   "metadata": {},
   "outputs": [
    {
     "data": {
      "text/plain": [
       "coordenada           object\n",
       "calificacion          int64\n",
       "comentario           object\n",
       "comentario_limpio    object\n",
       "dtype: object"
      ]
     },
     "execution_count": 21,
     "metadata": {},
     "output_type": "execute_result"
    }
   ],
   "source": [
    "dataset.to_csv('procesado_comentario_restaurantes.csv')\n",
    "data.head(5)\n",
    "data.dtypes"
   ]
  },
  {
   "cell_type": "code",
   "execution_count": 22,
   "id": "1dc800bc",
   "metadata": {},
   "outputs": [],
   "source": [
    "df2 = pd.DataFrame(data[\"comentario_limpio\"].values)\n",
    "np.savetxt(\"comentarios_sentimientos.txt\",df2,fmt=\"%s\",encoding=\"utf-8\")"
   ]
  },
  {
   "cell_type": "markdown",
   "id": "98536775",
   "metadata": {},
   "source": [
    "2. Word2Vec"
   ]
  },
  {
   "cell_type": "code",
   "execution_count": 23,
   "id": "5c93493f",
   "metadata": {},
   "outputs": [
    {
     "data": {
      "text/plain": [
       "(289999, 457910)"
      ]
     },
     "execution_count": 23,
     "metadata": {},
     "output_type": "execute_result"
    }
   ],
   "source": [
    "model = Word2Vec()\n",
    "model.build_vocab(Text8Corpus('comentarios_sentimientos.txt'))\n",
    "model.train(Text8Corpus('comentarios_sentimientos.txt'), total_examples=model.corpus_count, epochs=model.epochs)\n",
    "#oraciones = word2vec.Text8Corpus(\"comentarios_sentimientos.txt\")\n",
    "#modelo_w2v = word2vec.Word2Vec(oraciones,vector_size=100)"
   ]
  },
  {
   "cell_type": "code",
   "execution_count": 24,
   "id": "03ad0487",
   "metadata": {},
   "outputs": [],
   "source": [
    "def getFV(document):\n",
    "    words=document.split()\n",
    "    s=np.zeros(100)\n",
    "    k=1\n",
    "    for w in words:\n",
    "        if w in model.wv.index_to_key:\n",
    "            s=s+model.wv.get_vector(w)\n",
    "            k=k+1\n",
    "    return s/k"
   ]
  },
  {
   "cell_type": "code",
   "execution_count": 25,
   "id": "8bc5cfdf",
   "metadata": {},
   "outputs": [
    {
     "data": {
      "text/plain": [
       "[('momento', 0.9993312954902649),\n",
       " ('recomendable.', 0.9993172883987427),\n",
       " ('trato', 0.9993147253990173),\n",
       " ('pequeño', 0.9992994070053101),\n",
       " ('rica,', 0.9992946982383728),\n",
       " ('siempre', 0.9992891550064087),\n",
       " ('súper', 0.9992866516113281),\n",
       " ('rico,', 0.9992832541465759),\n",
       " ('rico.', 0.9992823004722595),\n",
       " ('sirven', 0.999276876449585)]"
      ]
     },
     "execution_count": 25,
     "metadata": {},
     "output_type": "execute_result"
    }
   ],
   "source": [
    "word_vectors = model.wv \n",
    "word_vectors.most_similar(\"riquísimo\")"
   ]
  },
  {
   "cell_type": "code",
   "execution_count": 28,
   "id": "f4bde916",
   "metadata": {},
   "outputs": [
    {
     "name": "stdout",
     "output_type": "stream",
     "text": [
      "[-0.21597897  0.11104041  0.12423711  0.02906758  0.05967515 -0.26821095\n",
      "  0.1853725   0.45176706 -0.14116794 -0.18145564 -0.16022994 -0.38798761\n",
      "  0.08871934  0.13005179  0.06541296 -0.11496106  0.13129163 -0.09715427\n",
      "  0.09549851 -0.34361166  0.05671287  0.19590873  0.03825959 -0.36755601\n",
      "  0.04202948 -0.15272674 -0.08577094 -0.12336846 -0.15189336 -0.0121816\n",
      "  0.22982948  0.02264395  0.04116334 -0.21037415 -0.09322512  0.37652898\n",
      "  0.07733034 -0.13062823 -0.0568683  -0.37469539  0.05775356 -0.19478188\n",
      " -0.02758822 -0.04234299  0.22121271  0.01828322 -0.29830155 -0.05171837\n",
      "  0.28675517 -0.06447833  0.16386749 -0.19061005  0.01588035  0.01922228\n",
      " -0.17164361  0.14132996  0.08322087 -0.01889614 -0.19401769  0.10318489\n",
      " -0.05317625  0.00882185  0.0241692  -0.00065383 -0.41369143  0.19437264\n",
      "  0.08617026  0.21072026 -0.21573585  0.34596387 -0.11593722  0.12728395\n",
      "  0.14035389  0.04813074  0.21805637  0.10321175  0.11269778 -0.02589092\n",
      " -0.14018665  0.20162369 -0.19289492 -0.02016143 -0.15727985  0.29446828\n",
      " -0.0355408  -0.11976431  0.12978451  0.25071752  0.4085308   0.00710684\n",
      "  0.27604964  0.1216402   0.03812245  0.12124009  0.50487703  0.38314831\n",
      " -0.02221322 -0.27808648  0.2100646   0.05517304]\n"
     ]
    }
   ],
   "source": [
    "print(getFV('rico'))"
   ]
  },
  {
   "cell_type": "code",
   "execution_count": 33,
   "id": "b9acc0a0",
   "metadata": {},
   "outputs": [],
   "source": [
    "data_set = []\n",
    "for index, row in data.iterrows():\n",
    "    evaluacion = -1\n",
    "    if row['calificacion'] <= 2:\n",
    "        evaluacion = 0\n",
    "    elif row['calificacion'] >= 4:\n",
    "        evaluacion = 1\n",
    "    if evaluacion != -1:\n",
    "        vector = getFV(row['comentario_limpio'])\n",
    "        new_vector = np.append(vector, evaluacion)\n",
    "        data_set.append(new_vector)"
   ]
  },
  {
   "cell_type": "code",
   "execution_count": 34,
   "id": "52ca9e97",
   "metadata": {},
   "outputs": [],
   "source": [
    "data_set_transformada = pd.DataFrame(np.array(data_set))"
   ]
  },
  {
   "cell_type": "code",
   "execution_count": 35,
   "id": "39b93096",
   "metadata": {},
   "outputs": [
    {
     "data": {
      "text/html": [
       "<div>\n",
       "<style scoped>\n",
       "    .dataframe tbody tr th:only-of-type {\n",
       "        vertical-align: middle;\n",
       "    }\n",
       "\n",
       "    .dataframe tbody tr th {\n",
       "        vertical-align: top;\n",
       "    }\n",
       "\n",
       "    .dataframe thead th {\n",
       "        text-align: right;\n",
       "    }\n",
       "</style>\n",
       "<table border=\"1\" class=\"dataframe\">\n",
       "  <thead>\n",
       "    <tr style=\"text-align: right;\">\n",
       "      <th></th>\n",
       "      <th>0</th>\n",
       "      <th>1</th>\n",
       "      <th>2</th>\n",
       "      <th>3</th>\n",
       "      <th>4</th>\n",
       "      <th>5</th>\n",
       "      <th>6</th>\n",
       "      <th>7</th>\n",
       "      <th>8</th>\n",
       "      <th>9</th>\n",
       "      <th>...</th>\n",
       "      <th>91</th>\n",
       "      <th>92</th>\n",
       "      <th>93</th>\n",
       "      <th>94</th>\n",
       "      <th>95</th>\n",
       "      <th>96</th>\n",
       "      <th>97</th>\n",
       "      <th>98</th>\n",
       "      <th>99</th>\n",
       "      <th>100</th>\n",
       "    </tr>\n",
       "  </thead>\n",
       "  <tbody>\n",
       "    <tr>\n",
       "      <th>0</th>\n",
       "      <td>-0.295587</td>\n",
       "      <td>0.144083</td>\n",
       "      <td>0.176772</td>\n",
       "      <td>0.026896</td>\n",
       "      <td>0.078003</td>\n",
       "      <td>-0.382077</td>\n",
       "      <td>0.238828</td>\n",
       "      <td>0.614175</td>\n",
       "      <td>-0.202114</td>\n",
       "      <td>-0.237280</td>\n",
       "      <td>...</td>\n",
       "      <td>0.175144</td>\n",
       "      <td>0.042817</td>\n",
       "      <td>0.175218</td>\n",
       "      <td>0.696559</td>\n",
       "      <td>0.535637</td>\n",
       "      <td>-0.029580</td>\n",
       "      <td>-0.406479</td>\n",
       "      <td>0.307927</td>\n",
       "      <td>0.072473</td>\n",
       "      <td>1.0</td>\n",
       "    </tr>\n",
       "    <tr>\n",
       "      <th>1</th>\n",
       "      <td>-0.296341</td>\n",
       "      <td>0.142396</td>\n",
       "      <td>0.172736</td>\n",
       "      <td>0.028382</td>\n",
       "      <td>0.073111</td>\n",
       "      <td>-0.375925</td>\n",
       "      <td>0.240175</td>\n",
       "      <td>0.607265</td>\n",
       "      <td>-0.198618</td>\n",
       "      <td>-0.233694</td>\n",
       "      <td>...</td>\n",
       "      <td>0.171890</td>\n",
       "      <td>0.041459</td>\n",
       "      <td>0.173374</td>\n",
       "      <td>0.686505</td>\n",
       "      <td>0.526905</td>\n",
       "      <td>-0.029691</td>\n",
       "      <td>-0.402807</td>\n",
       "      <td>0.297331</td>\n",
       "      <td>0.067954</td>\n",
       "      <td>1.0</td>\n",
       "    </tr>\n",
       "    <tr>\n",
       "      <th>2</th>\n",
       "      <td>-0.327805</td>\n",
       "      <td>0.158564</td>\n",
       "      <td>0.191962</td>\n",
       "      <td>0.031795</td>\n",
       "      <td>0.082672</td>\n",
       "      <td>-0.420016</td>\n",
       "      <td>0.265809</td>\n",
       "      <td>0.676171</td>\n",
       "      <td>-0.220678</td>\n",
       "      <td>-0.258909</td>\n",
       "      <td>...</td>\n",
       "      <td>0.190493</td>\n",
       "      <td>0.045422</td>\n",
       "      <td>0.194045</td>\n",
       "      <td>0.766796</td>\n",
       "      <td>0.590801</td>\n",
       "      <td>-0.034510</td>\n",
       "      <td>-0.448653</td>\n",
       "      <td>0.335305</td>\n",
       "      <td>0.080624</td>\n",
       "      <td>1.0</td>\n",
       "    </tr>\n",
       "    <tr>\n",
       "      <th>3</th>\n",
       "      <td>-0.240621</td>\n",
       "      <td>0.112559</td>\n",
       "      <td>0.148356</td>\n",
       "      <td>0.019190</td>\n",
       "      <td>0.061529</td>\n",
       "      <td>-0.307571</td>\n",
       "      <td>0.188336</td>\n",
       "      <td>0.478218</td>\n",
       "      <td>-0.170541</td>\n",
       "      <td>-0.178176</td>\n",
       "      <td>...</td>\n",
       "      <td>0.144591</td>\n",
       "      <td>0.026286</td>\n",
       "      <td>0.138708</td>\n",
       "      <td>0.557744</td>\n",
       "      <td>0.434264</td>\n",
       "      <td>-0.019678</td>\n",
       "      <td>-0.331639</td>\n",
       "      <td>0.262708</td>\n",
       "      <td>0.051073</td>\n",
       "      <td>0.0</td>\n",
       "    </tr>\n",
       "    <tr>\n",
       "      <th>4</th>\n",
       "      <td>-0.217911</td>\n",
       "      <td>0.105537</td>\n",
       "      <td>0.139424</td>\n",
       "      <td>0.019284</td>\n",
       "      <td>0.061353</td>\n",
       "      <td>-0.280395</td>\n",
       "      <td>0.167077</td>\n",
       "      <td>0.439585</td>\n",
       "      <td>-0.158056</td>\n",
       "      <td>-0.158356</td>\n",
       "      <td>...</td>\n",
       "      <td>0.134627</td>\n",
       "      <td>0.016161</td>\n",
       "      <td>0.124383</td>\n",
       "      <td>0.510772</td>\n",
       "      <td>0.404357</td>\n",
       "      <td>-0.020989</td>\n",
       "      <td>-0.302405</td>\n",
       "      <td>0.246588</td>\n",
       "      <td>0.052305</td>\n",
       "      <td>0.0</td>\n",
       "    </tr>\n",
       "  </tbody>\n",
       "</table>\n",
       "<p>5 rows × 101 columns</p>\n",
       "</div>"
      ],
      "text/plain": [
       "        0         1         2         3         4         5         6     \n",
       "0 -0.295587  0.144083  0.176772  0.026896  0.078003 -0.382077  0.238828  \\\n",
       "1 -0.296341  0.142396  0.172736  0.028382  0.073111 -0.375925  0.240175   \n",
       "2 -0.327805  0.158564  0.191962  0.031795  0.082672 -0.420016  0.265809   \n",
       "3 -0.240621  0.112559  0.148356  0.019190  0.061529 -0.307571  0.188336   \n",
       "4 -0.217911  0.105537  0.139424  0.019284  0.061353 -0.280395  0.167077   \n",
       "\n",
       "        7         8         9    ...       91        92        93        94    \n",
       "0  0.614175 -0.202114 -0.237280  ...  0.175144  0.042817  0.175218  0.696559  \\\n",
       "1  0.607265 -0.198618 -0.233694  ...  0.171890  0.041459  0.173374  0.686505   \n",
       "2  0.676171 -0.220678 -0.258909  ...  0.190493  0.045422  0.194045  0.766796   \n",
       "3  0.478218 -0.170541 -0.178176  ...  0.144591  0.026286  0.138708  0.557744   \n",
       "4  0.439585 -0.158056 -0.158356  ...  0.134627  0.016161  0.124383  0.510772   \n",
       "\n",
       "        95        96        97        98        99   100  \n",
       "0  0.535637 -0.029580 -0.406479  0.307927  0.072473  1.0  \n",
       "1  0.526905 -0.029691 -0.402807  0.297331  0.067954  1.0  \n",
       "2  0.590801 -0.034510 -0.448653  0.335305  0.080624  1.0  \n",
       "3  0.434264 -0.019678 -0.331639  0.262708  0.051073  0.0  \n",
       "4  0.404357 -0.020989 -0.302405  0.246588  0.052305  0.0  \n",
       "\n",
       "[5 rows x 101 columns]"
      ]
     },
     "execution_count": 35,
     "metadata": {},
     "output_type": "execute_result"
    }
   ],
   "source": [
    "data_set_transformada.head(5)"
   ]
  },
  {
   "cell_type": "code",
   "execution_count": 37,
   "id": "a6eb2ac0",
   "metadata": {},
   "outputs": [
    {
     "data": {
      "text/html": [
       "<div>\n",
       "<style scoped>\n",
       "    .dataframe tbody tr th:only-of-type {\n",
       "        vertical-align: middle;\n",
       "    }\n",
       "\n",
       "    .dataframe tbody tr th {\n",
       "        vertical-align: top;\n",
       "    }\n",
       "\n",
       "    .dataframe thead th {\n",
       "        text-align: right;\n",
       "    }\n",
       "</style>\n",
       "<table border=\"1\" class=\"dataframe\">\n",
       "  <thead>\n",
       "    <tr style=\"text-align: right;\">\n",
       "      <th></th>\n",
       "      <th>0</th>\n",
       "      <th>1</th>\n",
       "      <th>2</th>\n",
       "      <th>3</th>\n",
       "      <th>4</th>\n",
       "      <th>5</th>\n",
       "      <th>6</th>\n",
       "      <th>7</th>\n",
       "      <th>8</th>\n",
       "      <th>9</th>\n",
       "      <th>...</th>\n",
       "      <th>91</th>\n",
       "      <th>92</th>\n",
       "      <th>93</th>\n",
       "      <th>94</th>\n",
       "      <th>95</th>\n",
       "      <th>96</th>\n",
       "      <th>97</th>\n",
       "      <th>98</th>\n",
       "      <th>99</th>\n",
       "      <th>100</th>\n",
       "    </tr>\n",
       "  </thead>\n",
       "  <tbody>\n",
       "    <tr>\n",
       "      <th>count</th>\n",
       "      <td>10363.000000</td>\n",
       "      <td>10363.000000</td>\n",
       "      <td>10363.000000</td>\n",
       "      <td>10363.000000</td>\n",
       "      <td>10363.000000</td>\n",
       "      <td>10363.000000</td>\n",
       "      <td>10363.000000</td>\n",
       "      <td>10363.000000</td>\n",
       "      <td>10363.000000</td>\n",
       "      <td>10363.000000</td>\n",
       "      <td>...</td>\n",
       "      <td>10363.000000</td>\n",
       "      <td>10363.000000</td>\n",
       "      <td>10363.000000</td>\n",
       "      <td>10363.000000</td>\n",
       "      <td>10363.000000</td>\n",
       "      <td>10363.000000</td>\n",
       "      <td>10363.000000</td>\n",
       "      <td>10363.000000</td>\n",
       "      <td>10363.000000</td>\n",
       "      <td>10363.000000</td>\n",
       "    </tr>\n",
       "    <tr>\n",
       "      <th>mean</th>\n",
       "      <td>-0.257655</td>\n",
       "      <td>0.126783</td>\n",
       "      <td>0.149407</td>\n",
       "      <td>0.027141</td>\n",
       "      <td>0.065676</td>\n",
       "      <td>-0.330917</td>\n",
       "      <td>0.212737</td>\n",
       "      <td>0.539426</td>\n",
       "      <td>-0.170197</td>\n",
       "      <td>-0.211224</td>\n",
       "      <td>...</td>\n",
       "      <td>0.150046</td>\n",
       "      <td>0.042369</td>\n",
       "      <td>0.151568</td>\n",
       "      <td>0.604533</td>\n",
       "      <td>0.460346</td>\n",
       "      <td>-0.026567</td>\n",
       "      <td>-0.349274</td>\n",
       "      <td>0.254797</td>\n",
       "      <td>0.063568</td>\n",
       "      <td>0.917495</td>\n",
       "    </tr>\n",
       "    <tr>\n",
       "      <th>std</th>\n",
       "      <td>0.063475</td>\n",
       "      <td>0.031796</td>\n",
       "      <td>0.036869</td>\n",
       "      <td>0.009225</td>\n",
       "      <td>0.016430</td>\n",
       "      <td>0.081819</td>\n",
       "      <td>0.054379</td>\n",
       "      <td>0.135354</td>\n",
       "      <td>0.042090</td>\n",
       "      <td>0.054925</td>\n",
       "      <td>...</td>\n",
       "      <td>0.037071</td>\n",
       "      <td>0.016752</td>\n",
       "      <td>0.038314</td>\n",
       "      <td>0.149534</td>\n",
       "      <td>0.113228</td>\n",
       "      <td>0.008474</td>\n",
       "      <td>0.086195</td>\n",
       "      <td>0.063609</td>\n",
       "      <td>0.016584</td>\n",
       "      <td>0.275146</td>\n",
       "    </tr>\n",
       "    <tr>\n",
       "      <th>min</th>\n",
       "      <td>-0.403347</td>\n",
       "      <td>0.000000</td>\n",
       "      <td>0.000000</td>\n",
       "      <td>-0.003509</td>\n",
       "      <td>0.000000</td>\n",
       "      <td>-0.518426</td>\n",
       "      <td>0.000000</td>\n",
       "      <td>0.000000</td>\n",
       "      <td>-0.277648</td>\n",
       "      <td>-0.326152</td>\n",
       "      <td>...</td>\n",
       "      <td>0.000000</td>\n",
       "      <td>-0.001380</td>\n",
       "      <td>0.000000</td>\n",
       "      <td>0.000000</td>\n",
       "      <td>0.000000</td>\n",
       "      <td>-0.056743</td>\n",
       "      <td>-0.549255</td>\n",
       "      <td>0.000000</td>\n",
       "      <td>0.000000</td>\n",
       "      <td>0.000000</td>\n",
       "    </tr>\n",
       "    <tr>\n",
       "      <th>25%</th>\n",
       "      <td>-0.300939</td>\n",
       "      <td>0.111095</td>\n",
       "      <td>0.133244</td>\n",
       "      <td>0.021657</td>\n",
       "      <td>0.058586</td>\n",
       "      <td>-0.385840</td>\n",
       "      <td>0.185373</td>\n",
       "      <td>0.471012</td>\n",
       "      <td>-0.198121</td>\n",
       "      <td>-0.247726</td>\n",
       "      <td>...</td>\n",
       "      <td>0.133147</td>\n",
       "      <td>0.031388</td>\n",
       "      <td>0.132563</td>\n",
       "      <td>0.531803</td>\n",
       "      <td>0.409266</td>\n",
       "      <td>-0.032006</td>\n",
       "      <td>-0.407631</td>\n",
       "      <td>0.224443</td>\n",
       "      <td>0.055682</td>\n",
       "      <td>1.000000</td>\n",
       "    </tr>\n",
       "    <tr>\n",
       "      <th>50%</th>\n",
       "      <td>-0.269390</td>\n",
       "      <td>0.132913</td>\n",
       "      <td>0.156067</td>\n",
       "      <td>0.027492</td>\n",
       "      <td>0.068443</td>\n",
       "      <td>-0.346045</td>\n",
       "      <td>0.222152</td>\n",
       "      <td>0.564479</td>\n",
       "      <td>-0.177496</td>\n",
       "      <td>-0.219617</td>\n",
       "      <td>...</td>\n",
       "      <td>0.156644</td>\n",
       "      <td>0.041285</td>\n",
       "      <td>0.158241</td>\n",
       "      <td>0.632730</td>\n",
       "      <td>0.480447</td>\n",
       "      <td>-0.026921</td>\n",
       "      <td>-0.364524</td>\n",
       "      <td>0.264785</td>\n",
       "      <td>0.065853</td>\n",
       "      <td>1.000000</td>\n",
       "    </tr>\n",
       "    <tr>\n",
       "      <th>75%</th>\n",
       "      <td>-0.227225</td>\n",
       "      <td>0.148445</td>\n",
       "      <td>0.173790</td>\n",
       "      <td>0.033017</td>\n",
       "      <td>0.076575</td>\n",
       "      <td>-0.291610</td>\n",
       "      <td>0.248625</td>\n",
       "      <td>0.631173</td>\n",
       "      <td>-0.151256</td>\n",
       "      <td>-0.183585</td>\n",
       "      <td>...</td>\n",
       "      <td>0.175050</td>\n",
       "      <td>0.053345</td>\n",
       "      <td>0.177355</td>\n",
       "      <td>0.706316</td>\n",
       "      <td>0.536669</td>\n",
       "      <td>-0.021766</td>\n",
       "      <td>-0.310218</td>\n",
       "      <td>0.296789</td>\n",
       "      <td>0.074489</td>\n",
       "      <td>1.000000</td>\n",
       "    </tr>\n",
       "    <tr>\n",
       "      <th>max</th>\n",
       "      <td>0.000000</td>\n",
       "      <td>0.198190</td>\n",
       "      <td>0.241221</td>\n",
       "      <td>0.053406</td>\n",
       "      <td>0.106627</td>\n",
       "      <td>0.000000</td>\n",
       "      <td>0.324047</td>\n",
       "      <td>0.830081</td>\n",
       "      <td>0.000000</td>\n",
       "      <td>0.000000</td>\n",
       "      <td>...</td>\n",
       "      <td>0.232601</td>\n",
       "      <td>0.091670</td>\n",
       "      <td>0.237917</td>\n",
       "      <td>0.942887</td>\n",
       "      <td>0.724358</td>\n",
       "      <td>0.002001</td>\n",
       "      <td>0.000000</td>\n",
       "      <td>0.411706</td>\n",
       "      <td>0.106867</td>\n",
       "      <td>1.000000</td>\n",
       "    </tr>\n",
       "  </tbody>\n",
       "</table>\n",
       "<p>8 rows × 101 columns</p>\n",
       "</div>"
      ],
      "text/plain": [
       "                0             1             2             3             4     \n",
       "count  10363.000000  10363.000000  10363.000000  10363.000000  10363.000000  \\\n",
       "mean      -0.257655      0.126783      0.149407      0.027141      0.065676   \n",
       "std        0.063475      0.031796      0.036869      0.009225      0.016430   \n",
       "min       -0.403347      0.000000      0.000000     -0.003509      0.000000   \n",
       "25%       -0.300939      0.111095      0.133244      0.021657      0.058586   \n",
       "50%       -0.269390      0.132913      0.156067      0.027492      0.068443   \n",
       "75%       -0.227225      0.148445      0.173790      0.033017      0.076575   \n",
       "max        0.000000      0.198190      0.241221      0.053406      0.106627   \n",
       "\n",
       "                5             6             7             8             9     \n",
       "count  10363.000000  10363.000000  10363.000000  10363.000000  10363.000000  \\\n",
       "mean      -0.330917      0.212737      0.539426     -0.170197     -0.211224   \n",
       "std        0.081819      0.054379      0.135354      0.042090      0.054925   \n",
       "min       -0.518426      0.000000      0.000000     -0.277648     -0.326152   \n",
       "25%       -0.385840      0.185373      0.471012     -0.198121     -0.247726   \n",
       "50%       -0.346045      0.222152      0.564479     -0.177496     -0.219617   \n",
       "75%       -0.291610      0.248625      0.631173     -0.151256     -0.183585   \n",
       "max        0.000000      0.324047      0.830081      0.000000      0.000000   \n",
       "\n",
       "       ...           91            92            93            94    \n",
       "count  ...  10363.000000  10363.000000  10363.000000  10363.000000  \\\n",
       "mean   ...      0.150046      0.042369      0.151568      0.604533   \n",
       "std    ...      0.037071      0.016752      0.038314      0.149534   \n",
       "min    ...      0.000000     -0.001380      0.000000      0.000000   \n",
       "25%    ...      0.133147      0.031388      0.132563      0.531803   \n",
       "50%    ...      0.156644      0.041285      0.158241      0.632730   \n",
       "75%    ...      0.175050      0.053345      0.177355      0.706316   \n",
       "max    ...      0.232601      0.091670      0.237917      0.942887   \n",
       "\n",
       "                95            96            97            98            99    \n",
       "count  10363.000000  10363.000000  10363.000000  10363.000000  10363.000000  \\\n",
       "mean       0.460346     -0.026567     -0.349274      0.254797      0.063568   \n",
       "std        0.113228      0.008474      0.086195      0.063609      0.016584   \n",
       "min        0.000000     -0.056743     -0.549255      0.000000      0.000000   \n",
       "25%        0.409266     -0.032006     -0.407631      0.224443      0.055682   \n",
       "50%        0.480447     -0.026921     -0.364524      0.264785      0.065853   \n",
       "75%        0.536669     -0.021766     -0.310218      0.296789      0.074489   \n",
       "max        0.724358      0.002001      0.000000      0.411706      0.106867   \n",
       "\n",
       "                100  \n",
       "count  10363.000000  \n",
       "mean       0.917495  \n",
       "std        0.275146  \n",
       "min        0.000000  \n",
       "25%        1.000000  \n",
       "50%        1.000000  \n",
       "75%        1.000000  \n",
       "max        1.000000  \n",
       "\n",
       "[8 rows x 101 columns]"
      ]
     },
     "execution_count": 37,
     "metadata": {},
     "output_type": "execute_result"
    }
   ],
   "source": [
    "data_set_transformada.describe()"
   ]
  },
  {
   "cell_type": "code",
   "execution_count": 39,
   "id": "44e224ba",
   "metadata": {},
   "outputs": [
    {
     "data": {
      "text/plain": [
       "Text(0.5, 1.0, 'Histograma')"
      ]
     },
     "execution_count": 39,
     "metadata": {},
     "output_type": "execute_result"
    },
    {
     "data": {
      "image/png": "[encoded data removed]",
      "text/plain": [
       "<Figure size 640x480 with 1 Axes>"
      ]
     },
     "metadata": {},
     "output_type": "display_data"
    }
   ],
   "source": [
    "data_calification = data_set_transformada[100]\n",
    "unique_categories, category_counts = np.unique(data_calification, return_counts=True)\n",
    "plt.bar(unique_categories, category_counts)\n",
    "plt.xlabel('evaluación')\n",
    "plt.ylabel('Contador')\n",
    "plt.title('Histograma')"
   ]
  },
  {
   "cell_type": "code",
   "execution_count": 41,
   "id": "b6237e43",
   "metadata": {},
   "outputs": [],
   "source": [
    "data_set_transformada.to_csv('data_set_restaurantes_comentarios_pos_neg.csv', index=False)"
   ]
  },
  {
   "cell_type": "code",
   "execution_count": null,
   "id": "4d1b3fce",
   "metadata": {},
   "outputs": [],
   "source": []
  }
 ],
 "metadata": {
  "kernelspec": {
   "display_name": "Python 3 (ipykernel)",
   "language": "python",
   "name": "python3"
  },
  "language_info": {
   "codemirror_mode": {
    "name": "ipython",
    "version": 3
   },
   "file_extension": ".py",
   "mimetype": "text/x-python",
   "name": "python",
   "nbconvert_exporter": "python",
   "pygments_lexer": "ipython3",
   "version": "3.10.12"
  }
 },
 "nbformat": 4,
 "nbformat_minor": 5
}
