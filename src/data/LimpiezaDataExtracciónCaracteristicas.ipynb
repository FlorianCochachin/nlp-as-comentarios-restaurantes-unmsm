{
 "cells": [
  {
   "cell_type": "code",
   "execution_count": 1,
   "id": "e5877df8",
   "metadata": {},
   "outputs": [],
   "source": [
    "import pandas as pd\n",
    "import numpy as np\n",
    "import matplotlib.pyplot as plt\n",
    "import os\n",
    "import glob\n",
    "from gensim.models import Word2Vec\n",
    "from gensim.models.word2vec import Text8Corpus\n",
    "from stop_words import get_stop_words\n",
    "ROOT_DIR = os.path.abspath(os.curdir)"
   ]
  },
  {
   "cell_type": "markdown",
   "id": "e2bed496",
   "metadata": {},
   "source": [
    "UNIFICACIÓN DE DATOS"
   ]
  },
  {
   "cell_type": "code",
   "execution_count": 2,
   "id": "74566829",
   "metadata": {},
   "outputs": [],
   "source": [
    "def getFilesNames():\n",
    "    DIR = os.path.join(ROOT_DIR, \"descargas\")\n",
    "    os.chdir(DIR)\n",
    "    ls = glob.glob(\"*.csv\")\n",
    "    return ls"
   ]
  },
  {
   "cell_type": "code",
   "execution_count": 3,
   "id": "43004490",
   "metadata": {},
   "outputs": [
    {
     "data": {
      "text/html": [
       "<div>\n",
       "<style scoped>\n",
       "    .dataframe tbody tr th:only-of-type {\n",
       "        vertical-align: middle;\n",
       "    }\n",
       "\n",
       "    .dataframe tbody tr th {\n",
       "        vertical-align: top;\n",
       "    }\n",
       "\n",
       "    .dataframe thead th {\n",
       "        text-align: right;\n",
       "    }\n",
       "</style>\n",
       "<table border=\"1\" class=\"dataframe\">\n",
       "  <thead>\n",
       "    <tr style=\"text-align: right;\">\n",
       "      <th></th>\n",
       "      <th>coordenada</th>\n",
       "      <th>calificacion</th>\n",
       "      <th>comentario</th>\n",
       "    </tr>\n",
       "    <tr>\n",
       "      <th>titulo</th>\n",
       "      <th></th>\n",
       "      <th></th>\n",
       "      <th></th>\n",
       "    </tr>\n",
       "  </thead>\n",
       "  <tbody>\n",
       "    <tr>\n",
       "      <th>Restaurant SONIA</th>\n",
       "      <td>-12.0773039,-77.1696105,11z</td>\n",
       "      <td>4</td>\n",
       "      <td>Buena atención y el buen sabor se mantiene, lo...</td>\n",
       "    </tr>\n",
       "    <tr>\n",
       "      <th>Restaurant SONIA</th>\n",
       "      <td>-12.0773039,-77.1696105,11z</td>\n",
       "      <td>3</td>\n",
       "      <td>Nada del otro mundo.\\nRegrese a Sonia después ...</td>\n",
       "    </tr>\n",
       "    <tr>\n",
       "      <th>Restaurant SONIA</th>\n",
       "      <td>-12.0773039,-77.1696105,11z</td>\n",
       "      <td>4</td>\n",
       "      <td>Si bien la comida es deliciosa, quizás los pre...</td>\n",
       "    </tr>\n",
       "    <tr>\n",
       "      <th>Restaurant SONIA</th>\n",
       "      <td>-12.0773039,-77.1696105,11z</td>\n",
       "      <td>5</td>\n",
       "      <td>He vuelto después de muchos años y debo decir ...</td>\n",
       "    </tr>\n",
       "    <tr>\n",
       "      <th>Restaurant SONIA</th>\n",
       "      <td>-12.0773039,-77.1696105,11z</td>\n",
       "      <td>1</td>\n",
       "      <td>Vi los reviews y por eso fuimos probar a este ...</td>\n",
       "    </tr>\n",
       "  </tbody>\n",
       "</table>\n",
       "</div>"
      ],
      "text/plain": [
       "                                   coordenada calificacion   \n",
       "titulo                                                       \n",
       "Restaurant SONIA  -12.0773039,-77.1696105,11z            4  \\\n",
       "Restaurant SONIA  -12.0773039,-77.1696105,11z            3   \n",
       "Restaurant SONIA  -12.0773039,-77.1696105,11z            4   \n",
       "Restaurant SONIA  -12.0773039,-77.1696105,11z            5   \n",
       "Restaurant SONIA  -12.0773039,-77.1696105,11z            1   \n",
       "\n",
       "                                                         comentario  \n",
       "titulo                                                               \n",
       "Restaurant SONIA  Buena atención y el buen sabor se mantiene, lo...  \n",
       "Restaurant SONIA  Nada del otro mundo.\\nRegrese a Sonia después ...  \n",
       "Restaurant SONIA  Si bien la comida es deliciosa, quizás los pre...  \n",
       "Restaurant SONIA  He vuelto después de muchos años y debo decir ...  \n",
       "Restaurant SONIA  Vi los reviews y por eso fuimos probar a este ...  "
      ]
     },
     "execution_count": 3,
     "metadata": {},
     "output_type": "execute_result"
    }
   ],
   "source": [
    "file_name_list = getFilesNames()\n",
    "dataframes = [ pd.read_csv(file,index_col=0) for file in file_name_list ]\n",
    "dataset = pd.concat(dataframes)\n",
    "dataset.head()"
   ]
  },
  {
   "cell_type": "code",
   "execution_count": 4,
   "id": "94b6b804",
   "metadata": {},
   "outputs": [
    {
     "data": {
      "text/html": [
       "<div>\n",
       "<style scoped>\n",
       "    .dataframe tbody tr th:only-of-type {\n",
       "        vertical-align: middle;\n",
       "    }\n",
       "\n",
       "    .dataframe tbody tr th {\n",
       "        vertical-align: top;\n",
       "    }\n",
       "\n",
       "    .dataframe thead th {\n",
       "        text-align: right;\n",
       "    }\n",
       "</style>\n",
       "<table border=\"1\" class=\"dataframe\">\n",
       "  <thead>\n",
       "    <tr style=\"text-align: right;\">\n",
       "      <th></th>\n",
       "      <th>coordenada</th>\n",
       "      <th>calificacion</th>\n",
       "      <th>comentario</th>\n",
       "    </tr>\n",
       "  </thead>\n",
       "  <tbody>\n",
       "    <tr>\n",
       "      <th>count</th>\n",
       "      <td>10664</td>\n",
       "      <td>11350</td>\n",
       "      <td>11350</td>\n",
       "    </tr>\n",
       "    <tr>\n",
       "      <th>unique</th>\n",
       "      <td>17</td>\n",
       "      <td>5</td>\n",
       "      <td>10536</td>\n",
       "    </tr>\n",
       "    <tr>\n",
       "      <th>top</th>\n",
       "      <td>-12.1440338,-77.0758734,13z</td>\n",
       "      <td>5</td>\n",
       "      <td>Muy bueno</td>\n",
       "    </tr>\n",
       "    <tr>\n",
       "      <th>freq</th>\n",
       "      <td>3113</td>\n",
       "      <td>6701</td>\n",
       "      <td>105</td>\n",
       "    </tr>\n",
       "  </tbody>\n",
       "</table>\n",
       "</div>"
      ],
      "text/plain": [
       "                         coordenada  calificacion comentario\n",
       "count                         10664         11350      11350\n",
       "unique                           17             5      10536\n",
       "top     -12.1440338,-77.0758734,13z             5  Muy bueno\n",
       "freq                           3113          6701        105"
      ]
     },
     "execution_count": 4,
     "metadata": {},
     "output_type": "execute_result"
    }
   ],
   "source": [
    "dataset.describe()"
   ]
  },
  {
   "cell_type": "code",
   "execution_count": 5,
   "id": "e9bee441",
   "metadata": {},
   "outputs": [],
   "source": [
    "DIR = os.path.join(ROOT_DIR, \"datajoin\")\n",
    "os.chdir(DIR)\n",
    "dataset.to_csv('restaurantes_comentarios.csv', index=False)"
   ]
  },
  {
   "cell_type": "code",
   "execution_count": 6,
   "id": "96489ccf",
   "metadata": {},
   "outputs": [
    {
     "data": {
      "text/plain": [
       "Text(0.5, 1.0, 'Histograma')"
      ]
     },
     "execution_count": 6,
     "metadata": {},
     "output_type": "execute_result"
    },
    {
     "data": {
      "image/png": "[encoded data removed]",
      "text/plain": [
       "<Figure size 640x480 with 1 Axes>"
      ]
     },
     "metadata": {},
     "output_type": "display_data"
    }
   ],
   "source": [
    "data_calification = dataset['calificacion']\n",
    "unique_categories, category_counts = np.unique(data_calification, return_counts=True)\n",
    "plt.bar(unique_categories, category_counts)\n",
    "plt.xlabel('calificación')\n",
    "plt.ylabel('Frecuencia')\n",
    "plt.title('Histograma')"
   ]
  },
  {
   "cell_type": "markdown",
   "id": "2a7f055d",
   "metadata": {},
   "source": [
    "Elaboración Corpus linguistico"
   ]
  },
  {
   "cell_type": "code",
   "execution_count": 7,
   "id": "3254c538",
   "metadata": {},
   "outputs": [
    {
     "data": {
      "text/html": [
       "<div>\n",
       "<style scoped>\n",
       "    .dataframe tbody tr th:only-of-type {\n",
       "        vertical-align: middle;\n",
       "    }\n",
       "\n",
       "    .dataframe tbody tr th {\n",
       "        vertical-align: top;\n",
       "    }\n",
       "\n",
       "    .dataframe thead th {\n",
       "        text-align: right;\n",
       "    }\n",
       "</style>\n",
       "<table border=\"1\" class=\"dataframe\">\n",
       "  <thead>\n",
       "    <tr style=\"text-align: right;\">\n",
       "      <th></th>\n",
       "      <th>coordenada</th>\n",
       "      <th>calificacion</th>\n",
       "      <th>comentario</th>\n",
       "    </tr>\n",
       "  </thead>\n",
       "  <tbody>\n",
       "    <tr>\n",
       "      <th>0</th>\n",
       "      <td>-12.0773039,-77.1696105,11z</td>\n",
       "      <td>4</td>\n",
       "      <td>Buena atención y el buen sabor se mantiene, lo...</td>\n",
       "    </tr>\n",
       "    <tr>\n",
       "      <th>1</th>\n",
       "      <td>-12.0773039,-77.1696105,11z</td>\n",
       "      <td>3</td>\n",
       "      <td>Nada del otro mundo.\\nRegrese a Sonia después ...</td>\n",
       "    </tr>\n",
       "    <tr>\n",
       "      <th>2</th>\n",
       "      <td>-12.0773039,-77.1696105,11z</td>\n",
       "      <td>4</td>\n",
       "      <td>Si bien la comida es deliciosa, quizás los pre...</td>\n",
       "    </tr>\n",
       "    <tr>\n",
       "      <th>3</th>\n",
       "      <td>-12.0773039,-77.1696105,11z</td>\n",
       "      <td>5</td>\n",
       "      <td>He vuelto después de muchos años y debo decir ...</td>\n",
       "    </tr>\n",
       "    <tr>\n",
       "      <th>4</th>\n",
       "      <td>-12.0773039,-77.1696105,11z</td>\n",
       "      <td>1</td>\n",
       "      <td>Vi los reviews y por eso fuimos probar a este ...</td>\n",
       "    </tr>\n",
       "  </tbody>\n",
       "</table>\n",
       "</div>"
      ],
      "text/plain": [
       "                    coordenada  calificacion   \n",
       "0  -12.0773039,-77.1696105,11z             4  \\\n",
       "1  -12.0773039,-77.1696105,11z             3   \n",
       "2  -12.0773039,-77.1696105,11z             4   \n",
       "3  -12.0773039,-77.1696105,11z             5   \n",
       "4  -12.0773039,-77.1696105,11z             1   \n",
       "\n",
       "                                          comentario  \n",
       "0  Buena atención y el buen sabor se mantiene, lo...  \n",
       "1  Nada del otro mundo.\\nRegrese a Sonia después ...  \n",
       "2  Si bien la comida es deliciosa, quizás los pre...  \n",
       "3  He vuelto después de muchos años y debo decir ...  \n",
       "4  Vi los reviews y por eso fuimos probar a este ...  "
      ]
     },
     "execution_count": 7,
     "metadata": {},
     "output_type": "execute_result"
    }
   ],
   "source": [
    "data = pd.read_csv('restaurantes_comentarios.csv')\n",
    "data.head()"
   ]
  },
  {
   "cell_type": "code",
   "execution_count": 8,
   "id": "23191a02",
   "metadata": {},
   "outputs": [
    {
     "data": {
      "text/plain": [
       "(11350, 3)"
      ]
     },
     "execution_count": 8,
     "metadata": {},
     "output_type": "execute_result"
    }
   ],
   "source": [
    "data = data[data['comentario'].notnull()]\n",
    "data.shape"
   ]
  },
  {
   "cell_type": "code",
   "execution_count": 9,
   "id": "05c1f9b4",
   "metadata": {},
   "outputs": [],
   "source": [
    "data['comentario'] = data['comentario'].str.lower()"
   ]
  },
  {
   "cell_type": "code",
   "execution_count": 10,
   "id": "002a839b",
   "metadata": {},
   "outputs": [],
   "source": [
    "import re\n",
    "data['comentario_limpio'] = data['comentario'].apply(lambda texto: re.sub(r'[.,;:!()]', '', texto)) \n",
    "data['comentario_limpio'] = data['comentario_limpio'].apply(lambda texto: texto.replace('\\n', ' ')) \n",
    "data['comentario_limpio'] = data['comentario_limpio'].apply(lambda texto: re.sub(r'[^A-Za-zñáéíóúÁÉÍÓÚ\\s]', ' ', texto)) "
   ]
  },
  {
   "cell_type": "code",
   "execution_count": 11,
   "id": "ad54b0aa",
   "metadata": {},
   "outputs": [
    {
     "data": {
      "text/plain": [
       "0     buena atención y el buen sabor se mantiene los...\n",
       "1     nada del otro mundo regrese a sonia después de...\n",
       "2     si bien la comida es deliciosa quizás los prec...\n",
       "3     he vuelto después de muchos años y debo decir ...\n",
       "4     vi los reviews y por eso fuimos probar a este ...\n",
       "5     pedí una parihuela que no fue nada de mi agrad...\n",
       "6         me gustó estos dos platos estuve delicioso   \n",
       "7     este lugar es super caleta atienden a puerta c...\n",
       "8     nos dejaron esperando en la puerta le pedimos ...\n",
       "9     la seguridad del local es pésima te hacen espe...\n",
       "10    excelente lugar para comer pescado en lima cal...\n",
       "11    sonia un restaurante que nunca perdió su excel...\n",
       "12    es buenardo por donde lo mires una comida exce...\n",
       "13    maravilloso almuerzo y bella historia de este ...\n",
       "14    los platos muy ricos el ambiente acogedor en v...\n",
       "15    un lugar acogedor  su leche de tigre estaba bu...\n",
       "16               muy bueno  en sus platos y la atención\n",
       "17    lugar un poco escondido con atención a puerta ...\n",
       "18    excelente comida muy buena atención lo recomiendo\n",
       "19    ni servilletas y en vez de leche tigre te dan ...\n",
       "20    primera vez que iba me lo recomendaron buenos ...\n",
       "21    es un restaurante que es muy bueno para estar ...\n",
       "22    muy rico  lugar acogedor una combinación de bu...\n",
       "23    excelente  comida amenizada con música criolla...\n",
       "24    bonito ambiente pero mala calidad de los cevic...\n",
       "25    el ambiente es muy bonito con música en vivo l...\n",
       "26    me encantó venir excelente comida música en vi...\n",
       "27    una cevichería tradicional el dueño siempre ve...\n",
       "28    la presentación es buena y el ambiente por eso...\n",
       "29    lugar recomendable para disfrutar de comida ma...\n",
       "30    restaurante con una decoración muy particular ...\n",
       "31    muy rico no tiene letrero lo ubicas x la embar...\n",
       "32    uno de mis lugares favorites en todo el mundo ...\n",
       "33    muy buen ceviche y el sudado tiene música pian...\n",
       "34    noo pasa nada fui con mucha expectativa pero m...\n",
       "35    mejor imposible excelente lugar comida y servi...\n",
       "36    buena opción para comida marina recomendable n...\n",
       "37    buena atención me gusta su jugo de maracuyá mu...\n",
       "38    lo malo poco estacionamiento hay que ir tempra...\n",
       "39    todo es increíble la comida el ambiente y la a...\n",
       "Name: comentario_limpio, dtype: object"
      ]
     },
     "execution_count": 11,
     "metadata": {},
     "output_type": "execute_result"
    }
   ],
   "source": [
    "data['comentario_limpio'].head(40)"
   ]
  },
  {
   "cell_type": "markdown",
   "id": "28b46cc5",
   "metadata": {},
   "source": [
    "Eliminar stopwords-> son palabras comunes que se considera irrelevantes para el análisis de texto debido a su alta frecuencia de aparición en un idioma determinado."
   ]
  },
  {
   "cell_type": "code",
   "execution_count": 12,
   "id": "828e4681",
   "metadata": {},
   "outputs": [],
   "source": [
    "stop_words = get_stop_words('spanish')\n",
    "stop_words.append(\"n\")\n",
    "stop_words.append(\"soles\")\n",
    "def deleteStopWord(text):\n",
    "    response = \"\"\n",
    "    tokens = text.split(\" \")\n",
    "    i = 0\n",
    "    for ti in tokens:\n",
    "        if(ti in stop_words):\n",
    "            continue\n",
    "        else:\n",
    "            if i == 0:\n",
    "                response = ti\n",
    "            else:\n",
    "                response = response + \" \" + ti\n",
    "        i = i + 1\n",
    "    return response"
   ]
  },
  {
   "cell_type": "code",
   "execution_count": 13,
   "id": "9a036d7c",
   "metadata": {},
   "outputs": [],
   "source": [
    "def remove_emojis(text):\n",
    "    emoji_pattern = re.compile(\"[\"\n",
    "                               u\"\\U0001F600-\\U0001F64F\"  # emoticons\n",
    "                               u\"\\U0001F300-\\U0001F5FF\"  # symbols & pictographs\n",
    "                               u\"\\U0001F680-\\U0001F6FF\"  # transport & map symbols\n",
    "                               u\"\\U0001F1E0-\\U0001F1FF\"  # flags (iOS)\n",
    "                               u\"\\U00002500-\\U00002BEF\"  # chinese char\n",
    "                               u\"\\U00002702-\\U000027B0\"\n",
    "                               u\"\\U00002702-\\U000027B0\"\n",
    "                               u\"\\U000024C2-\\U0001F251\"\n",
    "                               u\"\\U0001f926-\\U0001f937\"\n",
    "                               u\"\\U00010000-\\U0010ffff\"\n",
    "                               u\"\\u2640-\\u2642\"\n",
    "                               u\"\\u2600-\\u2B55\"\n",
    "                               u\"\\u200d\"\n",
    "                               u\"\\u23cf\"\n",
    "                               u\"\\u23e9\"\n",
    "                               u\"\\u231a\"\n",
    "                               u\"\\ufe0f\"  # dingbats\n",
    "                               u\"\\u3030\"\n",
    "                               \"]+\", flags=re.UNICODE)\n",
    "    return emoji_pattern.sub(r'', text)"
   ]
  },
  {
   "cell_type": "code",
   "execution_count": 14,
   "id": "7da50fd0",
   "metadata": {},
   "outputs": [],
   "source": [
    "#data['comentario_limpio'] = data['comentario_limpio'].apply(lambda texto: remove_emojis(texto))\n",
    "#data['comentario_limpio'].head(40)"
   ]
  },
  {
   "cell_type": "code",
   "execution_count": 15,
   "id": "e10921be",
   "metadata": {},
   "outputs": [
    {
     "data": {
      "text/plain": [
       "0     buena atención buen sabor mantiene platos mejo...\n",
       "1     mundo regrese sonia después tiempo parece desm...\n",
       "2     si bien comida deliciosa quizás precios elevad...\n",
       "3     vuelto después años debo decir sigue tan rico ...\n",
       "4     vi reviews probar cevicheria si platos jarra b...\n",
       "5     pedí parihuela agrado demasiado chuño decir ca...\n",
       "6                         gustó dos platos delicioso   \n",
       "7     lugar super caleta atienden puerta cerrada ir ...\n",
       "8     dejaron esperando puerta pedimos administrador...\n",
       "9     seguridad local pésima hacen esperar afuera lo...\n",
       "10    excelente lugar comer pescado lima calidad máx...\n",
       "11    sonia restaurante nunca perdió excelente calid...\n",
       "12    buenardo mires comida excelente atención formi...\n",
       "13    maravilloso almuerzo bella historia restaurant...\n",
       "14    platos ricos ambiente acogedor verano atención...\n",
       "15    lugar acogedor  leche tigre bueno  prove chich...\n",
       "16                               bueno  platos atención\n",
       "17    lugar escondido atención puerta cerrada atenci...\n",
       "18           excelente comida buena atención recomiendo\n",
       "19    servilletas vez leche tigre dan pichi tigre   ...\n",
       "20    primera vez iba recomendaron buenos platos bue...\n",
       "21    restaurante bueno familia solo atención client...\n",
       "22    rico  lugar acogedor combinación buen sabor bu...\n",
       "23    excelente  comida amenizada música criolla viv...\n",
       "24           bonito ambiente mala calidad ceviches pedí\n",
       "25    ambiente bonito música vivo platos pedimos bue...\n",
       "26    encantó venir excelente comida música vivo bue...\n",
       "27    cevichería tradicional dueño siempre vestido t...\n",
       "28    presentación buena ambiente estrella final va ...\n",
       "29    lugar recomendable disfrutar comida marina hua...\n",
       "30    restaurante decoración particular platos ricos...\n",
       "31             rico letrero ubicas x embarcacion puerta\n",
       "32    lugares favorites mundo buena comida servicio ...\n",
       "33                buen ceviche sudado música piano vivo\n",
       "34    noo pasa mucha expectativa decepcione       en...\n",
       "35    mejor imposible excelente lugar comida servici...\n",
       "36    buena opción comida marina recomendable llevar...\n",
       "37             buena atención gusta jugo maracuyá bueno\n",
       "38    malo estacionamiento ir temprano encontrar sit...\n",
       "39                   increíble comida ambiente atención\n",
       "Name: comentario_limpio, dtype: object"
      ]
     },
     "execution_count": 15,
     "metadata": {},
     "output_type": "execute_result"
    }
   ],
   "source": [
    "data['comentario_limpio'] = data['comentario_limpio'].apply(lambda texto: deleteStopWord(texto))\n",
    "data['comentario_limpio'].head(40)"
   ]
  },
  {
   "cell_type": "code",
   "execution_count": 16,
   "id": "a466a5f3",
   "metadata": {},
   "outputs": [
    {
     "data": {
      "text/html": [
       "<div>\n",
       "<style scoped>\n",
       "    .dataframe tbody tr th:only-of-type {\n",
       "        vertical-align: middle;\n",
       "    }\n",
       "\n",
       "    .dataframe tbody tr th {\n",
       "        vertical-align: top;\n",
       "    }\n",
       "\n",
       "    .dataframe thead th {\n",
       "        text-align: right;\n",
       "    }\n",
       "</style>\n",
       "<table border=\"1\" class=\"dataframe\">\n",
       "  <thead>\n",
       "    <tr style=\"text-align: right;\">\n",
       "      <th></th>\n",
       "      <th>coordenada</th>\n",
       "      <th>calificacion</th>\n",
       "      <th>comentario</th>\n",
       "      <th>comentario_limpio</th>\n",
       "    </tr>\n",
       "  </thead>\n",
       "  <tbody>\n",
       "    <tr>\n",
       "      <th>0</th>\n",
       "      <td>-12.0773039,-77.1696105,11z</td>\n",
       "      <td>4</td>\n",
       "      <td>buena atención y el buen sabor se mantiene, lo...</td>\n",
       "      <td>buena atención buen sabor mantiene platos mejo...</td>\n",
       "    </tr>\n",
       "    <tr>\n",
       "      <th>1</th>\n",
       "      <td>-12.0773039,-77.1696105,11z</td>\n",
       "      <td>3</td>\n",
       "      <td>nada del otro mundo.\\nregrese a sonia después ...</td>\n",
       "      <td>mundo regrese sonia después tiempo parece desm...</td>\n",
       "    </tr>\n",
       "    <tr>\n",
       "      <th>2</th>\n",
       "      <td>-12.0773039,-77.1696105,11z</td>\n",
       "      <td>4</td>\n",
       "      <td>si bien la comida es deliciosa, quizás los pre...</td>\n",
       "      <td>si bien comida deliciosa quizás precios elevad...</td>\n",
       "    </tr>\n",
       "    <tr>\n",
       "      <th>3</th>\n",
       "      <td>-12.0773039,-77.1696105,11z</td>\n",
       "      <td>5</td>\n",
       "      <td>he vuelto después de muchos años y debo decir ...</td>\n",
       "      <td>vuelto después años debo decir sigue tan rico ...</td>\n",
       "    </tr>\n",
       "    <tr>\n",
       "      <th>4</th>\n",
       "      <td>-12.0773039,-77.1696105,11z</td>\n",
       "      <td>1</td>\n",
       "      <td>vi los reviews y por eso fuimos probar a este ...</td>\n",
       "      <td>vi reviews probar cevicheria si platos jarra b...</td>\n",
       "    </tr>\n",
       "  </tbody>\n",
       "</table>\n",
       "</div>"
      ],
      "text/plain": [
       "                    coordenada  calificacion   \n",
       "0  -12.0773039,-77.1696105,11z             4  \\\n",
       "1  -12.0773039,-77.1696105,11z             3   \n",
       "2  -12.0773039,-77.1696105,11z             4   \n",
       "3  -12.0773039,-77.1696105,11z             5   \n",
       "4  -12.0773039,-77.1696105,11z             1   \n",
       "\n",
       "                                          comentario   \n",
       "0  buena atención y el buen sabor se mantiene, lo...  \\\n",
       "1  nada del otro mundo.\\nregrese a sonia después ...   \n",
       "2  si bien la comida es deliciosa, quizás los pre...   \n",
       "3  he vuelto después de muchos años y debo decir ...   \n",
       "4  vi los reviews y por eso fuimos probar a este ...   \n",
       "\n",
       "                                   comentario_limpio  \n",
       "0  buena atención buen sabor mantiene platos mejo...  \n",
       "1  mundo regrese sonia después tiempo parece desm...  \n",
       "2  si bien comida deliciosa quizás precios elevad...  \n",
       "3  vuelto después años debo decir sigue tan rico ...  \n",
       "4  vi reviews probar cevicheria si platos jarra b...  "
      ]
     },
     "execution_count": 16,
     "metadata": {},
     "output_type": "execute_result"
    }
   ],
   "source": [
    "dataset.to_csv('procesado_comentario_restaurantes.csv')\n",
    "data.head(5)"
   ]
  },
  {
   "cell_type": "code",
   "execution_count": 17,
   "id": "1dc800bc",
   "metadata": {},
   "outputs": [],
   "source": [
    "df2 = pd.DataFrame(data[\"comentario_limpio\"].values)\n",
    "np.savetxt(\"comentarios_sentimientos.txt\",df2,fmt=\"%s\",encoding=\"utf-8\")"
   ]
  },
  {
   "cell_type": "markdown",
   "id": "98536775",
   "metadata": {},
   "source": [
    "2. Word2Vec"
   ]
  },
  {
   "cell_type": "code",
   "execution_count": 18,
   "id": "5c93493f",
   "metadata": {},
   "outputs": [
    {
     "data": {
      "text/plain": [
       "(285028, 441330)"
      ]
     },
     "execution_count": 18,
     "metadata": {},
     "output_type": "execute_result"
    }
   ],
   "source": [
    "model = Word2Vec()\n",
    "model.build_vocab(Text8Corpus('comentarios_sentimientos.txt'))\n",
    "model.train(Text8Corpus('comentarios_sentimientos.txt'), total_examples=model.corpus_count, epochs=model.epochs)\n",
    "#oraciones = word2vec.Text8Corpus(\"comentarios_sentimientos.txt\")\n",
    "#modelo_w2v = word2vec.Word2Vec(oraciones,vector_size=100)"
   ]
  },
  {
   "cell_type": "code",
   "execution_count": 19,
   "id": "03ad0487",
   "metadata": {},
   "outputs": [],
   "source": [
    "def getFV(document):\n",
    "    words=document.split()\n",
    "    s=np.zeros(100)\n",
    "    k=1\n",
    "    for w in words:\n",
    "        if w in model.wv.index_to_key:\n",
    "            s=s+model.wv.get_vector(w)\n",
    "            k=k+1\n",
    "    return s/k"
   ]
  },
  {
   "cell_type": "code",
   "execution_count": 69,
   "id": "8bc5cfdf",
   "metadata": {},
   "outputs": [
    {
     "data": {
      "text/plain": [
       "[('parrillas', 0.9995855689048767),\n",
       " ('encanta', 0.9994643926620483),\n",
       " ('gustó', 0.9994365572929382),\n",
       " ('sabroso', 0.9994293451309204),\n",
       " ('presentación', 0.9994068741798401),\n",
       " ('vinos', 0.9993808269500732),\n",
       " ('buenísimo', 0.9993787407875061),\n",
       " ('pastas', 0.9993581175804138),\n",
       " ('exquisito', 0.9993448257446289),\n",
       " ('postres', 0.9993438124656677)]"
      ]
     },
     "execution_count": 69,
     "metadata": {},
     "output_type": "execute_result"
    }
   ],
   "source": [
    "word_vectors = model.wv \n",
    "word_vectors.most_similar(\"riquísimo\")"
   ]
  },
  {
   "cell_type": "code",
   "execution_count": 66,
   "id": "f4bde916",
   "metadata": {},
   "outputs": [
    {
     "name": "stdout",
     "output_type": "stream",
     "text": [
      "[0. 0. 0. 0. 0. 0. 0. 0. 0. 0. 0. 0. 0. 0. 0. 0. 0. 0. 0. 0. 0. 0. 0. 0.\n",
      " 0. 0. 0. 0. 0. 0. 0. 0. 0. 0. 0. 0. 0. 0. 0. 0. 0. 0. 0. 0. 0. 0. 0. 0.\n",
      " 0. 0. 0. 0. 0. 0. 0. 0. 0. 0. 0. 0. 0. 0. 0. 0. 0. 0. 0. 0. 0. 0. 0. 0.\n",
      " 0. 0. 0. 0. 0. 0. 0. 0. 0. 0. 0. 0. 0. 0. 0. 0. 0. 0. 0. 0. 0. 0. 0. 0.\n",
      " 0. 0. 0. 0.]\n"
     ]
    }
   ],
   "source": [
    "print(getFV('rekecheche'))"
   ]
  },
  {
   "cell_type": "code",
   "execution_count": 60,
   "id": "b9acc0a0",
   "metadata": {},
   "outputs": [],
   "source": [
    "data_set = []\n",
    "for index, row in data.iterrows():\n",
    "    vector = getFV(row['comentario_limpio'])\n",
    "    new_vector = np.append(vector, row['calificacion'])\n",
    "    data_set.append(new_vector)"
   ]
  },
  {
   "cell_type": "code",
   "execution_count": 61,
   "id": "52ca9e97",
   "metadata": {},
   "outputs": [],
   "source": [
    "data_set_transformada = pd.DataFrame(np.array(data_set))"
   ]
  },
  {
   "cell_type": "code",
   "execution_count": 62,
   "id": "39b93096",
   "metadata": {},
   "outputs": [
    {
     "data": {
      "text/html": [
       "<div>\n",
       "<style scoped>\n",
       "    .dataframe tbody tr th:only-of-type {\n",
       "        vertical-align: middle;\n",
       "    }\n",
       "\n",
       "    .dataframe tbody tr th {\n",
       "        vertical-align: top;\n",
       "    }\n",
       "\n",
       "    .dataframe thead th {\n",
       "        text-align: right;\n",
       "    }\n",
       "</style>\n",
       "<table border=\"1\" class=\"dataframe\">\n",
       "  <thead>\n",
       "    <tr style=\"text-align: right;\">\n",
       "      <th></th>\n",
       "      <th>0</th>\n",
       "      <th>1</th>\n",
       "      <th>2</th>\n",
       "      <th>3</th>\n",
       "      <th>4</th>\n",
       "      <th>5</th>\n",
       "      <th>6</th>\n",
       "      <th>7</th>\n",
       "      <th>8</th>\n",
       "      <th>9</th>\n",
       "      <th>...</th>\n",
       "      <th>91</th>\n",
       "      <th>92</th>\n",
       "      <th>93</th>\n",
       "      <th>94</th>\n",
       "      <th>95</th>\n",
       "      <th>96</th>\n",
       "      <th>97</th>\n",
       "      <th>98</th>\n",
       "      <th>99</th>\n",
       "      <th>100</th>\n",
       "    </tr>\n",
       "  </thead>\n",
       "  <tbody>\n",
       "    <tr>\n",
       "      <th>0</th>\n",
       "      <td>-0.087611</td>\n",
       "      <td>0.245841</td>\n",
       "      <td>0.098854</td>\n",
       "      <td>0.227338</td>\n",
       "      <td>0.079565</td>\n",
       "      <td>-0.527318</td>\n",
       "      <td>0.140466</td>\n",
       "      <td>0.600241</td>\n",
       "      <td>-0.108659</td>\n",
       "      <td>-0.311108</td>\n",
       "      <td>...</td>\n",
       "      <td>0.172034</td>\n",
       "      <td>-0.078203</td>\n",
       "      <td>-0.005088</td>\n",
       "      <td>0.536370</td>\n",
       "      <td>0.281730</td>\n",
       "      <td>0.305118</td>\n",
       "      <td>-0.464667</td>\n",
       "      <td>0.134667</td>\n",
       "      <td>-0.170730</td>\n",
       "      <td>4.0</td>\n",
       "    </tr>\n",
       "    <tr>\n",
       "      <th>1</th>\n",
       "      <td>-0.066027</td>\n",
       "      <td>0.171610</td>\n",
       "      <td>0.081382</td>\n",
       "      <td>0.170564</td>\n",
       "      <td>0.060146</td>\n",
       "      <td>-0.396757</td>\n",
       "      <td>0.063508</td>\n",
       "      <td>0.411752</td>\n",
       "      <td>-0.049774</td>\n",
       "      <td>-0.187983</td>\n",
       "      <td>...</td>\n",
       "      <td>0.121639</td>\n",
       "      <td>-0.063811</td>\n",
       "      <td>0.011788</td>\n",
       "      <td>0.364601</td>\n",
       "      <td>0.191560</td>\n",
       "      <td>0.212709</td>\n",
       "      <td>-0.336335</td>\n",
       "      <td>0.104309</td>\n",
       "      <td>-0.099223</td>\n",
       "      <td>3.0</td>\n",
       "    </tr>\n",
       "    <tr>\n",
       "      <th>2</th>\n",
       "      <td>-0.085084</td>\n",
       "      <td>0.245897</td>\n",
       "      <td>0.103965</td>\n",
       "      <td>0.228153</td>\n",
       "      <td>0.084266</td>\n",
       "      <td>-0.526929</td>\n",
       "      <td>0.144075</td>\n",
       "      <td>0.603114</td>\n",
       "      <td>-0.107866</td>\n",
       "      <td>-0.313817</td>\n",
       "      <td>...</td>\n",
       "      <td>0.172610</td>\n",
       "      <td>-0.074927</td>\n",
       "      <td>-0.006076</td>\n",
       "      <td>0.538414</td>\n",
       "      <td>0.281266</td>\n",
       "      <td>0.310186</td>\n",
       "      <td>-0.466735</td>\n",
       "      <td>0.134801</td>\n",
       "      <td>-0.177632</td>\n",
       "      <td>4.0</td>\n",
       "    </tr>\n",
       "    <tr>\n",
       "      <th>3</th>\n",
       "      <td>-0.078413</td>\n",
       "      <td>0.235320</td>\n",
       "      <td>0.097756</td>\n",
       "      <td>0.216279</td>\n",
       "      <td>0.074272</td>\n",
       "      <td>-0.506491</td>\n",
       "      <td>0.138054</td>\n",
       "      <td>0.572613</td>\n",
       "      <td>-0.101471</td>\n",
       "      <td>-0.299719</td>\n",
       "      <td>...</td>\n",
       "      <td>0.168147</td>\n",
       "      <td>-0.071678</td>\n",
       "      <td>-0.008077</td>\n",
       "      <td>0.520195</td>\n",
       "      <td>0.266866</td>\n",
       "      <td>0.295655</td>\n",
       "      <td>-0.447613</td>\n",
       "      <td>0.131431</td>\n",
       "      <td>-0.167759</td>\n",
       "      <td>5.0</td>\n",
       "    </tr>\n",
       "    <tr>\n",
       "      <th>4</th>\n",
       "      <td>-0.068302</td>\n",
       "      <td>0.187882</td>\n",
       "      <td>0.089218</td>\n",
       "      <td>0.195271</td>\n",
       "      <td>0.062657</td>\n",
       "      <td>-0.433128</td>\n",
       "      <td>0.069227</td>\n",
       "      <td>0.452829</td>\n",
       "      <td>-0.055169</td>\n",
       "      <td>-0.206540</td>\n",
       "      <td>...</td>\n",
       "      <td>0.135550</td>\n",
       "      <td>-0.072702</td>\n",
       "      <td>0.014929</td>\n",
       "      <td>0.404330</td>\n",
       "      <td>0.206867</td>\n",
       "      <td>0.233371</td>\n",
       "      <td>-0.369065</td>\n",
       "      <td>0.116603</td>\n",
       "      <td>-0.105865</td>\n",
       "      <td>1.0</td>\n",
       "    </tr>\n",
       "  </tbody>\n",
       "</table>\n",
       "<p>5 rows × 101 columns</p>\n",
       "</div>"
      ],
      "text/plain": [
       "        0         1         2         3         4         5         6     \n",
       "0 -0.087611  0.245841  0.098854  0.227338  0.079565 -0.527318  0.140466  \\\n",
       "1 -0.066027  0.171610  0.081382  0.170564  0.060146 -0.396757  0.063508   \n",
       "2 -0.085084  0.245897  0.103965  0.228153  0.084266 -0.526929  0.144075   \n",
       "3 -0.078413  0.235320  0.097756  0.216279  0.074272 -0.506491  0.138054   \n",
       "4 -0.068302  0.187882  0.089218  0.195271  0.062657 -0.433128  0.069227   \n",
       "\n",
       "        7         8         9    ...       91        92        93        94    \n",
       "0  0.600241 -0.108659 -0.311108  ...  0.172034 -0.078203 -0.005088  0.536370  \\\n",
       "1  0.411752 -0.049774 -0.187983  ...  0.121639 -0.063811  0.011788  0.364601   \n",
       "2  0.603114 -0.107866 -0.313817  ...  0.172610 -0.074927 -0.006076  0.538414   \n",
       "3  0.572613 -0.101471 -0.299719  ...  0.168147 -0.071678 -0.008077  0.520195   \n",
       "4  0.452829 -0.055169 -0.206540  ...  0.135550 -0.072702  0.014929  0.404330   \n",
       "\n",
       "        95        96        97        98        99   100  \n",
       "0  0.281730  0.305118 -0.464667  0.134667 -0.170730  4.0  \n",
       "1  0.191560  0.212709 -0.336335  0.104309 -0.099223  3.0  \n",
       "2  0.281266  0.310186 -0.466735  0.134801 -0.177632  4.0  \n",
       "3  0.266866  0.295655 -0.447613  0.131431 -0.167759  5.0  \n",
       "4  0.206867  0.233371 -0.369065  0.116603 -0.105865  1.0  \n",
       "\n",
       "[5 rows x 101 columns]"
      ]
     },
     "execution_count": 62,
     "metadata": {},
     "output_type": "execute_result"
    }
   ],
   "source": [
    "data_set_transformada.head(5)"
   ]
  },
  {
   "cell_type": "code",
   "execution_count": 63,
   "id": "a6eb2ac0",
   "metadata": {},
   "outputs": [],
   "source": [
    "data_set_transformada.to_csv('data_set_restaurantes_comentarios.csv', index=False)"
   ]
  },
  {
   "cell_type": "code",
   "execution_count": 43,
   "id": "a72ad30e",
   "metadata": {},
   "outputs": [],
   "source": []
  },
  {
   "cell_type": "code",
   "execution_count": null,
   "id": "8b47ca2b",
   "metadata": {},
   "outputs": [],
   "source": []
  },
  {
   "cell_type": "code",
   "execution_count": null,
   "id": "60dc3a3a",
   "metadata": {},
   "outputs": [],
   "source": []
  }
 ],
 "metadata": {
  "kernelspec": {
   "display_name": "Python 3 (ipykernel)",
   "language": "python",
   "name": "python3"
  },
  "language_info": {
   "codemirror_mode": {
    "name": "ipython",
    "version": 3
   },
   "file_extension": ".py",
   "mimetype": "text/x-python",
   "name": "python",
   "nbconvert_exporter": "python",
   "pygments_lexer": "ipython3",
   "version": "3.10.6"
  }
 },
 "nbformat": 4,
 "nbformat_minor": 5
}
